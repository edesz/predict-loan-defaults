{
 "cells": [
  {
   "cell_type": "markdown",
   "metadata": {},
   "source": [
    "# Evaluating problem of predicting Lending Club loan outcomes"
   ]
  },
  {
   "cell_type": "code",
   "execution_count": 1,
   "metadata": {
    "execution": {
     "iopub.execute_input": "2020-11-26T02:11:17.298259Z",
     "iopub.status.busy": "2020-11-26T02:11:17.297682Z",
     "iopub.status.idle": "2020-11-26T02:11:17.359794Z",
     "shell.execute_reply": "2020-11-26T02:11:17.359318Z",
     "shell.execute_reply.started": "2020-11-26T02:11:17.298115Z"
    }
   },
   "outputs": [],
   "source": [
    "%load_ext lab_black\n",
    "%load_ext autoreload\n",
    "%autoreload 2"
   ]
  },
  {
   "cell_type": "code",
   "execution_count": 2,
   "metadata": {
    "execution": {
     "iopub.execute_input": "2020-11-26T02:11:17.955067Z",
     "iopub.status.busy": "2020-11-26T02:11:17.954861Z",
     "iopub.status.idle": "2020-11-26T02:11:18.520597Z",
     "shell.execute_reply": "2020-11-26T02:11:18.520155Z",
     "shell.execute_reply.started": "2020-11-26T02:11:17.955039Z"
    }
   },
   "outputs": [],
   "source": [
    "from multiprocessing import cpu_count\n",
    "\n",
    "import matplotlib.pyplot as plt\n",
    "import matplotlib.ticker as mtick\n",
    "import numpy as np\n",
    "import pandas as pd\n",
    "import seaborn as sns\n",
    "from joblib import Parallel, delayed\n",
    "from sklearn.dummy import DummyClassifier"
   ]
  },
  {
   "cell_type": "code",
   "execution_count": 3,
   "metadata": {
    "execution": {
     "iopub.execute_input": "2020-11-26T02:11:18.521316Z",
     "iopub.status.busy": "2020-11-26T02:11:18.521209Z",
     "iopub.status.idle": "2020-11-26T02:11:18.594972Z",
     "shell.execute_reply": "2020-11-26T02:11:18.594523Z",
     "shell.execute_reply.started": "2020-11-26T02:11:18.521303Z"
    }
   },
   "outputs": [],
   "source": [
    "%aimport src.business_helpers\n",
    "from src.business_helpers import convert_confusion_matrix_to_business_cost\n",
    "\n",
    "%aimport src.visualization_helpers\n",
    "from src.visualization_helpers import plot_multiple_boxplots, plot_multi_catplot"
   ]
  },
  {
   "cell_type": "markdown",
   "metadata": {},
   "source": [
    "## About"
   ]
  },
  {
   "cell_type": "markdown",
   "metadata": {},
   "source": [
    "This will be a scoping exercise to explore the outcome of Lending Club loans. The total income (total return) that an investor can expect to gain/lose by simple techniques to predict all loan outcomes will be estimated using artifically generated data. This will inform the stakeholder (a conservative investor) as to whether more advanced techniques to predict these outcomes are warranted. Quantitative performance per loan for the naively made predictions will also be established as a baseline against which more advanced techniques can be compared."
   ]
  },
  {
   "cell_type": "markdown",
   "metadata": {},
   "source": [
    "## User Inputs"
   ]
  },
  {
   "cell_type": "code",
   "execution_count": 4,
   "metadata": {
    "execution": {
     "iopub.execute_input": "2020-11-26T02:11:21.917151Z",
     "iopub.status.busy": "2020-11-26T02:11:21.917007Z",
     "iopub.status.idle": "2020-11-26T02:11:21.928083Z",
     "shell.execute_reply": "2020-11-26T02:11:21.927562Z",
     "shell.execute_reply.started": "2020-11-26T02:11:21.917136Z"
    }
   },
   "outputs": [],
   "source": [
    "np.random.seed(2)"
   ]
  },
  {
   "cell_type": "code",
   "execution_count": 5,
   "metadata": {
    "execution": {
     "iopub.execute_input": "2020-11-26T02:11:22.268027Z",
     "iopub.status.busy": "2020-11-26T02:11:22.267488Z",
     "iopub.status.idle": "2020-11-26T02:11:22.304638Z",
     "shell.execute_reply": "2020-11-26T02:11:22.303640Z",
     "shell.execute_reply.started": "2020-11-26T02:11:22.267967Z"
    },
    "tags": [
     "parameters"
    ]
   },
   "outputs": [],
   "source": [
    "frac_defaults = 0.15\n",
    "n_rows = 10_000\n",
    "P_mean = 11_000\n",
    "P_std = 5_000\n",
    "A_mean = 0.15\n",
    "class_labels = [0, 1]"
   ]
  },
  {
   "cell_type": "code",
   "execution_count": 10,
   "metadata": {
    "execution": {
     "iopub.execute_input": "2020-11-26T02:11:26.157856Z",
     "iopub.status.busy": "2020-11-26T02:11:26.157318Z",
     "iopub.status.idle": "2020-11-26T02:11:26.174980Z",
     "shell.execute_reply": "2020-11-26T02:11:26.174623Z",
     "shell.execute_reply.started": "2020-11-26T02:11:26.157795Z"
    }
   },
   "outputs": [],
   "source": [
    "class Borrowers:\n",
    "    def __init__(self, frac_defaults=0.10, n_samples=10_000, classes=[0, 1]):\n",
    "        self.frac_defaults = frac_defaults\n",
    "        self.n_samples = n_samples\n",
    "        self.classes = classes\n",
    "\n",
    "    def get_random_samples(self):\n",
    "        probabilities = [(1 - self.frac_defaults), self.frac_defaults]\n",
    "        return np.random.choice(self.classes, self.n_samples, p=probabilities)"
   ]
  },
  {
   "cell_type": "code",
   "execution_count": 6,
   "metadata": {
    "execution": {
     "iopub.execute_input": "2020-11-26T02:11:22.638191Z",
     "iopub.status.busy": "2020-11-26T02:11:22.637697Z",
     "iopub.status.idle": "2020-11-26T02:11:22.660074Z",
     "shell.execute_reply": "2020-11-26T02:11:22.659604Z",
     "shell.execute_reply.started": "2020-11-26T02:11:22.638136Z"
    }
   },
   "outputs": [],
   "source": [
    "def generate_predictions(df, strategy=\"uniform\", frac_defaults=0.15):\n",
    "    if strategy != \"random\":\n",
    "        clf = DummyClassifier(strategy=strategy)\n",
    "        clf.fit(df[[\"t\"]], df[\"t\"])\n",
    "        p = pd.Series(clf.predict(df[[\"t\"]]), index=df.index)\n",
    "    else:\n",
    "        p = pd.Series(0, index=df.index)\n",
    "        p.iloc[p.sample(frac=frac_defaults, random_state=55).index] = 1\n",
    "    return p"
   ]
  },
  {
   "cell_type": "code",
   "execution_count": 7,
   "metadata": {
    "execution": {
     "iopub.execute_input": "2020-11-26T02:11:23.945139Z",
     "iopub.status.busy": "2020-11-26T02:11:23.944966Z",
     "iopub.status.idle": "2020-11-26T02:11:23.961411Z",
     "shell.execute_reply": "2020-11-26T02:11:23.960928Z",
     "shell.execute_reply.started": "2020-11-26T02:11:23.945112Z"
    }
   },
   "outputs": [],
   "source": [
    "def rowwise_calculate_avg_return_vs_theoretical(\n",
    "    principal,\n",
    "    y_true,\n",
    "    y_pred,\n",
    "    total_income,\n",
    "):\n",
    "    cm_labels = np.sort(np.unique([0, 1]))\n",
    "    ds_predicted = convert_confusion_matrix_to_business_cost(\n",
    "        y_true,\n",
    "        y_pred,\n",
    "        cm_labels,\n",
    "        principal,\n",
    "        total_income,\n",
    "    )\n",
    "    ds_true = convert_confusion_matrix_to_business_cost(\n",
    "        y_true,\n",
    "        y_true,\n",
    "        cm_labels,\n",
    "        principal,\n",
    "        total_income,\n",
    "    )\n",
    "    err = np.abs(ds_predicted - ds_true)\n",
    "    return err"
   ]
  },
  {
   "cell_type": "code",
   "execution_count": 8,
   "metadata": {
    "execution": {
     "iopub.execute_input": "2020-11-26T02:11:24.110630Z",
     "iopub.status.busy": "2020-11-26T02:11:24.110440Z",
     "iopub.status.idle": "2020-11-26T02:11:24.132022Z",
     "shell.execute_reply": "2020-11-26T02:11:24.131500Z",
     "shell.execute_reply.started": "2020-11-26T02:11:24.110610Z"
    }
   },
   "outputs": [],
   "source": [
    "def calculate_return(P, A, df):\n",
    "    s = pd.Series(\n",
    "        np.zeros(\n",
    "            [\n",
    "                len(df),\n",
    "            ]\n",
    "        ),\n",
    "        index=df.index,\n",
    "    )\n",
    "\n",
    "    # Following manual approach could also be done using a\n",
    "    # confusion matrix\n",
    "    indx = df.loc[(df[\"t\"] == 1) & (df[\"p\"] == 0)].index\n",
    "    s.loc[indx] = -P\n",
    "\n",
    "    indx = df.loc[(df[\"t\"] == 0) & (df[\"p\"] == 1)].index\n",
    "    s.loc[indx] = -A\n",
    "\n",
    "    indx = df.loc[(df[\"t\"] == 1) & (df[\"p\"] == 1)].index\n",
    "    s.loc[indx] = 0\n",
    "\n",
    "    indx = df.loc[(df[\"t\"] == 0) & (df[\"p\"] == 0)].index\n",
    "    s.loc[indx] = A\n",
    "    return s"
   ]
  },
  {
   "cell_type": "code",
   "execution_count": 9,
   "metadata": {
    "execution": {
     "iopub.execute_input": "2020-11-26T02:11:24.667053Z",
     "iopub.status.busy": "2020-11-26T02:11:24.666280Z",
     "iopub.status.idle": "2020-11-26T02:11:24.704108Z",
     "shell.execute_reply": "2020-11-26T02:11:24.703616Z",
     "shell.execute_reply.started": "2020-11-26T02:11:24.666963Z"
    }
   },
   "outputs": [],
   "source": [
    "def calculate_ae_return(df, strategy=\"most_frequent\", frac_defaults=0.15, trial_num=1):\n",
    "    df[\"p\"] = generate_predictions(df, strategy, frac_defaults)\n",
    "    return {\n",
    "        f\"ae\": pd.Series(\n",
    "            np.vectorize(rowwise_calculate_avg_return_vs_theoretical)(\n",
    "                df[\"P\"],\n",
    "                df[\"t\"],\n",
    "                df[\"p\"],\n",
    "                df[\"A\"],\n",
    "            ),\n",
    "            index=df.index,\n",
    "        ).tolist(),\n",
    "        f\"return\": calculate_return(df[\"P\"], df[\"A\"], df),\n",
    "        \"strategy\": [strategy] * len(df),\n",
    "        \"trial\": [trial_num] * len(df),\n",
    "    }"
   ]
  },
  {
   "cell_type": "code",
   "execution_count": null,
   "metadata": {},
   "outputs": [],
   "source": [
    "def run_single_trial(df, frac_defaults, n=1):\n",
    "    executor = Parallel(n_jobs=cpu_count(), backend=\"multiprocessing\")\n",
    "    tasks = (\n",
    "        delayed(calculate_ae_return)(df, s, frac_defaults, n)\n",
    "        for s in [\"uniform\", \"stratified\", \"most_frequent\", \"random\"]\n",
    "    )\n",
    "    dict_scores = executor(tasks)\n",
    "    dfs = [\n",
    "        (pd.DataFrame(dict_score.values()).T).rename(\n",
    "            columns={\n",
    "                0: list(dict_score.keys())[0],\n",
    "                1: list(dict_score.keys())[1],\n",
    "                2: \"strategy\",\n",
    "                3: \"trial\",\n",
    "            }\n",
    "        )\n",
    "        for dict_score in dict_scores\n",
    "    ]\n",
    "    dfs_ae_scores = pd.concat(dfs)\n",
    "    dfs_ae_scores[[\"ae\", \"return\"]] = dfs_ae_scores[[\"ae\", \"return\"]].apply(\n",
    "        pd.to_numeric, errors=\"coerce\"\n",
    "    )\n",
    "    return dfs_ae_scores"
   ]
  },
  {
   "cell_type": "markdown",
   "metadata": {},
   "source": [
    "## Generate Data"
   ]
  },
  {
   "cell_type": "markdown",
   "metadata": {},
   "source": [
    "### Generate true outcomes randomly"
   ]
  },
  {
   "cell_type": "markdown",
   "metadata": {},
   "source": [
    "The following is the reasoning used in simulating the data to represent the outcomes of the loans - the `t` column below\n",
    "1. When the borrower defaults on a loan, this outcome is a deterministic process. It does not occur randomly. If the internal state of the borrower is known, it is possible to assign whether or not the loan will result in a default. There is no randomness in this assignment process itself. All the randomness is only assumed to determine the outcome since it is not known *apriori* how the internal state of the borrower works.\n",
    "2. Although not done here, borrowers themselves could generated at random. Everything about them is not known at this time. There are a lot of details (internal state) about the loan borrower and we are completely unaware of what those are when they borrow the loan. This determines the loan outcome. But the loan borrowers could be sampled from a population of people. Their preferences woluld be fixed when they are created. We would not know what they are but they would be set when they are created. We decide whether they default or not. In the current case, the loan borrowers aren't created but their outcomes are randomly assigned."
   ]
  },
  {
   "cell_type": "code",
   "execution_count": 11,
   "metadata": {
    "execution": {
     "iopub.execute_input": "2020-11-26T02:11:26.336584Z",
     "iopub.status.busy": "2020-11-26T02:11:26.336095Z",
     "iopub.status.idle": "2020-11-26T02:11:26.380472Z",
     "shell.execute_reply": "2020-11-26T02:11:26.379883Z",
     "shell.execute_reply.started": "2020-11-26T02:11:26.336528Z"
    }
   },
   "outputs": [
    {
     "data": {
      "text/html": [
       "<div>\n",
       "<style scoped>\n",
       "    .dataframe tbody tr th:only-of-type {\n",
       "        vertical-align: middle;\n",
       "    }\n",
       "\n",
       "    .dataframe tbody tr th {\n",
       "        vertical-align: top;\n",
       "    }\n",
       "\n",
       "    .dataframe thead th {\n",
       "        text-align: right;\n",
       "    }\n",
       "</style>\n",
       "<table border=\"1\" class=\"dataframe\">\n",
       "  <thead>\n",
       "    <tr style=\"text-align: right;\">\n",
       "      <th></th>\n",
       "      <th>t</th>\n",
       "    </tr>\n",
       "  </thead>\n",
       "  <tbody>\n",
       "    <tr>\n",
       "      <th>0</th>\n",
       "      <td>0.8505</td>\n",
       "    </tr>\n",
       "    <tr>\n",
       "      <th>1</th>\n",
       "      <td>0.1495</td>\n",
       "    </tr>\n",
       "  </tbody>\n",
       "</table>\n",
       "</div>"
      ],
      "text/plain": [
       "        t\n",
       "0  0.8505\n",
       "1  0.1495"
      ]
     },
     "metadata": {},
     "output_type": "display_data"
    }
   ],
   "source": [
    "df = pd.DataFrame(\n",
    "    Borrowers(frac_defaults, n_rows, class_labels).get_random_samples(),\n",
    "    index=range(n_rows),\n",
    "    columns=[\"t\"],\n",
    ")\n",
    "display(df[\"t\"].value_counts(normalize=True).to_frame())"
   ]
  },
  {
   "cell_type": "code",
   "execution_count": null,
   "metadata": {},
   "outputs": [],
   "source": [
    "# df = pd.DataFrame(np.zeros([n_rows, 1]), index=range(n_rows), columns=[\"t\"]).astype(int)\n",
    "# df.iloc[df[\"t\"].sample(frac=frac_defaults, random_state=6).index, 0] = 1\n",
    "# display(df[\"t\"].value_counts(normalize=True).to_frame())"
   ]
  },
  {
   "cell_type": "markdown",
   "metadata": {},
   "source": [
    "### Generate randomly distributed loan amounts (principals)"
   ]
  },
  {
   "cell_type": "markdown",
   "metadata": {},
   "source": [
    "Next, the loan principal (a continuous variable) is assumed to follow a normal distribution with an average value of $\\$$11,000. The standard deviation of the distribution is chosen to be $\\$$5,000. Negative and zero values are filtered out of the data, since the loan principal cannot be negative. The maximum loan generated using this approach is approximately $\\$$30,000."
   ]
  },
  {
   "cell_type": "code",
   "execution_count": 12,
   "metadata": {
    "execution": {
     "iopub.execute_input": "2020-11-26T02:11:29.148337Z",
     "iopub.status.busy": "2020-11-26T02:11:29.147799Z",
     "iopub.status.idle": "2020-11-26T02:11:29.168227Z",
     "shell.execute_reply": "2020-11-26T02:11:29.167759Z",
     "shell.execute_reply.started": "2020-11-26T02:11:29.148278Z"
    }
   },
   "outputs": [],
   "source": [
    "df[\"P\"] = np.random.normal(P_mean, P_std, size=len(df))\n",
    "df = df.loc[df[\"P\"] > 0].reset_index(drop=True)"
   ]
  },
  {
   "cell_type": "markdown",
   "metadata": {},
   "source": [
    "### Approximate loan income (return) as fraction of principal"
   ]
  },
  {
   "cell_type": "markdown",
   "metadata": {},
   "source": [
    "The total loan return is assumed to be 15% of the principal, which is approximately the highest possible return [reported in Lending Club's historical data](https://www.lendingclub.com/info/demand-and-credit-profile.action) (see chart titled **NET ANNUALIZED RETURN BY VINTAGE**). Note that in this chart, the annualized return is re-calculated after each month of the term of the loan.\n",
    "\n",
    "From the chart in the historical data, the reported anualized return starts at approx. 15% and then drops off over the term of the loan (shown in the historical data by month). For a 36 month (three year) term, the annualized return of 15% should be expected to have been received by the lender for each of the three years. The simplifying assumption made here is that the annual return stays constant at 15% and represents an over-estimation of the true return."
   ]
  },
  {
   "cell_type": "code",
   "execution_count": 13,
   "metadata": {
    "execution": {
     "iopub.execute_input": "2020-11-26T02:11:31.134710Z",
     "iopub.status.busy": "2020-11-26T02:11:31.133893Z",
     "iopub.status.idle": "2020-11-26T02:11:31.176608Z",
     "shell.execute_reply": "2020-11-26T02:11:31.175923Z",
     "shell.execute_reply.started": "2020-11-26T02:11:31.134616Z"
    }
   },
   "outputs": [],
   "source": [
    "df[\"A\"] = df[\"P\"] * A_mean"
   ]
  },
  {
   "cell_type": "markdown",
   "metadata": {},
   "source": [
    "The first ten rows of the data are shown below"
   ]
  },
  {
   "cell_type": "code",
   "execution_count": 14,
   "metadata": {
    "execution": {
     "iopub.execute_input": "2020-11-26T02:11:32.254613Z",
     "iopub.status.busy": "2020-11-26T02:11:32.254110Z",
     "iopub.status.idle": "2020-11-26T02:11:32.293186Z",
     "shell.execute_reply": "2020-11-26T02:11:32.292425Z",
     "shell.execute_reply.started": "2020-11-26T02:11:32.254559Z"
    }
   },
   "outputs": [
    {
     "data": {
      "text/html": [
       "<div>\n",
       "<style scoped>\n",
       "    .dataframe tbody tr th:only-of-type {\n",
       "        vertical-align: middle;\n",
       "    }\n",
       "\n",
       "    .dataframe tbody tr th {\n",
       "        vertical-align: top;\n",
       "    }\n",
       "\n",
       "    .dataframe thead th {\n",
       "        text-align: right;\n",
       "    }\n",
       "</style>\n",
       "<table border=\"1\" class=\"dataframe\">\n",
       "  <thead>\n",
       "    <tr style=\"text-align: right;\">\n",
       "      <th></th>\n",
       "      <th>t</th>\n",
       "      <th>P</th>\n",
       "      <th>A</th>\n",
       "    </tr>\n",
       "  </thead>\n",
       "  <tbody>\n",
       "    <tr>\n",
       "      <th>0</th>\n",
       "      <td>0</td>\n",
       "      <td>11519.126527</td>\n",
       "      <td>1727.868979</td>\n",
       "    </tr>\n",
       "    <tr>\n",
       "      <th>1</th>\n",
       "      <td>0</td>\n",
       "      <td>11534.550549</td>\n",
       "      <td>1730.182582</td>\n",
       "    </tr>\n",
       "    <tr>\n",
       "      <th>2</th>\n",
       "      <td>0</td>\n",
       "      <td>7486.099640</td>\n",
       "      <td>1122.914946</td>\n",
       "    </tr>\n",
       "    <tr>\n",
       "      <th>3</th>\n",
       "      <td>0</td>\n",
       "      <td>8848.873913</td>\n",
       "      <td>1327.331087</td>\n",
       "    </tr>\n",
       "    <tr>\n",
       "      <th>4</th>\n",
       "      <td>0</td>\n",
       "      <td>5625.740410</td>\n",
       "      <td>843.861061</td>\n",
       "    </tr>\n",
       "    <tr>\n",
       "      <th>5</th>\n",
       "      <td>0</td>\n",
       "      <td>17880.662221</td>\n",
       "      <td>2682.099333</td>\n",
       "    </tr>\n",
       "    <tr>\n",
       "      <th>6</th>\n",
       "      <td>0</td>\n",
       "      <td>10754.157881</td>\n",
       "      <td>1613.123682</td>\n",
       "    </tr>\n",
       "    <tr>\n",
       "      <th>7</th>\n",
       "      <td>0</td>\n",
       "      <td>23305.174523</td>\n",
       "      <td>3495.776178</td>\n",
       "    </tr>\n",
       "    <tr>\n",
       "      <th>8</th>\n",
       "      <td>0</td>\n",
       "      <td>6625.814067</td>\n",
       "      <td>993.872110</td>\n",
       "    </tr>\n",
       "    <tr>\n",
       "      <th>9</th>\n",
       "      <td>0</td>\n",
       "      <td>12148.365773</td>\n",
       "      <td>1822.254866</td>\n",
       "    </tr>\n",
       "  </tbody>\n",
       "</table>\n",
       "</div>"
      ],
      "text/plain": [
       "   t             P            A\n",
       "0  0  11519.126527  1727.868979\n",
       "1  0  11534.550549  1730.182582\n",
       "2  0   7486.099640  1122.914946\n",
       "3  0   8848.873913  1327.331087\n",
       "4  0   5625.740410   843.861061\n",
       "5  0  17880.662221  2682.099333\n",
       "6  0  10754.157881  1613.123682\n",
       "7  0  23305.174523  3495.776178\n",
       "8  0   6625.814067   993.872110\n",
       "9  0  12148.365773  1822.254866"
      ]
     },
     "execution_count": 14,
     "metadata": {},
     "output_type": "execute_result"
    }
   ],
   "source": [
    "df.head(10)"
   ]
  },
  {
   "cell_type": "markdown",
   "metadata": {},
   "source": [
    "The number of observations after dropping negative simulated loan principals is shown below"
   ]
  },
  {
   "cell_type": "code",
   "execution_count": 15,
   "metadata": {
    "execution": {
     "iopub.execute_input": "2020-11-26T02:11:32.942482Z",
     "iopub.status.busy": "2020-11-26T02:11:32.941985Z",
     "iopub.status.idle": "2020-11-26T02:11:32.954674Z",
     "shell.execute_reply": "2020-11-26T02:11:32.954280Z",
     "shell.execute_reply.started": "2020-11-26T02:11:32.942425Z"
    }
   },
   "outputs": [
    {
     "data": {
      "text/plain": [
       "9853"
      ]
     },
     "execution_count": 15,
     "metadata": {},
     "output_type": "execute_result"
    }
   ],
   "source": [
    "df.shape[0]"
   ]
  },
  {
   "cell_type": "markdown",
   "metadata": {},
   "source": [
    "## Make Predictions Using Various Randomization Strategies"
   ]
  },
  {
   "cell_type": "markdown",
   "metadata": {},
   "source": [
    "Several strategies will now be used to generate naive predictions of the loan outcome of each artificially generated loan. This will give the following\n",
    "- baseline prediction error per loan that more sophisticated analytical approaches should achieve in order to be considered useful\n",
    "  - note that since this error is only computed on artificially generated data, with assumptions made about principal (averge of $\\$$15,000) and loan income, this error represents an approximation and needs to be re-calculated using real data\n",
    "- total possible loan income (total return) that an investor (loan lender) can expect to receive/lose if they relied on the naive predictions\n",
    "  - depending on the investor's finances and assuming that this total income is a loss\n",
    "    - if the investor can absorb these possible losses, then one of these naive approaches to randomly assigning loan outcomes could be sufficient for instructing them as to whether or not they should fund all the loans on Lending Club\n",
    "    - if these losses are too large to be absorbed, then this would be justification for proceeding to a more sophisticated analysis technique such as machine learning to predict the outcome of the loans"
   ]
  },
  {
   "cell_type": "markdown",
   "metadata": {},
   "source": [
    "The error is calculated by assigning a cost (penalizing or rewarding) the predictions made of loan outcomes, depending on how they compare to the true outcomes. The costs (or loan incomes) are\n",
    "- actual outcome is loan defaulted and predicted outcome is loan paid off on time\n",
    "  - in this scenario, the investor followed the predicted outcome and made an investment so the full principal is lost and the net income is -P\n",
    "  - return was not there to be made, following the naive prediction, so return was not lost\n",
    "- actual outcome is loan defaulted and predicted outcome is loan defaulted\n",
    "  - no investment was made, pre the prediction of default\n",
    "  - return was not there to be made, following the naive prediction, so the return was not lost\n",
    "  - net income is $\\$$0\n",
    "- actual outcome is loan was paid off on time and predicted outcome is loan paid off on time\n",
    "  - investment was made, since the prediction was that the loan will be paid off on time\n",
    "  - return was there to be made and was made\n",
    "  - net income is A\n",
    "- actual outcome is loan was paid off on time and predicted outcome is loan goes into default\n",
    "  - investment was not made, since the prediction was that the loan will end in a default\n",
    "  - return was there to be made but was not made\n",
    "  - net income is -A\n",
    "\n",
    "One of these four types of net incomes or losses (-P, $\\$$0, A or -A) is assigned for each loan. This will be the income (earned or lost) per loan."
   ]
  },
  {
   "cell_type": "code",
   "execution_count": 16,
   "metadata": {
    "execution": {
     "iopub.execute_input": "2020-11-26T02:11:36.605243Z",
     "iopub.status.busy": "2020-11-26T02:11:36.604947Z",
     "iopub.status.idle": "2020-11-26T02:11:46.388218Z",
     "shell.execute_reply": "2020-11-26T02:11:46.387600Z",
     "shell.execute_reply.started": "2020-11-26T02:11:36.605222Z"
    }
   },
   "outputs": [
    {
     "name": "stdout",
     "output_type": "stream",
     "text": [
      "CPU times: user 1.61 s, sys: 67.3 ms, total: 1.68 s\n",
      "Wall time: 9.77 s\n"
     ]
    }
   ],
   "source": [
    "%%time\n",
    "executor = Parallel(n_jobs=cpu_count(), backend='multiprocessing')\n",
    "tasks = (delayed(calculate_ae_return)(df, s, frac_defaults) for s in [\"uniform\", \"stratified\", \"most_frequent\", \"random\"])\n",
    "dict_scores = executor(tasks)\n",
    "dfs = [\n",
    "    (pd.DataFrame(dict_score.values()).T).rename(columns={0: list(dict_score.keys())[0], 1: list(dict_score.keys())[1], 2: \"strategy\"})\n",
    "    for dict_score in dict_scores\n",
    "]\n",
    "dfs_ae_scores = pd.concat(dfs)\n",
    "dfs_ae_scores[[\"ae\", \"return\"]] = dfs_ae_scores[[\"ae\", \"return\"]].apply(\n",
    "    pd.to_numeric, errors=\"coerce\"\n",
    ")"
   ]
  },
  {
   "cell_type": "markdown",
   "metadata": {},
   "source": [
    "A helper function is available to run all of the above steps in a single line (this is not done here)\n",
    "```\n",
    "dfs_ae_scores = pd.concat([run_single_trial(df, frac_defaults, 1)])\n",
    "display(dfs_ae_scores)\n",
    "```"
   ]
  },
  {
   "cell_type": "markdown",
   "metadata": {},
   "source": [
    "## (Randomized) Evaluation of naive predictions"
   ]
  },
  {
   "cell_type": "markdown",
   "metadata": {},
   "source": [
    "A simple evaluation of the naive predictions is shown here."
   ]
  },
  {
   "cell_type": "markdown",
   "metadata": {},
   "source": [
    "### Comparison of Prediction Error and Return per loan"
   ]
  },
  {
   "cell_type": "markdown",
   "metadata": {},
   "source": [
    "First, all the errors (absolute values) and loan income (return), attributed to naively predicting a single loan outcome are shown below"
   ]
  },
  {
   "cell_type": "code",
   "execution_count": 17,
   "metadata": {
    "execution": {
     "iopub.execute_input": "2020-11-26T02:11:46.389181Z",
     "iopub.status.busy": "2020-11-26T02:11:46.389059Z",
     "iopub.status.idle": "2020-11-26T02:11:46.613169Z",
     "shell.execute_reply": "2020-11-26T02:11:46.612578Z",
     "shell.execute_reply.started": "2020-11-26T02:11:46.389167Z"
    }
   },
   "outputs": [
    {
     "data": {
      "image/png": "[encoded data removed]",
      "text/plain": [
       "<Figure size 864x288 with 2 Axes>"
      ]
     },
     "metadata": {},
     "output_type": "display_data"
    }
   ],
   "source": [
    "plot_multiple_boxplots(\n",
    "    dfs_ae_scores,\n",
    "    x=\"strategy\",\n",
    "    y_s=[\"ae\", \"return\"],\n",
    "    ptitles=[\"Absolute Error ($)\", \"Return ($)\"],\n",
    "    axis_tick_label_fontsize=12,\n",
    "    x_ticks_formatter=\"{x:,.0f}\",\n",
    "    fig_size=(12, 4),\n",
    ")"
   ]
  },
  {
   "cell_type": "markdown",
   "metadata": {},
   "source": [
    "**Notes**\n",
    "1. All artifically generated loan outcomes are represented on these charts.\n",
    "2. Per its definition here, the error is an absolute value and so has a minimum of zero. In the cases where naively guessing at the loan outcome was correct, the error could be zero.\n",
    "3. The return is not an absolute value and so it could positive or negative. The absolute value of the return is the absolute error in the naive prediction so the minimum return per loan is the same as the absolute value of the error and this is seen from the two plots."
   ]
  },
  {
   "cell_type": "markdown",
   "metadata": {},
   "source": [
    "**Observations**\n",
    "1. Per loan, the investor could expect to lose as much as approx. $\\$$25,000 for any of the naive prediction strategies used.\n",
    "2. The best approach to minimizing error or maximizing return per loan is to assume that every loan will be paid off. While losses remain a possibility, this strategy (`most_frequent`) produces the lowest median absolute error and highest median return per loan."
   ]
  },
  {
   "cell_type": "markdown",
   "metadata": {},
   "source": [
    "### Mean Absolute Error and Total Loan Return"
   ]
  },
  {
   "cell_type": "markdown",
   "metadata": {},
   "source": [
    "Next, an aggregated version of the above plots is shown. The average of the absolute error per loan (MAE) and the total return over all the simulated loans are calculated"
   ]
  },
  {
   "cell_type": "code",
   "execution_count": 18,
   "metadata": {
    "execution": {
     "iopub.execute_input": "2020-11-26T02:11:46.614232Z",
     "iopub.status.busy": "2020-11-26T02:11:46.614052Z",
     "iopub.status.idle": "2020-11-26T02:11:46.639216Z",
     "shell.execute_reply": "2020-11-26T02:11:46.638829Z",
     "shell.execute_reply.started": "2020-11-26T02:11:46.614218Z"
    }
   },
   "outputs": [
    {
     "data": {
      "text/html": [
       "<div>\n",
       "<style scoped>\n",
       "    .dataframe tbody tr th:only-of-type {\n",
       "        vertical-align: middle;\n",
       "    }\n",
       "\n",
       "    .dataframe tbody tr th {\n",
       "        vertical-align: top;\n",
       "    }\n",
       "\n",
       "    .dataframe thead th {\n",
       "        text-align: right;\n",
       "    }\n",
       "</style>\n",
       "<table border=\"1\" class=\"dataframe\">\n",
       "  <thead>\n",
       "    <tr style=\"text-align: right;\">\n",
       "      <th></th>\n",
       "      <th>var</th>\n",
       "      <th>strategy</th>\n",
       "      <th>value</th>\n",
       "    </tr>\n",
       "  </thead>\n",
       "  <tbody>\n",
       "    <tr>\n",
       "      <th>0</th>\n",
       "      <td>ae|mean</td>\n",
       "      <td>most_frequent</td>\n",
       "      <td>1.683048e+03</td>\n",
       "    </tr>\n",
       "    <tr>\n",
       "      <th>1</th>\n",
       "      <td>ae|mean</td>\n",
       "      <td>random</td>\n",
       "      <td>1.831472e+03</td>\n",
       "    </tr>\n",
       "    <tr>\n",
       "      <th>2</th>\n",
       "      <td>ae|mean</td>\n",
       "      <td>stratified</td>\n",
       "      <td>1.860601e+03</td>\n",
       "    </tr>\n",
       "    <tr>\n",
       "      <th>3</th>\n",
       "      <td>ae|mean</td>\n",
       "      <td>uniform</td>\n",
       "      <td>2.234586e+03</td>\n",
       "    </tr>\n",
       "    <tr>\n",
       "      <th>4</th>\n",
       "      <td>return|sum</td>\n",
       "      <td>most_frequent</td>\n",
       "      <td>-2.371881e+06</td>\n",
       "    </tr>\n",
       "    <tr>\n",
       "      <th>5</th>\n",
       "      <td>return|sum</td>\n",
       "      <td>random</td>\n",
       "      <td>-3.834301e+06</td>\n",
       "    </tr>\n",
       "    <tr>\n",
       "      <th>6</th>\n",
       "      <td>return|sum</td>\n",
       "      <td>stratified</td>\n",
       "      <td>-4.121309e+06</td>\n",
       "    </tr>\n",
       "    <tr>\n",
       "      <th>7</th>\n",
       "      <td>return|sum</td>\n",
       "      <td>uniform</td>\n",
       "      <td>-7.806188e+06</td>\n",
       "    </tr>\n",
       "  </tbody>\n",
       "</table>\n",
       "</div>"
      ],
      "text/plain": [
       "          var       strategy         value\n",
       "0     ae|mean  most_frequent  1.683048e+03\n",
       "1     ae|mean         random  1.831472e+03\n",
       "2     ae|mean     stratified  1.860601e+03\n",
       "3     ae|mean        uniform  2.234586e+03\n",
       "4  return|sum  most_frequent -2.371881e+06\n",
       "5  return|sum         random -3.834301e+06\n",
       "6  return|sum     stratified -4.121309e+06\n",
       "7  return|sum        uniform -7.806188e+06"
      ]
     },
     "metadata": {},
     "output_type": "display_data"
    }
   ],
   "source": [
    "grouped = dfs_ae_scores.groupby([\"strategy\"]).agg({\"ae\": [\"mean\"], \"return\": [\"sum\"]})\n",
    "grouped.columns = grouped.columns.map(\"|\".join)\n",
    "grouped = grouped.unstack().reset_index()\n",
    "grouped = grouped.rename(columns={\"level_0\": \"var\", 0: \"value\"})\n",
    "display(grouped)"
   ]
  },
  {
   "cell_type": "code",
   "execution_count": null,
   "metadata": {},
   "outputs": [],
   "source": [
    "plot_multi_catplot(\n",
    "    grouped,\n",
    "    x=\"strategy\",\n",
    "    y=\"value\",\n",
    "    cat_columns=\"var\",\n",
    "    ptitles=[\"MAE ($)\", \"Return ($)\"],\n",
    "    axis_tick_label_fontsize=12,\n",
    "    x_ticks_formatter=\"{x:,.0f}\",\n",
    "    plot_color=\"red\",\n",
    "    fig_height=4,\n",
    "    fig_aspect_ratio=1.25,\n",
    ")"
   ]
  },
  {
   "cell_type": "markdown",
   "metadata": {},
   "source": [
    "**Observations**\n",
    "1. As expected, the strategy of guessing that every loan will be paid off on time maximizes the totla return and minimizes the MAE. Since the total return is computed by adding up the returns of all the inidivual loans, summing the negative returns results in the total returns being negative. This suggests that approximately $\\$$2,000,000 could be lost by adopting this approach. Higher losses would be incurred using other naive prediction techniques.\n",
    "2. The more defaults that occur the worse the best-case strategy for losses could be. Lost principal is the biggest contributor to lost loan income (lost loan return). This penalty is attributed to loans that result in a default (true outcome) but that are predicted to be paid off on time. Using the best naive strategy here involves guessing that all loans will be paid off on time. As the number of defaults in the data (here, assumed to be 15\\% of all loans) increases, this penalty (lost principal) is applied with greater frequency and will increase the overall lost income. Future work may seek to inform the investor as to higher lossess that could be incurred if this nominal value of 15\\% is an underestimate of the true fraction of defaults expected."
   ]
  },
  {
   "cell_type": "markdown",
   "metadata": {},
   "source": [
    "## Looking Forward"
   ]
  },
  {
   "cell_type": "markdown",
   "metadata": {},
   "source": [
    "Additional iterations of the scoping exercise here could include the following investigations and many be instructive in providing guidane to the client (investor)\n",
    "- different distributions, and their parameters (average, etc.), to model the loan principal\n",
    "  - here a normal distribution was assumed with an average of $\\$$2,000,000\n",
    "- additional naive prediction strategies\n",
    "  - four strategies were used here to generate predictions of loan outcome\n",
    "- vary the technique used to generate true loan outcomes, without introducing lookahead bias\n",
    "  - here, these were randomly sampled\n",
    "- trying different values for the annual return\n",
    "  - this was assumed to be 15\\% here\n",
    "- vary the class imbalane between loans paid off on time and those that went into default\n",
    "  - here, it was assumed that 85\\% of loans were paid off on time, while 15\\% went into default\n",
    "  - a higher fraction of defaults in the data will increase the losses incurred by an investor looking to fund these loans"
   ]
  },
  {
   "cell_type": "markdown",
   "metadata": {},
   "source": [
    "## Conclusion"
   ]
  },
  {
   "cell_type": "markdown",
   "metadata": {},
   "source": [
    "Since the intended business use-case is targeted to a conservative investor, they should prefer to minimize negative returns from any approach to predicting the outcome of loans. Using a naive strategy of assuming that every loan will be paid off on time results in approximately $\\$$2,000,000 in losses. It is reasonable to assume that a conservative investor would want to cut this down as much as possible. In this case, it is worthwhile to pursue more advanced quantitative analytical techniques, to generate predictions of loan outcome, such as machine learning (ML) where a preliminary MAE of approximately $\\$$2,000 should serve as the baseline for assessing ML model performance. This is assumed to be the case here and so data acquisition from Lending Club and ML model development will be proceed."
   ]
  }
 ],
 "metadata": {
  "kernelspec": {
   "display_name": "Python 3",
   "language": "python",
   "name": "python3"
  },
  "language_info": {
   "codemirror_mode": {
    "name": "ipython",
    "version": 3
   },
   "file_extension": ".py",
   "mimetype": "text/x-python",
   "name": "python",
   "nbconvert_exporter": "python",
   "pygments_lexer": "ipython3",
   "version": "3.8.5"
  }
 },
 "nbformat": 4,
 "nbformat_minor": 4
}
