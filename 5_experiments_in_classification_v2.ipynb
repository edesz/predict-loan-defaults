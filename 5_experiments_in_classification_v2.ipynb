{
 "cells": [
  {
   "cell_type": "markdown",
   "metadata": {},
   "source": [
    "# Classification trials"
   ]
  },
  {
   "cell_type": "code",
   "execution_count": null,
   "metadata": {},
   "outputs": [],
   "source": [
    "%load_ext lab_black\n",
    "%load_ext autoreload\n",
    "%autoreload 2"
   ]
  },
  {
   "cell_type": "code",
   "execution_count": 2,
   "metadata": {
    "execution": {
     "iopub.status.idle": "2020-11-13T15:39:06.237812Z",
     "shell.execute_reply": "2020-11-13T15:39:06.237339Z",
     "shell.execute_reply.started": "2020-11-13T15:39:05.551063Z"
    }
   },
   "outputs": [],
   "source": [
    "import os\n",
    "from io import StringIO\n",
    "\n",
    "import matplotlib.pyplot as plt\n",
    "import numpy as np\n",
    "import pandas as pd\n",
    "import sklearn.metrics as mr\n",
    "from azure.storage.blob import BlobServiceClient\n",
    "from imblearn.pipeline import Pipeline\n",
    "from sklearn.compose import ColumnTransformer\n",
    "from sklearn.dummy import DummyClassifier\n",
    "from sklearn.linear_model import LogisticRegression\n",
    "from sklearn.model_selection import (\n",
    "    GridSearchCV,\n",
    "    RepeatedKFold,\n",
    "    ShuffleSplit,\n",
    "    StratifiedKFold,\n",
    "    train_test_split,\n",
    ")\n",
    "from sklearn.preprocessing import (\n",
    "    OneHotEncoder,\n",
    "    StandardScaler,\n",
    ")"
   ]
  },
  {
   "cell_type": "code",
   "execution_count": 200,
   "metadata": {
    "execution": {
     "iopub.execute_input": "2020-11-13T18:03:54.639519Z",
     "iopub.status.busy": "2020-11-13T18:03:54.639024Z",
     "iopub.status.idle": "2020-11-13T18:03:54.689841Z",
     "shell.execute_reply": "2020-11-13T18:03:54.689364Z",
     "shell.execute_reply.started": "2020-11-13T18:03:54.639463Z"
    }
   },
   "outputs": [],
   "source": [
    "%aimport src.altair_helpers\n",
    "from src.altair_helpers import (\n",
    "    plot_altair_grid,\n",
    "    alt_plot_metric_based_threshold_tuning_plots,\n",
    ")\n",
    "\n",
    "%aimport src.business_helpers\n",
    "from src.business_helpers import int_income_calculator\n",
    "\n",
    "%aimport src.custom_learning_curve_helpers\n",
    "from src.custom_learning_curve_helpers import learning_curve, manual_learning_curve\n",
    "\n",
    "%aimport src.custom_permutation_importance_helpers\n",
    "from src.custom_permutation_importance_helpers import manual_plot_permutation_importance\n",
    "\n",
    "%aimport src.custom_threshold_tuning_plotting_helpers\n",
    "from src.custom_threshold_tuning_plotting_helpers import (\n",
    "    plot_cost_function_based_threshold_tuning_plots,\n",
    "    plot_metric_based_threshold_tuning_plots,\n",
    ")\n",
    "\n",
    "%aimport src.custom_transformers\n",
    "import src.custom_transformers as ct\n",
    "\n",
    "%aimport src.custom_returns_plotter\n",
    "from src.custom_returns_plotter import plot_returns\n",
    "\n",
    "%aimport src.ml_helpers_v2\n",
    "from src.ml_helpers_v2 import get_best_pipes, gridsearch\n",
    "\n",
    "%aimport src.ml_metrics_v2\n",
    "from src.ml_metrics_v2 import (\n",
    "    threshold_roc_auc_score,\n",
    "    threshold_fpr_score,\n",
    "    threshold_recall_score,\n",
    "    pr_auc_score,\n",
    "    get_scores,\n",
    "    get_eval_metrics,\n",
    ")\n",
    "\n",
    "%aimport src.threshold_tuning_helpers\n",
    "from src.threshold_tuning_helpers import (\n",
    "    get_components_of_returns,\n",
    "    threshold_tuning_reshaping,\n",
    ")\n",
    "\n",
    "%aimport src.visualization_helpers\n",
    "from src.visualization_helpers import (\n",
    "    plot_learning_curve,\n",
    "    plot_permutation_importances,\n",
    "    plot_grouped_bar_chart,\n",
    "    plot_grouped_histogram,\n",
    "    plot_pr_roc_curves,\n",
    ")"
   ]
  },
  {
   "cell_type": "code",
   "execution_count": 4,
   "metadata": {
    "execution": {
     "iopub.execute_input": "2020-11-13T15:39:06.450405Z",
     "iopub.status.busy": "2020-11-13T15:39:06.450294Z",
     "iopub.status.idle": "2020-11-13T15:39:06.465234Z",
     "shell.execute_reply": "2020-11-13T15:39:06.464738Z",
     "shell.execute_reply.started": "2020-11-13T15:39:06.450390Z"
    }
   },
   "outputs": [],
   "source": [
    "pd.set_option(\"display.max_rows\", 500)\n",
    "pd.set_option(\"display.max_columns\", 500)\n",
    "pd.set_option(\"display.max_colwidth\", 500)\n",
    "pd.set_option(\"display.width\", 1000)"
   ]
  },
  {
   "cell_type": "markdown",
   "metadata": {},
   "source": [
    "## About"
   ]
  },
  {
   "cell_type": "markdown",
   "metadata": {},
   "source": [
    "This notebook will walk through machine learning classification experiments on the raw [Lending Club loans data](https://www.lendingclub.com/auth/login?login_url=%2Fstatistics%2Fadditional-statistics%3F). A best-performing model will then be determined and assessed in the context of the business use case for this project.i.e. an conservative investor wanting to use the model developed here to predict which loan applications on the [Lending Club platform](https://www.lendingclub.com/), will not [default](https://en.wikipedia.org/wiki/Default_(finance)), and therefore should be funded by them."
   ]
  },
  {
   "cell_type": "markdown",
   "metadata": {},
   "source": [
    "## User Inputs"
   ]
  },
  {
   "cell_type": "markdown",
   "metadata": {},
   "source": [
    "User inputs and helper functions, to be used later, are defined below"
   ]
  },
  {
   "cell_type": "code",
   "execution_count": 5,
   "metadata": {
    "execution": {
     "iopub.execute_input": "2020-11-13T15:39:06.465828Z",
     "iopub.status.busy": "2020-11-13T15:39:06.465716Z",
     "iopub.status.idle": "2020-11-13T15:39:06.499274Z",
     "shell.execute_reply": "2020-11-13T15:39:06.498780Z",
     "shell.execute_reply.started": "2020-11-13T15:39:06.465814Z"
    },
    "tags": [
     "parameters"
    ]
   },
   "outputs": [],
   "source": [
    "raw_data_file_path = \"data/raw/lending_club_loans.csv\"\n",
    "cloud_storage = \"no\"\n",
    "\n",
    "# From Feature Reduction\n",
    "nan_threshold = 0.5\n",
    "non_useful_cols = [\"url\", \"desc\"]\n",
    "datetime_cols = [\"issue_d\", \"last_pymnt_d\"]\n",
    "cols_one_eighteen = [\n",
    "    \"id\",\n",
    "    \"member_id\",\n",
    "    \"funded_amnt\",\n",
    "    \"funded_amnt_inv\",\n",
    "    \"grade\",\n",
    "    \"sub_grade\",\n",
    "    \"emp_title\",\n",
    "]\n",
    "cols_eighteen_thirtysix = [\n",
    "    \"zip_code\",\n",
    "    \"out_prncp\",\n",
    "    \"out_prncp_inv\",\n",
    "    \"total_pymnt\",\n",
    "    \"total_pymnt_inv\",\n",
    "    \"total_rec_prncp\",\n",
    "]\n",
    "cols_thirtyseven_end = [\n",
    "    \"total_rec_int\",\n",
    "    \"total_rec_late_fee\",\n",
    "    \"recoveries\",\n",
    "    \"collection_recovery_fee\",\n",
    "    \"last_pymnt_amnt\",\n",
    "]\n",
    "loan_status = [\"Fully Paid\", \"Charged Off\"]\n",
    "mapping_dictionary_labels = {\"loan_status\": {\"Fully Paid\": 1, \"Charged Off\": 0}}\n",
    "four_or_less_value_columns = [\"pymnt_plan\"]\n",
    "\n",
    "# From Feature Processing\n",
    "more_than_one_pct_missing_columns = [\"pub_rec_bankruptcies\"]\n",
    "datetime_cols_v2 = [\"last_credit_pull_d\", \"earliest_cr_line\"]\n",
    "high_cardinality_cols = [\"addr_state\"]\n",
    "mapping_dict_emp_length = {\n",
    "    \"emp_length\": {\n",
    "        \"10+ years\": 10,\n",
    "        \"9 years\": 9,\n",
    "        \"8 years\": 8,\n",
    "        \"7 years\": 7,\n",
    "        \"6 years\": 6,\n",
    "        \"5 years\": 5,\n",
    "        \"4 years\": 4,\n",
    "        \"3 years\": 3,\n",
    "        \"2 years\": 2,\n",
    "        \"1 year\": 1,\n",
    "        \"< 1 year\": 0,\n",
    "        \"n/a\": 0,\n",
    "    }\n",
    "}\n",
    "nominal_columns = [\"home_ownership\", \"verification_status\", \"purpose\", \"term\"]\n",
    "repeated_data_cols = [\"title\"]\n",
    "pct_to_numeric_cols = [\"int_rate\", \"revol_util\"]\n",
    "\n",
    "# From Exploratory Data Analysis 1/2\n",
    "correlated_features = [\n",
    "    # \"total_acc\",\n",
    "    \"installment\",\n",
    "    \"fico_range_low\",\n",
    "    \"fico_range_high\",\n",
    "]\n",
    "look_ahead_features = [\"last_fico_range_low\", \"last_fico_range_high\"]\n",
    "raw_labels = [\"loan_status\"]\n",
    "new_labels = [\"is_default\"]\n",
    "\n",
    "cols_to_show = [\n",
    "    \"preprocessor_type\",\n",
    "    \"resamplers\",\n",
    "    \"threshold\",\n",
    "    \"params\",\n",
    "    \"mean_test_recall_binary\",\n",
    "    \"mean_test_fpr\",\n",
    "    \"mean_test_auc\",\n",
    "    \"mean_train_recall_binary\",\n",
    "    \"mean_train_fpr\",\n",
    "    \"mean_train_auc\",\n",
    "    \"mean_fit_time\",\n",
    "    \"std_train_recall_binary\",\n",
    "    \"std_test_recall_binary\",\n",
    "    \"std_train_fpr\",\n",
    "    \"std_test_fpr\",\n",
    "    \"mean_score_time\",\n",
    "    \"clf_params\",\n",
    "]\n",
    "\n",
    "thresholds_list = np.arange(0.01, 1, 0.01)"
   ]
  },
  {
   "cell_type": "code",
   "execution_count": 6,
   "metadata": {
    "execution": {
     "iopub.execute_input": "2020-11-13T15:39:06.499936Z",
     "iopub.status.busy": "2020-11-13T15:39:06.499819Z",
     "iopub.status.idle": "2020-11-13T15:39:06.518198Z",
     "shell.execute_reply": "2020-11-13T15:39:06.517713Z",
     "shell.execute_reply.started": "2020-11-13T15:39:06.499921Z"
    }
   },
   "outputs": [],
   "source": [
    "nan_threshold = float(nan_threshold)\n",
    "for k in [\"Fully Paid\", \"Charged Off\"]:\n",
    "    mapping_dictionary_labels[\"loan_status\"][k] = int(\n",
    "        mapping_dictionary_labels[\"loan_status\"][k]\n",
    "    )\n",
    "for k in [\n",
    "    \"10+ years\",\n",
    "    \"9 years\",\n",
    "    \"8 years\",\n",
    "    \"7 years\",\n",
    "    \"6 years\",\n",
    "    \"5 years\",\n",
    "    \"4 years\",\n",
    "    \"3 years\",\n",
    "    \"2 years\",\n",
    "    \"1 year\",\n",
    "    \"< 1 year\",\n",
    "    \"n/a\",\n",
    "]:\n",
    "    mapping_dict_emp_length[\"emp_length\"][k] = int(\n",
    "        mapping_dict_emp_length[\"emp_length\"][k]\n",
    "    )\n",
    "\n",
    "# From Exploratory Data Analysis 2/2\n",
    "mapping_dict_new_labels = {\"is_default\": {0: 1, 1: 0}}"
   ]
  },
  {
   "cell_type": "code",
   "execution_count": 7,
   "metadata": {
    "execution": {
     "iopub.execute_input": "2020-11-13T15:39:06.518792Z",
     "iopub.status.busy": "2020-11-13T15:39:06.518682Z",
     "iopub.status.idle": "2020-11-13T15:39:06.538903Z",
     "shell.execute_reply": "2020-11-13T15:39:06.538452Z",
     "shell.execute_reply.started": "2020-11-13T15:39:06.518778Z"
    }
   },
   "outputs": [],
   "source": [
    "multi_scorers = {\n",
    "    \"recall_binary\": mr.make_scorer(\n",
    "        threshold_recall_score,\n",
    "        greater_is_better=True,\n",
    "        needs_proba=True,\n",
    "        threshold=0.5,\n",
    "    ),\n",
    "    \"fpr\": mr.make_scorer(\n",
    "        threshold_fpr_score,\n",
    "        greater_is_better=False,\n",
    "        needs_proba=True,\n",
    "        threshold=0.5,\n",
    "    ),\n",
    "    \"roc_auc_binary\": mr.make_scorer(\n",
    "        threshold_roc_auc_score,\n",
    "        greater_is_better=True,\n",
    "        needs_proba=True,\n",
    "        threshold=0.5,\n",
    "    ),\n",
    "    \"pr_auc\": mr.make_scorer(\n",
    "        pr_auc_score,\n",
    "        greater_is_better=True,\n",
    "        needs_proba=True,\n",
    "    ),\n",
    "}\n",
    "cols_to_show = [\n",
    "    \"mean_test_recall_binary\",\n",
    "    \"mean_test_fpr\",\n",
    "    \"mean_test_roc_auc_binary\",\n",
    "    \"mean_test_pr_auc\",\n",
    "    \"mean_train_recall_binary\",\n",
    "    \"mean_train_fpr\",\n",
    "    \"mean_train_roc_auc_binary\",\n",
    "    \"mean_train_pr_auc\",\n",
    "    \"mean_fit_time\",\n",
    "    \"std_train_recall_binary\",\n",
    "    \"std_test_recall_binary\",\n",
    "    \"std_train_fpr\",\n",
    "    \"std_test_fpr\",\n",
    "    \"std_train_roc_auc_binary\",\n",
    "    \"std_test_roc_auc_binary\",\n",
    "    \"std_train_pr_auc\",\n",
    "    \"std_test_pr_auc\",\n",
    "    \"mean_score_time\",\n",
    "]"
   ]
  },
  {
   "cell_type": "markdown",
   "metadata": {},
   "source": [
    "## Load data"
   ]
  },
  {
   "cell_type": "markdown",
   "metadata": {},
   "source": [
    "Raw data from Lending Club is loaded into memory"
   ]
  },
  {
   "cell_type": "code",
   "execution_count": 8,
   "metadata": {
    "execution": {
     "iopub.execute_input": "2020-11-13T15:39:06.540170Z",
     "iopub.status.busy": "2020-11-13T15:39:06.540051Z",
     "iopub.status.idle": "2020-11-13T15:39:07.120297Z",
     "shell.execute_reply": "2020-11-13T15:39:07.119844Z",
     "shell.execute_reply.started": "2020-11-13T15:39:06.540156Z"
    }
   },
   "outputs": [],
   "source": [
    "if cloud_storage == \"yes\":\n",
    "    az_storage_container_name = \"myconedesx7\"\n",
    "    conn_str = (\n",
    "        \"DefaultEndpointsProtocol=https;\"\n",
    "        f\"AccountName={os.getenv('AZURE_STORAGE_ACCOUNT')};\"\n",
    "        f\"AccountKey={os.getenv('AZURE_STORAGE_KEY')};\"\n",
    "        f\"EndpointSuffix={os.getenv('ENDPOINT_SUFFIX')}\"\n",
    "    )\n",
    "    blob_service_client = BlobServiceClient.from_connection_string(conn_str=conn_str)\n",
    "\n",
    "    blobstrings = {}\n",
    "    for blob_name in [\"blobedesz38\"]:\n",
    "        blob_client = blob_service_client.get_blob_client(\n",
    "            container=az_storage_container_name, blob=blob_name\n",
    "        )\n",
    "        blobstring = blob_client.download_blob().content_as_text()\n",
    "    df = pd.read_csv(StringIO(blobstring), skiprows=1, low_memory=False)\n",
    "else:\n",
    "    df = pd.read_csv(raw_data_file_path, skiprows=0, low_memory=False)"
   ]
  },
  {
   "cell_type": "markdown",
   "metadata": {},
   "source": [
    "## Train-Test split"
   ]
  },
  {
   "cell_type": "markdown",
   "metadata": {},
   "source": [
    "A hold-out set of the raw data will be set aside for model assessment"
   ]
  },
  {
   "cell_type": "code",
   "execution_count": 9,
   "metadata": {
    "execution": {
     "iopub.execute_input": "2020-11-13T15:39:07.121158Z",
     "iopub.status.busy": "2020-11-13T15:39:07.121046Z",
     "iopub.status.idle": "2020-11-13T15:39:07.181211Z",
     "shell.execute_reply": "2020-11-13T15:39:07.180750Z",
     "shell.execute_reply.started": "2020-11-13T15:39:07.121144Z"
    }
   },
   "outputs": [],
   "source": [
    "df_train_val, df_test = train_test_split(df, test_size=0.33, random_state=4321)\n",
    "df_train, df_val = train_test_split(df_train_val, test_size=0.33, random_state=4321)"
   ]
  },
  {
   "cell_type": "markdown",
   "metadata": {},
   "source": [
    "## Data processing"
   ]
  },
  {
   "cell_type": "markdown",
   "metadata": {},
   "source": [
    "The raw data is cleaned, filtered and features are extracted/selected from this processed data in order to run experiments in classification"
   ]
  },
  {
   "cell_type": "code",
   "execution_count": 10,
   "metadata": {
    "execution": {
     "iopub.execute_input": "2020-11-13T15:39:07.181851Z",
     "iopub.status.busy": "2020-11-13T15:39:07.181741Z",
     "iopub.status.idle": "2020-11-13T15:39:07.722666Z",
     "shell.execute_reply": "2020-11-13T15:39:07.722128Z",
     "shell.execute_reply.started": "2020-11-13T15:39:07.181837Z"
    }
   },
   "outputs": [
    {
     "name": "stdout",
     "output_type": "stream",
     "text": [
      "(16998, 17)\n",
      "(8347, 17)\n",
      "(25361, 17)\n",
      "(12469, 17)\n"
     ]
    },
    {
     "data": {
      "text/html": [
       "<div>\n",
       "<style scoped>\n",
       "    .dataframe tbody tr th:only-of-type {\n",
       "        vertical-align: middle;\n",
       "    }\n",
       "\n",
       "    .dataframe tbody tr th {\n",
       "        vertical-align: top;\n",
       "    }\n",
       "\n",
       "    .dataframe thead th {\n",
       "        text-align: right;\n",
       "    }\n",
       "</style>\n",
       "<table border=\"1\" class=\"dataframe\">\n",
       "  <thead>\n",
       "    <tr style=\"text-align: right;\">\n",
       "      <th></th>\n",
       "      <th>loan_amnt</th>\n",
       "      <th>term</th>\n",
       "      <th>int_rate</th>\n",
       "      <th>emp_length</th>\n",
       "      <th>home_ownership</th>\n",
       "      <th>annual_inc</th>\n",
       "      <th>verification_status</th>\n",
       "      <th>purpose</th>\n",
       "      <th>dti</th>\n",
       "      <th>delinq_2yrs</th>\n",
       "      <th>inq_last_6mths</th>\n",
       "      <th>open_acc</th>\n",
       "      <th>pub_rec</th>\n",
       "      <th>revol_bal</th>\n",
       "      <th>revol_util</th>\n",
       "      <th>total_acc</th>\n",
       "      <th>is_default</th>\n",
       "    </tr>\n",
       "  </thead>\n",
       "  <tbody>\n",
       "    <tr>\n",
       "      <th>36400</th>\n",
       "      <td>4800.0</td>\n",
       "      <td>36 months</td>\n",
       "      <td>11.89</td>\n",
       "      <td>10</td>\n",
       "      <td>RENT</td>\n",
       "      <td>41300.0</td>\n",
       "      <td>Not Verified</td>\n",
       "      <td>debt_consolidation</td>\n",
       "      <td>18.65</td>\n",
       "      <td>0.0</td>\n",
       "      <td>1.0</td>\n",
       "      <td>5.0</td>\n",
       "      <td>1.0</td>\n",
       "      <td>4224.0</td>\n",
       "      <td>40.2</td>\n",
       "      <td>22.0</td>\n",
       "      <td>0</td>\n",
       "    </tr>\n",
       "    <tr>\n",
       "      <th>20156</th>\n",
       "      <td>12000.0</td>\n",
       "      <td>60 months</td>\n",
       "      <td>14.91</td>\n",
       "      <td>1</td>\n",
       "      <td>MORTGAGE</td>\n",
       "      <td>36000.0</td>\n",
       "      <td>Source Verified</td>\n",
       "      <td>major_purchase</td>\n",
       "      <td>13.43</td>\n",
       "      <td>0.0</td>\n",
       "      <td>3.0</td>\n",
       "      <td>8.0</td>\n",
       "      <td>1.0</td>\n",
       "      <td>5049.0</td>\n",
       "      <td>78.9</td>\n",
       "      <td>17.0</td>\n",
       "      <td>0</td>\n",
       "    </tr>\n",
       "  </tbody>\n",
       "</table>\n",
       "</div>"
      ],
      "text/plain": [
       "       loan_amnt        term  int_rate  emp_length home_ownership  annual_inc verification_status             purpose    dti  delinq_2yrs  inq_last_6mths  open_acc  pub_rec  revol_bal  revol_util  total_acc  is_default\n",
       "36400     4800.0   36 months     11.89          10           RENT     41300.0        Not Verified  debt_consolidation  18.65          0.0             1.0       5.0      1.0     4224.0        40.2       22.0           0\n",
       "20156    12000.0   60 months     14.91           1       MORTGAGE     36000.0     Source Verified      major_purchase  13.43          0.0             3.0       8.0      1.0     5049.0        78.9       17.0           0"
      ]
     },
     "metadata": {},
     "output_type": "display_data"
    },
    {
     "data": {
      "text/html": [
       "<div>\n",
       "<style scoped>\n",
       "    .dataframe tbody tr th:only-of-type {\n",
       "        vertical-align: middle;\n",
       "    }\n",
       "\n",
       "    .dataframe tbody tr th {\n",
       "        vertical-align: top;\n",
       "    }\n",
       "\n",
       "    .dataframe thead th {\n",
       "        text-align: right;\n",
       "    }\n",
       "</style>\n",
       "<table border=\"1\" class=\"dataframe\">\n",
       "  <thead>\n",
       "    <tr style=\"text-align: right;\">\n",
       "      <th></th>\n",
       "      <th>loan_amnt</th>\n",
       "      <th>term</th>\n",
       "      <th>int_rate</th>\n",
       "      <th>emp_length</th>\n",
       "      <th>home_ownership</th>\n",
       "      <th>annual_inc</th>\n",
       "      <th>verification_status</th>\n",
       "      <th>purpose</th>\n",
       "      <th>dti</th>\n",
       "      <th>delinq_2yrs</th>\n",
       "      <th>inq_last_6mths</th>\n",
       "      <th>open_acc</th>\n",
       "      <th>pub_rec</th>\n",
       "      <th>revol_bal</th>\n",
       "      <th>revol_util</th>\n",
       "      <th>total_acc</th>\n",
       "      <th>is_default</th>\n",
       "    </tr>\n",
       "  </thead>\n",
       "  <tbody>\n",
       "    <tr>\n",
       "      <th>22692</th>\n",
       "      <td>1800.0</td>\n",
       "      <td>36 months</td>\n",
       "      <td>12.61</td>\n",
       "      <td>0</td>\n",
       "      <td>MORTGAGE</td>\n",
       "      <td>36000.0</td>\n",
       "      <td>Source Verified</td>\n",
       "      <td>other</td>\n",
       "      <td>6.30</td>\n",
       "      <td>0.0</td>\n",
       "      <td>1.0</td>\n",
       "      <td>14.0</td>\n",
       "      <td>0.0</td>\n",
       "      <td>5903.0</td>\n",
       "      <td>36.9</td>\n",
       "      <td>20.0</td>\n",
       "      <td>0</td>\n",
       "    </tr>\n",
       "    <tr>\n",
       "      <th>13071</th>\n",
       "      <td>6000.0</td>\n",
       "      <td>36 months</td>\n",
       "      <td>6.99</td>\n",
       "      <td>9</td>\n",
       "      <td>RENT</td>\n",
       "      <td>65000.0</td>\n",
       "      <td>Verified</td>\n",
       "      <td>debt_consolidation</td>\n",
       "      <td>28.45</td>\n",
       "      <td>0.0</td>\n",
       "      <td>0.0</td>\n",
       "      <td>7.0</td>\n",
       "      <td>0.0</td>\n",
       "      <td>13041.0</td>\n",
       "      <td>42.9</td>\n",
       "      <td>13.0</td>\n",
       "      <td>0</td>\n",
       "    </tr>\n",
       "  </tbody>\n",
       "</table>\n",
       "</div>"
      ],
      "text/plain": [
       "       loan_amnt        term  int_rate  emp_length home_ownership  annual_inc verification_status             purpose    dti  delinq_2yrs  inq_last_6mths  open_acc  pub_rec  revol_bal  revol_util  total_acc  is_default\n",
       "22692     1800.0   36 months     12.61           0       MORTGAGE     36000.0     Source Verified               other   6.30          0.0             1.0      14.0      0.0     5903.0        36.9       20.0           0\n",
       "13071     6000.0   36 months      6.99           9           RENT     65000.0            Verified  debt_consolidation  28.45          0.0             0.0       7.0      0.0    13041.0        42.9       13.0           0"
      ]
     },
     "metadata": {},
     "output_type": "display_data"
    },
    {
     "data": {
      "text/html": [
       "<div>\n",
       "<style scoped>\n",
       "    .dataframe tbody tr th:only-of-type {\n",
       "        vertical-align: middle;\n",
       "    }\n",
       "\n",
       "    .dataframe tbody tr th {\n",
       "        vertical-align: top;\n",
       "    }\n",
       "\n",
       "    .dataframe thead th {\n",
       "        text-align: right;\n",
       "    }\n",
       "</style>\n",
       "<table border=\"1\" class=\"dataframe\">\n",
       "  <thead>\n",
       "    <tr style=\"text-align: right;\">\n",
       "      <th></th>\n",
       "      <th>loan_amnt</th>\n",
       "      <th>term</th>\n",
       "      <th>int_rate</th>\n",
       "      <th>emp_length</th>\n",
       "      <th>home_ownership</th>\n",
       "      <th>annual_inc</th>\n",
       "      <th>verification_status</th>\n",
       "      <th>purpose</th>\n",
       "      <th>dti</th>\n",
       "      <th>delinq_2yrs</th>\n",
       "      <th>inq_last_6mths</th>\n",
       "      <th>open_acc</th>\n",
       "      <th>pub_rec</th>\n",
       "      <th>revol_bal</th>\n",
       "      <th>revol_util</th>\n",
       "      <th>total_acc</th>\n",
       "      <th>is_default</th>\n",
       "    </tr>\n",
       "  </thead>\n",
       "  <tbody>\n",
       "    <tr>\n",
       "      <th>39296</th>\n",
       "      <td>15250.0</td>\n",
       "      <td>36 months</td>\n",
       "      <td>11.34</td>\n",
       "      <td>10</td>\n",
       "      <td>MORTGAGE</td>\n",
       "      <td>75000.0</td>\n",
       "      <td>Not Verified</td>\n",
       "      <td>debt_consolidation</td>\n",
       "      <td>15.14</td>\n",
       "      <td>0.0</td>\n",
       "      <td>0.0</td>\n",
       "      <td>11.0</td>\n",
       "      <td>0.0</td>\n",
       "      <td>39702.0</td>\n",
       "      <td>84.5</td>\n",
       "      <td>18.0</td>\n",
       "      <td>0</td>\n",
       "    </tr>\n",
       "    <tr>\n",
       "      <th>2652</th>\n",
       "      <td>6000.0</td>\n",
       "      <td>36 months</td>\n",
       "      <td>15.96</td>\n",
       "      <td>4</td>\n",
       "      <td>RENT</td>\n",
       "      <td>72000.0</td>\n",
       "      <td>Not Verified</td>\n",
       "      <td>credit_card</td>\n",
       "      <td>4.15</td>\n",
       "      <td>0.0</td>\n",
       "      <td>2.0</td>\n",
       "      <td>7.0</td>\n",
       "      <td>0.0</td>\n",
       "      <td>7600.0</td>\n",
       "      <td>82.6</td>\n",
       "      <td>11.0</td>\n",
       "      <td>0</td>\n",
       "    </tr>\n",
       "  </tbody>\n",
       "</table>\n",
       "</div>"
      ],
      "text/plain": [
       "       loan_amnt        term  int_rate  emp_length home_ownership  annual_inc verification_status             purpose    dti  delinq_2yrs  inq_last_6mths  open_acc  pub_rec  revol_bal  revol_util  total_acc  is_default\n",
       "39296    15250.0   36 months     11.34          10       MORTGAGE     75000.0        Not Verified  debt_consolidation  15.14          0.0             0.0      11.0      0.0    39702.0        84.5       18.0           0\n",
       "2652      6000.0   36 months     15.96           4           RENT     72000.0        Not Verified         credit_card   4.15          0.0             2.0       7.0      0.0     7600.0        82.6       11.0           0"
      ]
     },
     "metadata": {},
     "output_type": "display_data"
    },
    {
     "data": {
      "text/html": [
       "<div>\n",
       "<style scoped>\n",
       "    .dataframe tbody tr th:only-of-type {\n",
       "        vertical-align: middle;\n",
       "    }\n",
       "\n",
       "    .dataframe tbody tr th {\n",
       "        vertical-align: top;\n",
       "    }\n",
       "\n",
       "    .dataframe thead th {\n",
       "        text-align: right;\n",
       "    }\n",
       "</style>\n",
       "<table border=\"1\" class=\"dataframe\">\n",
       "  <thead>\n",
       "    <tr style=\"text-align: right;\">\n",
       "      <th></th>\n",
       "      <th>loan_amnt</th>\n",
       "      <th>term</th>\n",
       "      <th>int_rate</th>\n",
       "      <th>emp_length</th>\n",
       "      <th>home_ownership</th>\n",
       "      <th>annual_inc</th>\n",
       "      <th>verification_status</th>\n",
       "      <th>purpose</th>\n",
       "      <th>dti</th>\n",
       "      <th>delinq_2yrs</th>\n",
       "      <th>inq_last_6mths</th>\n",
       "      <th>open_acc</th>\n",
       "      <th>pub_rec</th>\n",
       "      <th>revol_bal</th>\n",
       "      <th>revol_util</th>\n",
       "      <th>total_acc</th>\n",
       "      <th>is_default</th>\n",
       "    </tr>\n",
       "  </thead>\n",
       "  <tbody>\n",
       "    <tr>\n",
       "      <th>9990</th>\n",
       "      <td>8450.0</td>\n",
       "      <td>60 months</td>\n",
       "      <td>11.49</td>\n",
       "      <td>1</td>\n",
       "      <td>RENT</td>\n",
       "      <td>42000.0</td>\n",
       "      <td>Source Verified</td>\n",
       "      <td>debt_consolidation</td>\n",
       "      <td>24.71</td>\n",
       "      <td>0.0</td>\n",
       "      <td>0.0</td>\n",
       "      <td>12.0</td>\n",
       "      <td>0.0</td>\n",
       "      <td>8252.0</td>\n",
       "      <td>23.8</td>\n",
       "      <td>30.0</td>\n",
       "      <td>1</td>\n",
       "    </tr>\n",
       "    <tr>\n",
       "      <th>27119</th>\n",
       "      <td>13000.0</td>\n",
       "      <td>60 months</td>\n",
       "      <td>15.58</td>\n",
       "      <td>4</td>\n",
       "      <td>RENT</td>\n",
       "      <td>109896.0</td>\n",
       "      <td>Source Verified</td>\n",
       "      <td>wedding</td>\n",
       "      <td>12.28</td>\n",
       "      <td>0.0</td>\n",
       "      <td>0.0</td>\n",
       "      <td>11.0</td>\n",
       "      <td>0.0</td>\n",
       "      <td>13.0</td>\n",
       "      <td>0.2</td>\n",
       "      <td>19.0</td>\n",
       "      <td>1</td>\n",
       "    </tr>\n",
       "  </tbody>\n",
       "</table>\n",
       "</div>"
      ],
      "text/plain": [
       "       loan_amnt        term  int_rate  emp_length home_ownership  annual_inc verification_status             purpose    dti  delinq_2yrs  inq_last_6mths  open_acc  pub_rec  revol_bal  revol_util  total_acc  is_default\n",
       "9990      8450.0   60 months     11.49           1           RENT     42000.0     Source Verified  debt_consolidation  24.71          0.0             0.0      12.0      0.0     8252.0        23.8       30.0           1\n",
       "27119    13000.0   60 months     15.58           4           RENT    109896.0     Source Verified             wedding  12.28          0.0             0.0      11.0      0.0       13.0         0.2       19.0           1"
      ]
     },
     "metadata": {},
     "output_type": "display_data"
    },
    {
     "data": {
      "text/plain": [
       "0    14547\n",
       "1     2451\n",
       "Name: is_default, dtype: int64"
      ]
     },
     "metadata": {},
     "output_type": "display_data"
    }
   ],
   "source": [
    "pipe_1_2_3 = Pipeline(\n",
    "    [\n",
    "        # nan_threshold=0.5, is a float in [0, 1.0] - CAN CHANGE OR KEEP UNCHANGED\n",
    "        (\"nanthresh\", ct.DFNanThresholdColumnDropper(0.5)),\n",
    "        (\"nouse\", ct.DFColumnDropper(non_useful_cols)),\n",
    "        (\"dtime\", ct.DFColumnDropper(datetime_cols)),\n",
    "        (\"c1\", ct.DFColumnDropper(cols_one_eighteen)),\n",
    "        (\"c2\", ct.DFColumnDropper(cols_eighteen_thirtysix)),\n",
    "        (\"c3\", ct.DFColumnDropper(cols_thirtyseven_end)),\n",
    "        (\n",
    "            \"mapstatus\",\n",
    "            ct.DFColumnFilterList(\"loan_status\", loan_status),\n",
    "        ),\n",
    "        (\"colmap\", ct.DFColumnMapper(mapping_dictionary_labels)),\n",
    "        (\"onevals\", ct.DFNonUniqueValColDropper(num_non_unique_vals=1)),\n",
    "        # four_or_less_value_columns=['pymnt_plan'] - 'pymnt_plan' is MOSTLY 'n', EXCLUDE\n",
    "        (\"fourvals\", ct.DFColumnDropper(four_or_less_value_columns)),\n",
    "        # more_than_one_pct_missing_columns = ['pub_rec_bankruptcies']\n",
    "        (\"morethan1pctnan\", ct.DFColumnDropper(more_than_one_pct_missing_columns)),\n",
    "        (\"nan\", ct.DFDropNaN()),\n",
    "        # high_cardinality_cols=['addr_state'] - CAN INCLUDE OR EXCLUDE\n",
    "        (\"hcardcols\", ct.DFColumnDropper(high_cardinality_cols)),\n",
    "        (\"dtimev2\", ct.DFColumnDropper(datetime_cols_v2)),\n",
    "        (\"texttonum\", ct.DFColumnMapper(mapping_dict_emp_length)),\n",
    "        (\"repeats\", ct.DFColumnDropper(repeated_data_cols)),\n",
    "        (\"pctcols\", ct.DFPctNumeric(pct_to_numeric_cols, \"%\")),\n",
    "        (\n",
    "            \"singlecolmap\",\n",
    "            ct.DFSingleColumnMapper(\"loan_status\", mapping_dict_new_labels),\n",
    "        ),\n",
    "        (\"dtype\", ct.DFSimpleDtypeChanger(new_labels, \"int\")),\n",
    "        # n_std is an integer - CAN CHANGE OR KEEP UNCHANGED\n",
    "        (\"stdfilter\", ct.DFColumnStdFilter(\"annual_inc\", 3)),\n",
    "        # correlated_features=['total_acc','installment','fico_range_low','fico_range_high'] EXCLUDE\n",
    "        (\"corr\", ct.DFColumnDropper(correlated_features)),\n",
    "        (\"lookahead\", ct.DFColumnDropper(look_ahead_features)),\n",
    "        (\"label\", ct.DFColumnDropper(raw_labels)),\n",
    "        # requires (\"corr\", ...) to be removed; threshold=1, ideally chosen from dendogram\n",
    "        # (\"clusterselect\", ct.DFHierarchicalClusterSpearmanRank(threshold=1)),\n",
    "    ]\n",
    ")\n",
    "df_pipe_transformed_train = pipe_1_2_3.fit_transform(df_train)\n",
    "df_pipe_transformed_val = pipe_1_2_3.transform(df_val)\n",
    "df_pipe_transformed_train_val = pipe_1_2_3.transform(df_train_val)\n",
    "df_pipe_transformed_test = pipe_1_2_3.transform(df_test)\n",
    "print(df_pipe_transformed_train.shape)\n",
    "print(df_pipe_transformed_val.shape)\n",
    "print(df_pipe_transformed_train_val.shape)\n",
    "print(df_pipe_transformed_test.shape)\n",
    "display(df_pipe_transformed_train.head(2))\n",
    "display(df_pipe_transformed_val.head(2))\n",
    "display(df_pipe_transformed_train_val.head(2))\n",
    "display(df_pipe_transformed_test.head(2))\n",
    "display(df_pipe_transformed_train[\"is_default\"].squeeze().value_counts(dropna=False))"
   ]
  },
  {
   "cell_type": "markdown",
   "metadata": {},
   "source": [
    "## Get features and class labels from processed data"
   ]
  },
  {
   "cell_type": "markdown",
   "metadata": {},
   "source": [
    "The features and labels are now extracted from the processed training and testing splits"
   ]
  },
  {
   "cell_type": "code",
   "execution_count": 11,
   "metadata": {
    "execution": {
     "iopub.execute_input": "2020-11-13T15:39:07.723419Z",
     "iopub.status.busy": "2020-11-13T15:39:07.723272Z",
     "iopub.status.idle": "2020-11-13T15:39:07.807670Z",
     "shell.execute_reply": "2020-11-13T15:39:07.807079Z",
     "shell.execute_reply.started": "2020-11-13T15:39:07.723402Z"
    }
   },
   "outputs": [
    {
     "data": {
      "text/html": [
       "<div>\n",
       "<style scoped>\n",
       "    .dataframe tbody tr th:only-of-type {\n",
       "        vertical-align: middle;\n",
       "    }\n",
       "\n",
       "    .dataframe tbody tr th {\n",
       "        vertical-align: top;\n",
       "    }\n",
       "\n",
       "    .dataframe thead th {\n",
       "        text-align: right;\n",
       "    }\n",
       "</style>\n",
       "<table border=\"1\" class=\"dataframe\">\n",
       "  <thead>\n",
       "    <tr style=\"text-align: right;\">\n",
       "      <th></th>\n",
       "      <th>loan_amnt</th>\n",
       "      <th>term</th>\n",
       "      <th>int_rate</th>\n",
       "      <th>emp_length</th>\n",
       "      <th>home_ownership</th>\n",
       "      <th>annual_inc</th>\n",
       "      <th>verification_status</th>\n",
       "      <th>purpose</th>\n",
       "      <th>dti</th>\n",
       "      <th>delinq_2yrs</th>\n",
       "      <th>inq_last_6mths</th>\n",
       "      <th>open_acc</th>\n",
       "      <th>pub_rec</th>\n",
       "      <th>revol_bal</th>\n",
       "      <th>revol_util</th>\n",
       "      <th>total_acc</th>\n",
       "    </tr>\n",
       "  </thead>\n",
       "  <tbody>\n",
       "    <tr>\n",
       "      <th>36400</th>\n",
       "      <td>4800.0</td>\n",
       "      <td>36 months</td>\n",
       "      <td>11.89</td>\n",
       "      <td>10</td>\n",
       "      <td>RENT</td>\n",
       "      <td>41300.0</td>\n",
       "      <td>Not Verified</td>\n",
       "      <td>debt_consolidation</td>\n",
       "      <td>18.65</td>\n",
       "      <td>0.0</td>\n",
       "      <td>1.0</td>\n",
       "      <td>5.0</td>\n",
       "      <td>1.0</td>\n",
       "      <td>4224.0</td>\n",
       "      <td>40.2</td>\n",
       "      <td>22.0</td>\n",
       "    </tr>\n",
       "    <tr>\n",
       "      <th>20156</th>\n",
       "      <td>12000.0</td>\n",
       "      <td>60 months</td>\n",
       "      <td>14.91</td>\n",
       "      <td>1</td>\n",
       "      <td>MORTGAGE</td>\n",
       "      <td>36000.0</td>\n",
       "      <td>Source Verified</td>\n",
       "      <td>major_purchase</td>\n",
       "      <td>13.43</td>\n",
       "      <td>0.0</td>\n",
       "      <td>3.0</td>\n",
       "      <td>8.0</td>\n",
       "      <td>1.0</td>\n",
       "      <td>5049.0</td>\n",
       "      <td>78.9</td>\n",
       "      <td>17.0</td>\n",
       "    </tr>\n",
       "  </tbody>\n",
       "</table>\n",
       "</div>"
      ],
      "text/plain": [
       "       loan_amnt        term  int_rate  emp_length home_ownership  annual_inc verification_status             purpose    dti  delinq_2yrs  inq_last_6mths  open_acc  pub_rec  revol_bal  revol_util  total_acc\n",
       "36400     4800.0   36 months     11.89          10           RENT     41300.0        Not Verified  debt_consolidation  18.65          0.0             1.0       5.0      1.0     4224.0        40.2       22.0\n",
       "20156    12000.0   60 months     14.91           1       MORTGAGE     36000.0     Source Verified      major_purchase  13.43          0.0             3.0       8.0      1.0     5049.0        78.9       17.0"
      ]
     },
     "metadata": {},
     "output_type": "display_data"
    },
    {
     "data": {
      "text/html": [
       "<div>\n",
       "<style scoped>\n",
       "    .dataframe tbody tr th:only-of-type {\n",
       "        vertical-align: middle;\n",
       "    }\n",
       "\n",
       "    .dataframe tbody tr th {\n",
       "        vertical-align: top;\n",
       "    }\n",
       "\n",
       "    .dataframe thead th {\n",
       "        text-align: right;\n",
       "    }\n",
       "</style>\n",
       "<table border=\"1\" class=\"dataframe\">\n",
       "  <thead>\n",
       "    <tr style=\"text-align: right;\">\n",
       "      <th></th>\n",
       "      <th>loan_amnt</th>\n",
       "      <th>term</th>\n",
       "      <th>int_rate</th>\n",
       "      <th>emp_length</th>\n",
       "      <th>home_ownership</th>\n",
       "      <th>annual_inc</th>\n",
       "      <th>verification_status</th>\n",
       "      <th>purpose</th>\n",
       "      <th>dti</th>\n",
       "      <th>delinq_2yrs</th>\n",
       "      <th>inq_last_6mths</th>\n",
       "      <th>open_acc</th>\n",
       "      <th>pub_rec</th>\n",
       "      <th>revol_bal</th>\n",
       "      <th>revol_util</th>\n",
       "      <th>total_acc</th>\n",
       "    </tr>\n",
       "  </thead>\n",
       "  <tbody>\n",
       "    <tr>\n",
       "      <th>22692</th>\n",
       "      <td>1800.0</td>\n",
       "      <td>36 months</td>\n",
       "      <td>12.61</td>\n",
       "      <td>0</td>\n",
       "      <td>MORTGAGE</td>\n",
       "      <td>36000.0</td>\n",
       "      <td>Source Verified</td>\n",
       "      <td>other</td>\n",
       "      <td>6.30</td>\n",
       "      <td>0.0</td>\n",
       "      <td>1.0</td>\n",
       "      <td>14.0</td>\n",
       "      <td>0.0</td>\n",
       "      <td>5903.0</td>\n",
       "      <td>36.9</td>\n",
       "      <td>20.0</td>\n",
       "    </tr>\n",
       "    <tr>\n",
       "      <th>13071</th>\n",
       "      <td>6000.0</td>\n",
       "      <td>36 months</td>\n",
       "      <td>6.99</td>\n",
       "      <td>9</td>\n",
       "      <td>RENT</td>\n",
       "      <td>65000.0</td>\n",
       "      <td>Verified</td>\n",
       "      <td>debt_consolidation</td>\n",
       "      <td>28.45</td>\n",
       "      <td>0.0</td>\n",
       "      <td>0.0</td>\n",
       "      <td>7.0</td>\n",
       "      <td>0.0</td>\n",
       "      <td>13041.0</td>\n",
       "      <td>42.9</td>\n",
       "      <td>13.0</td>\n",
       "    </tr>\n",
       "  </tbody>\n",
       "</table>\n",
       "</div>"
      ],
      "text/plain": [
       "       loan_amnt        term  int_rate  emp_length home_ownership  annual_inc verification_status             purpose    dti  delinq_2yrs  inq_last_6mths  open_acc  pub_rec  revol_bal  revol_util  total_acc\n",
       "22692     1800.0   36 months     12.61           0       MORTGAGE     36000.0     Source Verified               other   6.30          0.0             1.0      14.0      0.0     5903.0        36.9       20.0\n",
       "13071     6000.0   36 months      6.99           9           RENT     65000.0            Verified  debt_consolidation  28.45          0.0             0.0       7.0      0.0    13041.0        42.9       13.0"
      ]
     },
     "metadata": {},
     "output_type": "display_data"
    },
    {
     "data": {
      "text/html": [
       "<div>\n",
       "<style scoped>\n",
       "    .dataframe tbody tr th:only-of-type {\n",
       "        vertical-align: middle;\n",
       "    }\n",
       "\n",
       "    .dataframe tbody tr th {\n",
       "        vertical-align: top;\n",
       "    }\n",
       "\n",
       "    .dataframe thead th {\n",
       "        text-align: right;\n",
       "    }\n",
       "</style>\n",
       "<table border=\"1\" class=\"dataframe\">\n",
       "  <thead>\n",
       "    <tr style=\"text-align: right;\">\n",
       "      <th></th>\n",
       "      <th>loan_amnt</th>\n",
       "      <th>term</th>\n",
       "      <th>int_rate</th>\n",
       "      <th>emp_length</th>\n",
       "      <th>home_ownership</th>\n",
       "      <th>annual_inc</th>\n",
       "      <th>verification_status</th>\n",
       "      <th>purpose</th>\n",
       "      <th>dti</th>\n",
       "      <th>delinq_2yrs</th>\n",
       "      <th>inq_last_6mths</th>\n",
       "      <th>open_acc</th>\n",
       "      <th>pub_rec</th>\n",
       "      <th>revol_bal</th>\n",
       "      <th>revol_util</th>\n",
       "      <th>total_acc</th>\n",
       "    </tr>\n",
       "  </thead>\n",
       "  <tbody>\n",
       "    <tr>\n",
       "      <th>9990</th>\n",
       "      <td>8450.0</td>\n",
       "      <td>60 months</td>\n",
       "      <td>11.49</td>\n",
       "      <td>1</td>\n",
       "      <td>RENT</td>\n",
       "      <td>42000.0</td>\n",
       "      <td>Source Verified</td>\n",
       "      <td>debt_consolidation</td>\n",
       "      <td>24.71</td>\n",
       "      <td>0.0</td>\n",
       "      <td>0.0</td>\n",
       "      <td>12.0</td>\n",
       "      <td>0.0</td>\n",
       "      <td>8252.0</td>\n",
       "      <td>23.8</td>\n",
       "      <td>30.0</td>\n",
       "    </tr>\n",
       "    <tr>\n",
       "      <th>27119</th>\n",
       "      <td>13000.0</td>\n",
       "      <td>60 months</td>\n",
       "      <td>15.58</td>\n",
       "      <td>4</td>\n",
       "      <td>RENT</td>\n",
       "      <td>109896.0</td>\n",
       "      <td>Source Verified</td>\n",
       "      <td>wedding</td>\n",
       "      <td>12.28</td>\n",
       "      <td>0.0</td>\n",
       "      <td>0.0</td>\n",
       "      <td>11.0</td>\n",
       "      <td>0.0</td>\n",
       "      <td>13.0</td>\n",
       "      <td>0.2</td>\n",
       "      <td>19.0</td>\n",
       "    </tr>\n",
       "  </tbody>\n",
       "</table>\n",
       "</div>"
      ],
      "text/plain": [
       "       loan_amnt        term  int_rate  emp_length home_ownership  annual_inc verification_status             purpose    dti  delinq_2yrs  inq_last_6mths  open_acc  pub_rec  revol_bal  revol_util  total_acc\n",
       "9990      8450.0   60 months     11.49           1           RENT     42000.0     Source Verified  debt_consolidation  24.71          0.0             0.0      12.0      0.0     8252.0        23.8       30.0\n",
       "27119    13000.0   60 months     15.58           4           RENT    109896.0     Source Verified             wedding  12.28          0.0             0.0      11.0      0.0       13.0         0.2       19.0"
      ]
     },
     "metadata": {},
     "output_type": "display_data"
    },
    {
     "data": {
      "text/html": [
       "<div>\n",
       "<style scoped>\n",
       "    .dataframe tbody tr th:only-of-type {\n",
       "        vertical-align: middle;\n",
       "    }\n",
       "\n",
       "    .dataframe tbody tr th {\n",
       "        vertical-align: top;\n",
       "    }\n",
       "\n",
       "    .dataframe thead th {\n",
       "        text-align: right;\n",
       "    }\n",
       "</style>\n",
       "<table border=\"1\" class=\"dataframe\">\n",
       "  <thead>\n",
       "    <tr style=\"text-align: right;\">\n",
       "      <th></th>\n",
       "      <th>loan_amnt</th>\n",
       "      <th>term</th>\n",
       "      <th>int_rate</th>\n",
       "      <th>emp_length</th>\n",
       "      <th>home_ownership</th>\n",
       "      <th>annual_inc</th>\n",
       "      <th>verification_status</th>\n",
       "      <th>purpose</th>\n",
       "      <th>dti</th>\n",
       "      <th>delinq_2yrs</th>\n",
       "      <th>inq_last_6mths</th>\n",
       "      <th>open_acc</th>\n",
       "      <th>pub_rec</th>\n",
       "      <th>revol_bal</th>\n",
       "      <th>revol_util</th>\n",
       "      <th>total_acc</th>\n",
       "    </tr>\n",
       "  </thead>\n",
       "  <tbody>\n",
       "    <tr>\n",
       "      <th>9990</th>\n",
       "      <td>8450.0</td>\n",
       "      <td>60 months</td>\n",
       "      <td>11.49</td>\n",
       "      <td>1</td>\n",
       "      <td>RENT</td>\n",
       "      <td>42000.0</td>\n",
       "      <td>Source Verified</td>\n",
       "      <td>debt_consolidation</td>\n",
       "      <td>24.71</td>\n",
       "      <td>0.0</td>\n",
       "      <td>0.0</td>\n",
       "      <td>12.0</td>\n",
       "      <td>0.0</td>\n",
       "      <td>8252.0</td>\n",
       "      <td>23.8</td>\n",
       "      <td>30.0</td>\n",
       "    </tr>\n",
       "    <tr>\n",
       "      <th>27119</th>\n",
       "      <td>13000.0</td>\n",
       "      <td>60 months</td>\n",
       "      <td>15.58</td>\n",
       "      <td>4</td>\n",
       "      <td>RENT</td>\n",
       "      <td>109896.0</td>\n",
       "      <td>Source Verified</td>\n",
       "      <td>wedding</td>\n",
       "      <td>12.28</td>\n",
       "      <td>0.0</td>\n",
       "      <td>0.0</td>\n",
       "      <td>11.0</td>\n",
       "      <td>0.0</td>\n",
       "      <td>13.0</td>\n",
       "      <td>0.2</td>\n",
       "      <td>19.0</td>\n",
       "    </tr>\n",
       "  </tbody>\n",
       "</table>\n",
       "</div>"
      ],
      "text/plain": [
       "       loan_amnt        term  int_rate  emp_length home_ownership  annual_inc verification_status             purpose    dti  delinq_2yrs  inq_last_6mths  open_acc  pub_rec  revol_bal  revol_util  total_acc\n",
       "9990      8450.0   60 months     11.49           1           RENT     42000.0     Source Verified  debt_consolidation  24.71          0.0             0.0      12.0      0.0     8252.0        23.8       30.0\n",
       "27119    13000.0   60 months     15.58           4           RENT    109896.0     Source Verified             wedding  12.28          0.0             0.0      11.0      0.0       13.0         0.2       19.0"
      ]
     },
     "metadata": {},
     "output_type": "display_data"
    },
    {
     "data": {
      "text/html": [
       "<div>\n",
       "<style scoped>\n",
       "    .dataframe tbody tr th:only-of-type {\n",
       "        vertical-align: middle;\n",
       "    }\n",
       "\n",
       "    .dataframe tbody tr th {\n",
       "        vertical-align: top;\n",
       "    }\n",
       "\n",
       "    .dataframe thead th {\n",
       "        text-align: right;\n",
       "    }\n",
       "</style>\n",
       "<table border=\"1\" class=\"dataframe\">\n",
       "  <thead>\n",
       "    <tr style=\"text-align: right;\">\n",
       "      <th></th>\n",
       "      <th>is_default</th>\n",
       "    </tr>\n",
       "  </thead>\n",
       "  <tbody>\n",
       "    <tr>\n",
       "      <th>36400</th>\n",
       "      <td>0</td>\n",
       "    </tr>\n",
       "    <tr>\n",
       "      <th>20156</th>\n",
       "      <td>0</td>\n",
       "    </tr>\n",
       "  </tbody>\n",
       "</table>\n",
       "</div>"
      ],
      "text/plain": [
       "       is_default\n",
       "36400           0\n",
       "20156           0"
      ]
     },
     "metadata": {},
     "output_type": "display_data"
    },
    {
     "data": {
      "text/html": [
       "<div>\n",
       "<style scoped>\n",
       "    .dataframe tbody tr th:only-of-type {\n",
       "        vertical-align: middle;\n",
       "    }\n",
       "\n",
       "    .dataframe tbody tr th {\n",
       "        vertical-align: top;\n",
       "    }\n",
       "\n",
       "    .dataframe thead th {\n",
       "        text-align: right;\n",
       "    }\n",
       "</style>\n",
       "<table border=\"1\" class=\"dataframe\">\n",
       "  <thead>\n",
       "    <tr style=\"text-align: right;\">\n",
       "      <th></th>\n",
       "      <th>is_default</th>\n",
       "    </tr>\n",
       "  </thead>\n",
       "  <tbody>\n",
       "    <tr>\n",
       "      <th>22692</th>\n",
       "      <td>0</td>\n",
       "    </tr>\n",
       "    <tr>\n",
       "      <th>13071</th>\n",
       "      <td>0</td>\n",
       "    </tr>\n",
       "  </tbody>\n",
       "</table>\n",
       "</div>"
      ],
      "text/plain": [
       "       is_default\n",
       "22692           0\n",
       "13071           0"
      ]
     },
     "metadata": {},
     "output_type": "display_data"
    },
    {
     "data": {
      "text/html": [
       "<div>\n",
       "<style scoped>\n",
       "    .dataframe tbody tr th:only-of-type {\n",
       "        vertical-align: middle;\n",
       "    }\n",
       "\n",
       "    .dataframe tbody tr th {\n",
       "        vertical-align: top;\n",
       "    }\n",
       "\n",
       "    .dataframe thead th {\n",
       "        text-align: right;\n",
       "    }\n",
       "</style>\n",
       "<table border=\"1\" class=\"dataframe\">\n",
       "  <thead>\n",
       "    <tr style=\"text-align: right;\">\n",
       "      <th></th>\n",
       "      <th>is_default</th>\n",
       "    </tr>\n",
       "  </thead>\n",
       "  <tbody>\n",
       "    <tr>\n",
       "      <th>9990</th>\n",
       "      <td>1</td>\n",
       "    </tr>\n",
       "    <tr>\n",
       "      <th>27119</th>\n",
       "      <td>1</td>\n",
       "    </tr>\n",
       "  </tbody>\n",
       "</table>\n",
       "</div>"
      ],
      "text/plain": [
       "       is_default\n",
       "9990            1\n",
       "27119           1"
      ]
     },
     "metadata": {},
     "output_type": "display_data"
    },
    {
     "data": {
      "text/html": [
       "<div>\n",
       "<style scoped>\n",
       "    .dataframe tbody tr th:only-of-type {\n",
       "        vertical-align: middle;\n",
       "    }\n",
       "\n",
       "    .dataframe tbody tr th {\n",
       "        vertical-align: top;\n",
       "    }\n",
       "\n",
       "    .dataframe thead th {\n",
       "        text-align: right;\n",
       "    }\n",
       "</style>\n",
       "<table border=\"1\" class=\"dataframe\">\n",
       "  <thead>\n",
       "    <tr style=\"text-align: right;\">\n",
       "      <th></th>\n",
       "      <th>is_default</th>\n",
       "    </tr>\n",
       "  </thead>\n",
       "  <tbody>\n",
       "    <tr>\n",
       "      <th>9990</th>\n",
       "      <td>1</td>\n",
       "    </tr>\n",
       "    <tr>\n",
       "      <th>27119</th>\n",
       "      <td>1</td>\n",
       "    </tr>\n",
       "  </tbody>\n",
       "</table>\n",
       "</div>"
      ],
      "text/plain": [
       "       is_default\n",
       "9990            1\n",
       "27119           1"
      ]
     },
     "metadata": {},
     "output_type": "display_data"
    }
   ],
   "source": [
    "X_train = df_pipe_transformed_train.drop(labels=new_labels, axis=1)\n",
    "y_train = df_pipe_transformed_train[new_labels].astype(int).squeeze()\n",
    "X_val = df_pipe_transformed_val.drop(labels=new_labels, axis=1)\n",
    "y_val = df_pipe_transformed_val[new_labels].astype(int).squeeze()\n",
    "X_train_val = df_pipe_transformed_test.drop(labels=new_labels, axis=1)\n",
    "y_train_val = df_pipe_transformed_test[new_labels].astype(int).squeeze()\n",
    "X_test = df_pipe_transformed_test.drop(labels=new_labels, axis=1)\n",
    "y_test = df_pipe_transformed_test[new_labels].astype(int).squeeze()\n",
    "display(X_train.head(2))\n",
    "display(X_val.head(2))\n",
    "display(X_test.head(2))\n",
    "display(X_train_val.head(2))\n",
    "display(y_train.to_frame().head(2))\n",
    "display(y_val.to_frame().head(2))\n",
    "display(y_test.to_frame().head(2))\n",
    "display(y_train_val.to_frame().head(2))"
   ]
  },
  {
   "cell_type": "markdown",
   "metadata": {},
   "source": [
    "## Assemble components for `GridSearchCV`"
   ]
  },
  {
   "cell_type": "markdown",
   "metadata": {},
   "source": [
    "The pipeline inputs and other components required for hyperparameter optimization using `GridSearchCV` are extracted here"
   ]
  },
  {
   "cell_type": "markdown",
   "metadata": {},
   "source": [
    "### Lists of features by type"
   ]
  },
  {
   "cell_type": "markdown",
   "metadata": {},
   "source": [
    "A list of numerical and categorical features is extracted from the processed data\n",
    "- numerical features are those with a datatype of `float`\n",
    "- categorical features are those that do not have a datatype of `float`"
   ]
  },
  {
   "cell_type": "code",
   "execution_count": 12,
   "metadata": {
    "execution": {
     "iopub.execute_input": "2020-11-13T15:39:07.808323Z",
     "iopub.status.busy": "2020-11-13T15:39:07.808205Z",
     "iopub.status.idle": "2020-11-13T15:39:07.831103Z",
     "shell.execute_reply": "2020-11-13T15:39:07.830591Z",
     "shell.execute_reply.started": "2020-11-13T15:39:07.808308Z"
    }
   },
   "outputs": [
    {
     "name": "stdout",
     "output_type": "stream",
     "text": [
      "Columns from training data match feature lists\n",
      "Categoricals:\n",
      "-term\n",
      "-home_ownership\n",
      "-verification_status\n",
      "-purpose\n",
      "-emp_length\n",
      "Numericals:\n",
      "-loan_amnt\n",
      "-int_rate\n",
      "-annual_inc\n",
      "-dti\n",
      "-delinq_2yrs\n",
      "-inq_last_6mths\n",
      "-open_acc\n",
      "-pub_rec\n",
      "-revol_bal\n",
      "-revol_util\n",
      "-total_acc\n"
     ]
    }
   ],
   "source": [
    "numerical_columns = [\n",
    "    c\n",
    "    for c in list(X_train.select_dtypes(exclude=\"object\"))\n",
    "    if c not in new_labels + [\"emp_length\"]\n",
    "]\n",
    "nominal_columns = list(X_train.select_dtypes(include=\"object\")) + [\"emp_length\"]\n",
    "try:\n",
    "    assert set(numerical_columns + nominal_columns) == set(list(X_train)) - set(\n",
    "        new_labels\n",
    "    )\n",
    "    print(\"Columns from training data match feature lists\")\n",
    "except AssertionError as e:\n",
    "    print(\"Some columns from training data are missing from feature lists\")\n",
    "print(\"Categoricals:\\n-\" + \"\\n-\".join(nominal_columns))\n",
    "print(\"Numericals:\\n-\" + \"\\n-\".join(numerical_columns))"
   ]
  },
  {
   "cell_type": "markdown",
   "metadata": {},
   "source": [
    "### Feature transformations"
   ]
  },
  {
   "cell_type": "markdown",
   "metadata": {},
   "source": [
    "Below, feature transformations to be applied to all numerical columns are defined. With or without transformations, all numerical features will be normalized. All categorical features will be one-hot encoded."
   ]
  },
  {
   "cell_type": "code",
   "execution_count": 13,
   "metadata": {
    "execution": {
     "iopub.execute_input": "2020-11-13T15:39:07.831849Z",
     "iopub.status.busy": "2020-11-13T15:39:07.831698Z",
     "iopub.status.idle": "2020-11-13T15:39:07.868901Z",
     "shell.execute_reply": "2020-11-13T15:39:07.868222Z",
     "shell.execute_reply.started": "2020-11-13T15:39:07.831831Z"
    }
   },
   "outputs": [],
   "source": [
    "col_transformers = {\n",
    "    c: Pipeline(\n",
    "        steps=[\n",
    "            (\"trans\", ct.DFPowerTransformer(\"yeo-johnson\")),\n",
    "            (\"ss\", ct.DFStandardScaler()),\n",
    "        ]\n",
    "    )\n",
    "    for c in numerical_columns\n",
    "}\n",
    "preprocessors = {\n",
    "    \"no_trans\": ColumnTransformer(\n",
    "        transformers=[\n",
    "            (\n",
    "                \"nums\",\n",
    "                Pipeline(steps=[(\"trans\", StandardScaler())]),\n",
    "                numerical_columns,\n",
    "            )\n",
    "        ]\n",
    "        + [(\"onehot\", OneHotEncoder(handle_unknown=\"ignore\"), nominal_columns)],\n",
    "        remainder=\"passthrough\",\n",
    "    ),\n",
    "    \"trans\": ColumnTransformer(\n",
    "        transformers=[(k, v, [k]) for k, v in col_transformers.items()]\n",
    "        + [(\"onehot\", OneHotEncoder(handle_unknown=\"ignore\"), nominal_columns)],\n",
    "        remainder=\"passthrough\",\n",
    "    ),\n",
    "}"
   ]
  },
  {
   "cell_type": "markdown",
   "metadata": {},
   "source": [
    "### Classifiers and hyper-parameters for optimization"
   ]
  },
  {
   "cell_type": "markdown",
   "metadata": {},
   "source": [
    "The models to be compared, discrimination threshold(s) (to be applied to all listed models), and dictionaries of model hyper-parameters for tuning, are defined below\n",
    "- for hyper-parameter dictionaries containing cost-function weights, for manual specification of the penalties used in the algorithm's cost function, the larger penalty should be assigned to the minority class (see [**Lesson 07. Cost-Sensitive Algorithms**](https://machinelearningmastery.com/imbalanced-classification-with-python-7-day-mini-course/))\n",
    "  - here, this is for the positive class where `is_default`==1, and is explicitly shown below through the class-balance of the labels from the training data"
   ]
  },
  {
   "cell_type": "code",
   "execution_count": 14,
   "metadata": {
    "execution": {
     "iopub.execute_input": "2020-11-13T15:39:07.869751Z",
     "iopub.status.busy": "2020-11-13T15:39:07.869595Z",
     "iopub.status.idle": "2020-11-13T15:39:07.890870Z",
     "shell.execute_reply": "2020-11-13T15:39:07.890347Z",
     "shell.execute_reply.started": "2020-11-13T15:39:07.869728Z"
    }
   },
   "outputs": [
    {
     "data": {
      "text/html": [
       "<div>\n",
       "<style scoped>\n",
       "    .dataframe tbody tr th:only-of-type {\n",
       "        vertical-align: middle;\n",
       "    }\n",
       "\n",
       "    .dataframe tbody tr th {\n",
       "        vertical-align: top;\n",
       "    }\n",
       "\n",
       "    .dataframe thead th {\n",
       "        text-align: right;\n",
       "    }\n",
       "</style>\n",
       "<table border=\"1\" class=\"dataframe\">\n",
       "  <thead>\n",
       "    <tr style=\"text-align: right;\">\n",
       "      <th></th>\n",
       "      <th>is_default</th>\n",
       "    </tr>\n",
       "  </thead>\n",
       "  <tbody>\n",
       "    <tr>\n",
       "      <th>0</th>\n",
       "      <td>14547</td>\n",
       "    </tr>\n",
       "    <tr>\n",
       "      <th>1</th>\n",
       "      <td>2451</td>\n",
       "    </tr>\n",
       "  </tbody>\n",
       "</table>\n",
       "</div>"
      ],
      "text/plain": [
       "   is_default\n",
       "0       14547\n",
       "1        2451"
      ]
     },
     "execution_count": 14,
     "metadata": {},
     "output_type": "execute_result"
    }
   ],
   "source": [
    "y_train.value_counts().to_frame()"
   ]
  },
  {
   "cell_type": "code",
   "execution_count": 15,
   "metadata": {
    "execution": {
     "iopub.execute_input": "2020-11-13T15:39:07.891566Z",
     "iopub.status.busy": "2020-11-13T15:39:07.891440Z",
     "iopub.status.idle": "2020-11-13T15:39:07.916896Z",
     "shell.execute_reply": "2020-11-13T15:39:07.916368Z",
     "shell.execute_reply.started": "2020-11-13T15:39:07.891550Z"
    }
   },
   "outputs": [],
   "source": [
    "vc = np.unique(y_train, return_counts=True)[1]\n",
    "minority_weight = vc[0] / vc[1]\n",
    "parameters = {\n",
    "    \"LogisticRegression\": {\n",
    "        \"C\": [1.0],\n",
    "        \"class_weight\": [\n",
    "            \"balanced\",\n",
    "            None,\n",
    "            {0: 1, 1: 1},\n",
    "            {0: 1, 1: 5},\n",
    "            {0: 1, 1: 5.5},\n",
    "            {0: 1, 1: minority_weight},\n",
    "            {0: 1, 1: 6},\n",
    "            {0: 1, 1: 8},\n",
    "        ],\n",
    "    },\n",
    "    \"DummyClassifier\": {\"strategy\": [\"stratified\"]},\n",
    "}"
   ]
  },
  {
   "cell_type": "code",
   "execution_count": null,
   "metadata": {},
   "outputs": [],
   "source": []
  },
  {
   "cell_type": "code",
   "execution_count": 16,
   "metadata": {
    "execution": {
     "iopub.execute_input": "2020-11-13T15:39:07.917698Z",
     "iopub.status.busy": "2020-11-13T15:39:07.917555Z",
     "iopub.status.idle": "2020-11-13T15:39:12.331802Z",
     "shell.execute_reply": "2020-11-13T15:39:12.331221Z",
     "shell.execute_reply.started": "2020-11-13T15:39:07.917680Z"
    }
   },
   "outputs": [
    {
     "name": "stdout",
     "output_type": "stream",
     "text": [
      "Fitting 5 folds for each of 8 candidates, totalling 40 fits\n"
     ]
    },
    {
     "name": "stderr",
     "output_type": "stream",
     "text": [
      "[Parallel(n_jobs=-1)]: Using backend LokyBackend with 12 concurrent workers.\n",
      "[Parallel(n_jobs=-1)]: Done  17 tasks      | elapsed:    2.7s\n",
      "[Parallel(n_jobs=-1)]: Done  38 out of  40 | elapsed:    3.6s remaining:    0.2s\n",
      "[Parallel(n_jobs=-1)]: Done  40 out of  40 | elapsed:    3.7s finished\n"
     ]
    },
    {
     "name": "stdout",
     "output_type": "stream",
     "text": [
      "Fitting 5 folds for each of 1 candidates, totalling 5 fits\n"
     ]
    },
    {
     "name": "stderr",
     "output_type": "stream",
     "text": [
      "[Parallel(n_jobs=-1)]: Using backend LokyBackend with 12 concurrent workers.\n",
      "[Parallel(n_jobs=-1)]: Done   3 out of   5 | elapsed:    0.2s remaining:    0.1s\n",
      "[Parallel(n_jobs=-1)]: Done   5 out of   5 | elapsed:    0.2s finished\n"
     ]
    },
    {
     "data": {
      "text/html": [
       "<div>\n",
       "<style scoped>\n",
       "    .dataframe tbody tr th:only-of-type {\n",
       "        vertical-align: middle;\n",
       "    }\n",
       "\n",
       "    .dataframe tbody tr th {\n",
       "        vertical-align: top;\n",
       "    }\n",
       "\n",
       "    .dataframe thead th {\n",
       "        text-align: right;\n",
       "    }\n",
       "</style>\n",
       "<table border=\"1\" class=\"dataframe\">\n",
       "  <thead>\n",
       "    <tr style=\"text-align: right;\">\n",
       "      <th></th>\n",
       "      <th>clf</th>\n",
       "      <th>param_clf__C</th>\n",
       "      <th>param_clf__class_weight</th>\n",
       "      <th>param_clf__strategy</th>\n",
       "      <th>mean_test_recall_binary</th>\n",
       "      <th>mean_test_fpr</th>\n",
       "      <th>mean_test_roc_auc_binary</th>\n",
       "      <th>mean_test_pr_auc</th>\n",
       "      <th>mean_train_recall_binary</th>\n",
       "      <th>mean_train_fpr</th>\n",
       "      <th>mean_train_roc_auc_binary</th>\n",
       "      <th>mean_train_pr_auc</th>\n",
       "      <th>mean_fit_time</th>\n",
       "      <th>std_train_recall_binary</th>\n",
       "      <th>std_test_recall_binary</th>\n",
       "      <th>std_train_fpr</th>\n",
       "      <th>std_test_fpr</th>\n",
       "      <th>std_train_roc_auc_binary</th>\n",
       "      <th>std_test_roc_auc_binary</th>\n",
       "      <th>std_train_pr_auc</th>\n",
       "      <th>std_test_pr_auc</th>\n",
       "      <th>mean_score_time</th>\n",
       "    </tr>\n",
       "  </thead>\n",
       "  <tbody>\n",
       "    <tr>\n",
       "      <th>0</th>\n",
       "      <td>LogisticRegression</td>\n",
       "      <td>1</td>\n",
       "      <td>balanced</td>\n",
       "      <td>NaN</td>\n",
       "      <td>0.629537</td>\n",
       "      <td>0.343577</td>\n",
       "      <td>0.642980</td>\n",
       "      <td>0.286464</td>\n",
       "      <td>0.643717</td>\n",
       "      <td>0.340465</td>\n",
       "      <td>0.651626</td>\n",
       "      <td>0.293861</td>\n",
       "      <td>0.588577</td>\n",
       "      <td>0.005650</td>\n",
       "      <td>0.017472</td>\n",
       "      <td>0.002314</td>\n",
       "      <td>0.010124</td>\n",
       "      <td>0.003529</td>\n",
       "      <td>0.008925</td>\n",
       "      <td>0.002647</td>\n",
       "      <td>0.010325</td>\n",
       "      <td>0.125814</td>\n",
       "    </tr>\n",
       "    <tr>\n",
       "      <th>1</th>\n",
       "      <td>LogisticRegression</td>\n",
       "      <td>1</td>\n",
       "      <td>None</td>\n",
       "      <td>NaN</td>\n",
       "      <td>0.022851</td>\n",
       "      <td>0.003849</td>\n",
       "      <td>0.509501</td>\n",
       "      <td>0.286977</td>\n",
       "      <td>0.024072</td>\n",
       "      <td>0.003523</td>\n",
       "      <td>0.510274</td>\n",
       "      <td>0.295986</td>\n",
       "      <td>0.834287</td>\n",
       "      <td>0.001268</td>\n",
       "      <td>0.005075</td>\n",
       "      <td>0.000435</td>\n",
       "      <td>0.001218</td>\n",
       "      <td>0.000695</td>\n",
       "      <td>0.002055</td>\n",
       "      <td>0.002718</td>\n",
       "      <td>0.009664</td>\n",
       "      <td>0.095464</td>\n",
       "    </tr>\n",
       "    <tr>\n",
       "      <th>2</th>\n",
       "      <td>LogisticRegression</td>\n",
       "      <td>1</td>\n",
       "      <td>{0: 1, 1: 1}</td>\n",
       "      <td>NaN</td>\n",
       "      <td>0.022851</td>\n",
       "      <td>0.003849</td>\n",
       "      <td>0.509501</td>\n",
       "      <td>0.286977</td>\n",
       "      <td>0.024072</td>\n",
       "      <td>0.003523</td>\n",
       "      <td>0.510274</td>\n",
       "      <td>0.295986</td>\n",
       "      <td>0.825216</td>\n",
       "      <td>0.001268</td>\n",
       "      <td>0.005075</td>\n",
       "      <td>0.000435</td>\n",
       "      <td>0.001218</td>\n",
       "      <td>0.000695</td>\n",
       "      <td>0.002055</td>\n",
       "      <td>0.002718</td>\n",
       "      <td>0.009664</td>\n",
       "      <td>0.051822</td>\n",
       "    </tr>\n",
       "    <tr>\n",
       "      <th>3</th>\n",
       "      <td>LogisticRegression</td>\n",
       "      <td>1</td>\n",
       "      <td>{0: 1, 1: 5}</td>\n",
       "      <td>NaN</td>\n",
       "      <td>0.533663</td>\n",
       "      <td>0.267892</td>\n",
       "      <td>0.632886</td>\n",
       "      <td>0.286365</td>\n",
       "      <td>0.547735</td>\n",
       "      <td>0.266876</td>\n",
       "      <td>0.640429</td>\n",
       "      <td>0.294081</td>\n",
       "      <td>0.604684</td>\n",
       "      <td>0.005665</td>\n",
       "      <td>0.009538</td>\n",
       "      <td>0.002017</td>\n",
       "      <td>0.010138</td>\n",
       "      <td>0.003780</td>\n",
       "      <td>0.005565</td>\n",
       "      <td>0.002634</td>\n",
       "      <td>0.010221</td>\n",
       "      <td>0.023142</td>\n",
       "    </tr>\n",
       "    <tr>\n",
       "      <th>4</th>\n",
       "      <td>LogisticRegression</td>\n",
       "      <td>1</td>\n",
       "      <td>{0: 1, 1: 5.5}</td>\n",
       "      <td>NaN</td>\n",
       "      <td>0.590780</td>\n",
       "      <td>0.307900</td>\n",
       "      <td>0.641440</td>\n",
       "      <td>0.286386</td>\n",
       "      <td>0.605365</td>\n",
       "      <td>0.307039</td>\n",
       "      <td>0.649163</td>\n",
       "      <td>0.293962</td>\n",
       "      <td>0.552780</td>\n",
       "      <td>0.004671</td>\n",
       "      <td>0.010883</td>\n",
       "      <td>0.002388</td>\n",
       "      <td>0.009242</td>\n",
       "      <td>0.002893</td>\n",
       "      <td>0.007408</td>\n",
       "      <td>0.002661</td>\n",
       "      <td>0.010283</td>\n",
       "      <td>0.024467</td>\n",
       "    </tr>\n",
       "    <tr>\n",
       "      <th>5</th>\n",
       "      <td>LogisticRegression</td>\n",
       "      <td>1</td>\n",
       "      <td>{0: 1, 1: 5.935128518971848}</td>\n",
       "      <td>NaN</td>\n",
       "      <td>0.630354</td>\n",
       "      <td>0.343439</td>\n",
       "      <td>0.643457</td>\n",
       "      <td>0.286418</td>\n",
       "      <td>0.643615</td>\n",
       "      <td>0.340414</td>\n",
       "      <td>0.651600</td>\n",
       "      <td>0.293860</td>\n",
       "      <td>0.588375</td>\n",
       "      <td>0.005460</td>\n",
       "      <td>0.017833</td>\n",
       "      <td>0.002275</td>\n",
       "      <td>0.010071</td>\n",
       "      <td>0.003478</td>\n",
       "      <td>0.009218</td>\n",
       "      <td>0.002648</td>\n",
       "      <td>0.010275</td>\n",
       "      <td>0.030386</td>\n",
       "    </tr>\n",
       "    <tr>\n",
       "      <th>6</th>\n",
       "      <td>LogisticRegression</td>\n",
       "      <td>1</td>\n",
       "      <td>{0: 1, 1: 6}</td>\n",
       "      <td>NaN</td>\n",
       "      <td>0.636065</td>\n",
       "      <td>0.348045</td>\n",
       "      <td>0.644010</td>\n",
       "      <td>0.286397</td>\n",
       "      <td>0.650143</td>\n",
       "      <td>0.345673</td>\n",
       "      <td>0.652235</td>\n",
       "      <td>0.293843</td>\n",
       "      <td>0.630847</td>\n",
       "      <td>0.005297</td>\n",
       "      <td>0.020712</td>\n",
       "      <td>0.001696</td>\n",
       "      <td>0.009682</td>\n",
       "      <td>0.003242</td>\n",
       "      <td>0.010992</td>\n",
       "      <td>0.002654</td>\n",
       "      <td>0.010319</td>\n",
       "      <td>0.023752</td>\n",
       "    </tr>\n",
       "    <tr>\n",
       "      <th>7</th>\n",
       "      <td>LogisticRegression</td>\n",
       "      <td>1</td>\n",
       "      <td>{0: 1, 1: 8}</td>\n",
       "      <td>NaN</td>\n",
       "      <td>0.767438</td>\n",
       "      <td>0.485462</td>\n",
       "      <td>0.640988</td>\n",
       "      <td>0.286240</td>\n",
       "      <td>0.776928</td>\n",
       "      <td>0.483794</td>\n",
       "      <td>0.646567</td>\n",
       "      <td>0.293485</td>\n",
       "      <td>0.346988</td>\n",
       "      <td>0.002226</td>\n",
       "      <td>0.022427</td>\n",
       "      <td>0.005247</td>\n",
       "      <td>0.005766</td>\n",
       "      <td>0.003128</td>\n",
       "      <td>0.011478</td>\n",
       "      <td>0.002673</td>\n",
       "      <td>0.010304</td>\n",
       "      <td>0.012179</td>\n",
       "    </tr>\n",
       "    <tr>\n",
       "      <th>8</th>\n",
       "      <td>DummyClassifier</td>\n",
       "      <td>NaN</td>\n",
       "      <td>NaN</td>\n",
       "      <td>stratified</td>\n",
       "      <td>0.152179</td>\n",
       "      <td>0.142435</td>\n",
       "      <td>0.504872</td>\n",
       "      <td>0.213493</td>\n",
       "      <td>0.154019</td>\n",
       "      <td>0.141180</td>\n",
       "      <td>0.506419</td>\n",
       "      <td>0.215637</td>\n",
       "      <td>0.054413</td>\n",
       "      <td>0.003669</td>\n",
       "      <td>0.011319</td>\n",
       "      <td>0.000614</td>\n",
       "      <td>0.001917</td>\n",
       "      <td>0.002142</td>\n",
       "      <td>0.006618</td>\n",
       "      <td>0.003403</td>\n",
       "      <td>0.010556</td>\n",
       "      <td>0.018033</td>\n",
       "    </tr>\n",
       "  </tbody>\n",
       "</table>\n",
       "</div>"
      ],
      "text/plain": [
       "                  clf param_clf__C       param_clf__class_weight param_clf__strategy  mean_test_recall_binary  mean_test_fpr  mean_test_roc_auc_binary  mean_test_pr_auc  mean_train_recall_binary  mean_train_fpr  mean_train_roc_auc_binary  mean_train_pr_auc  mean_fit_time  std_train_recall_binary  std_test_recall_binary  std_train_fpr  std_test_fpr  std_train_roc_auc_binary  std_test_roc_auc_binary  std_train_pr_auc  std_test_pr_auc  mean_score_time\n",
       "0  LogisticRegression            1                      balanced                 NaN                 0.629537       0.343577                  0.642980          0.286464                  0.643717        0.340465                   0.651626           0.293861       0.588577                 0.005650                0.017472       0.002314      0.010124                  0.003529                 0.008925          0.002647         0.010325         0.125814\n",
       "1  LogisticRegression            1                          None                 NaN                 0.022851       0.003849                  0.509501          0.286977                  0.024072        0.003523                   0.510274           0.295986       0.834287                 0.001268                0.005075       0.000435      0.001218                  0.000695                 0.002055          0.002718         0.009664         0.095464\n",
       "2  LogisticRegression            1                  {0: 1, 1: 1}                 NaN                 0.022851       0.003849                  0.509501          0.286977                  0.024072        0.003523                   0.510274           0.295986       0.825216                 0.001268                0.005075       0.000435      0.001218                  0.000695                 0.002055          0.002718         0.009664         0.051822\n",
       "3  LogisticRegression            1                  {0: 1, 1: 5}                 NaN                 0.533663       0.267892                  0.632886          0.286365                  0.547735        0.266876                   0.640429           0.294081       0.604684                 0.005665                0.009538       0.002017      0.010138                  0.003780                 0.005565          0.002634         0.010221         0.023142\n",
       "4  LogisticRegression            1                {0: 1, 1: 5.5}                 NaN                 0.590780       0.307900                  0.641440          0.286386                  0.605365        0.307039                   0.649163           0.293962       0.552780                 0.004671                0.010883       0.002388      0.009242                  0.002893                 0.007408          0.002661         0.010283         0.024467\n",
       "5  LogisticRegression            1  {0: 1, 1: 5.935128518971848}                 NaN                 0.630354       0.343439                  0.643457          0.286418                  0.643615        0.340414                   0.651600           0.293860       0.588375                 0.005460                0.017833       0.002275      0.010071                  0.003478                 0.009218          0.002648         0.010275         0.030386\n",
       "6  LogisticRegression            1                  {0: 1, 1: 6}                 NaN                 0.636065       0.348045                  0.644010          0.286397                  0.650143        0.345673                   0.652235           0.293843       0.630847                 0.005297                0.020712       0.001696      0.009682                  0.003242                 0.010992          0.002654         0.010319         0.023752\n",
       "7  LogisticRegression            1                  {0: 1, 1: 8}                 NaN                 0.767438       0.485462                  0.640988          0.286240                  0.776928        0.483794                   0.646567           0.293485       0.346988                 0.002226                0.022427       0.005247      0.005766                  0.003128                 0.011478          0.002673         0.010304         0.012179\n",
       "8     DummyClassifier          NaN                           NaN          stratified                 0.152179       0.142435                  0.504872          0.213493                  0.154019        0.141180                   0.506419           0.215637       0.054413                 0.003669                0.011319       0.000614      0.001917                  0.002142                 0.006618          0.003403         0.010556         0.018033"
      ]
     },
     "metadata": {},
     "output_type": "display_data"
    },
    {
     "name": "stdout",
     "output_type": "stream",
     "text": [
      "CPU times: user 1.26 s, sys: 2.9 s, total: 4.16 s\n",
      "Wall time: 4.4 s\n"
     ]
    }
   ],
   "source": [
    "%%time\n",
    "cv = StratifiedKFold(n_splits=5, shuffle=False)\n",
    "df_gs = gridsearch(\n",
    "    X_train,\n",
    "    y_train,\n",
    "    parameters,\n",
    "    preprocessors[\"no_trans\"],\n",
    "    cv,\n",
    "    multi_scorers,\n",
    "    threshold=0.5,\n",
    ")\n",
    "param_cols = df_gs.columns[\n",
    "    df_gs.columns.to_series().str.contains(\"param_\")\n",
    "].tolist()\n",
    "display(df_gs[[\"clf\"]+param_cols+cols_to_show])"
   ]
  },
  {
   "cell_type": "code",
   "execution_count": null,
   "metadata": {},
   "outputs": [],
   "source": []
  },
  {
   "cell_type": "code",
   "execution_count": 17,
   "metadata": {
    "execution": {
     "iopub.execute_input": "2020-11-13T15:39:12.332681Z",
     "iopub.status.busy": "2020-11-13T15:39:12.332511Z",
     "iopub.status.idle": "2020-11-13T15:39:12.382755Z",
     "shell.execute_reply": "2020-11-13T15:39:12.382294Z",
     "shell.execute_reply.started": "2020-11-13T15:39:12.332660Z"
    }
   },
   "outputs": [
    {
     "name": "stdout",
     "output_type": "stream",
     "text": [
      "Pipeline(steps=[('preprocessor',\n",
      "                 ColumnTransformer(remainder='passthrough',\n",
      "                                   transformers=[('nums',\n",
      "                                                  Pipeline(steps=[('trans',\n",
      "                                                                   StandardScaler())]),\n",
      "                                                  ['loan_amnt', 'int_rate',\n",
      "                                                   'annual_inc', 'dti',\n",
      "                                                   'delinq_2yrs',\n",
      "                                                   'inq_last_6mths', 'open_acc',\n",
      "                                                   'pub_rec', 'revol_bal',\n",
      "                                                   'revol_util', 'total_acc']),\n",
      "                                                 ('onehot',\n",
      "                                                  OneHotEncoder(handle_unknown='ignore'),\n",
      "                                                  ['term', 'home_ownership',\n",
      "                                                   'verification_status',\n",
      "                                                   'purpose',\n",
      "                                                   'emp_length'])])),\n",
      "                ('clf',\n",
      "                 LogisticRegression(class_weight='balanced', max_iter=500,\n",
      "                                    random_state=42))])\n",
      "Pipeline(steps=[('preprocessor',\n",
      "                 ColumnTransformer(remainder='passthrough',\n",
      "                                   transformers=[('nums',\n",
      "                                                  Pipeline(steps=[('trans',\n",
      "                                                                   StandardScaler())]),\n",
      "                                                  ['loan_amnt', 'int_rate',\n",
      "                                                   'annual_inc', 'dti',\n",
      "                                                   'delinq_2yrs',\n",
      "                                                   'inq_last_6mths', 'open_acc',\n",
      "                                                   'pub_rec', 'revol_bal',\n",
      "                                                   'revol_util', 'total_acc']),\n",
      "                                                 ('onehot',\n",
      "                                                  OneHotEncoder(handle_unknown='ignore'),\n",
      "                                                  ['term', 'home_ownership',\n",
      "                                                   'verification_status',\n",
      "                                                   'purpose',\n",
      "                                                   'emp_length'])])),\n",
      "                ('clf',\n",
      "                 DummyClassifier(random_state=42, strategy='stratified'))])\n"
     ]
    }
   ],
   "source": [
    "best_cfg_idx = 0\n",
    "best_dummy_cfg_idx = 8\n",
    "best_pipe, best_dummy_pipe = get_best_pipes(\n",
    "    best_cfg_idx, best_dummy_cfg_idx, df_gs, preprocessors[\"no_trans\"], param_cols\n",
    ")"
   ]
  },
  {
   "cell_type": "code",
   "execution_count": null,
   "metadata": {},
   "outputs": [],
   "source": []
  },
  {
   "cell_type": "code",
   "execution_count": 18,
   "metadata": {
    "execution": {
     "iopub.execute_input": "2020-11-13T15:39:12.383315Z",
     "iopub.status.busy": "2020-11-13T15:39:12.383205Z",
     "iopub.status.idle": "2020-11-13T15:39:12.417922Z",
     "shell.execute_reply": "2020-11-13T15:39:12.417572Z",
     "shell.execute_reply.started": "2020-11-13T15:39:12.383301Z"
    }
   },
   "outputs": [
    {
     "data": {
      "text/plain": [
       "[{'r': 10.71, 'n': ' 36 months', 'p': 500.0, 'ret': 86.82798290297922},\n",
       " {'r': 7.9, 'n': ' 36 months', 'p': 35000.0, 'ret': 4425.720020766101},\n",
       " {'r': 23.59, 'n': ' 60 months', 'p': 35000.0, 'ret': 24914.007363151228},\n",
       " {'r': 14.91, 'n': ' 60 months', 'p': 9900.0, 'ret': 4203.172176331318}]"
      ]
     },
     "execution_count": 18,
     "metadata": {},
     "output_type": "execute_result"
    }
   ],
   "source": [
    "_, confs = get_components_of_returns(X_val)\n",
    "confs"
   ]
  },
  {
   "cell_type": "code",
   "execution_count": 19,
   "metadata": {
    "execution": {
     "iopub.execute_input": "2020-11-13T15:39:12.418547Z",
     "iopub.status.busy": "2020-11-13T15:39:12.418427Z",
     "iopub.status.idle": "2020-11-13T15:39:12.618720Z",
     "shell.execute_reply": "2020-11-13T15:39:12.618231Z",
     "shell.execute_reply.started": "2020-11-13T15:39:12.418533Z"
    }
   },
   "outputs": [
    {
     "name": "stdout",
     "output_type": "stream",
     "text": [
      "CPU times: user 665 ms, sys: 1.03 s, total: 1.69 s\n",
      "Wall time: 187 ms\n"
     ]
    }
   ],
   "source": [
    "%%time\n",
    "best_pipe.fit(X_train, y_train)\n",
    "best_dummy_pipe.fit(X_train, y_train)\n",
    "y_probs_val = best_pipe.predict_proba(X_val)[:, 1]"
   ]
  },
  {
   "cell_type": "code",
   "execution_count": 181,
   "metadata": {
    "execution": {
     "iopub.execute_input": "2020-11-13T17:34:17.960507Z",
     "iopub.status.busy": "2020-11-13T17:34:17.960025Z",
     "iopub.status.idle": "2020-11-13T17:34:18.413812Z",
     "shell.execute_reply": "2020-11-13T17:34:18.413354Z",
     "shell.execute_reply.started": "2020-11-13T17:34:17.960450Z"
    }
   },
   "outputs": [
    {
     "data": {
      "text/html": [
       "<div>\n",
       "<style scoped>\n",
       "    .dataframe tbody tr th:only-of-type {\n",
       "        vertical-align: middle;\n",
       "    }\n",
       "\n",
       "    .dataframe tbody tr th {\n",
       "        vertical-align: top;\n",
       "    }\n",
       "\n",
       "    .dataframe thead th {\n",
       "        text-align: right;\n",
       "    }\n",
       "</style>\n",
       "<table border=\"1\" class=\"dataframe\">\n",
       "  <thead>\n",
       "    <tr style=\"text-align: right;\">\n",
       "      <th></th>\n",
       "      <th>best_threshold</th>\n",
       "      <th>score</th>\n",
       "    </tr>\n",
       "  </thead>\n",
       "  <tbody>\n",
       "    <tr>\n",
       "      <th>ROC-AUC</th>\n",
       "      <td>0.49</td>\n",
       "      <td>0.639368</td>\n",
       "    </tr>\n",
       "    <tr>\n",
       "      <th>Precision</th>\n",
       "      <td>0.90</td>\n",
       "      <td>0.949285</td>\n",
       "    </tr>\n",
       "    <tr>\n",
       "      <th>Recall</th>\n",
       "      <td>0.01</td>\n",
       "      <td>1.000000</td>\n",
       "    </tr>\n",
       "    <tr>\n",
       "      <th>F1</th>\n",
       "      <td>0.32</td>\n",
       "      <td>0.693046</td>\n",
       "    </tr>\n",
       "    <tr>\n",
       "      <th>FPR</th>\n",
       "      <td>0.01</td>\n",
       "      <td>1.000000</td>\n",
       "    </tr>\n",
       "  </tbody>\n",
       "</table>\n",
       "</div>"
      ],
      "text/plain": [
       "           best_threshold     score\n",
       "ROC-AUC              0.49  0.639368\n",
       "Precision            0.90  0.949285\n",
       "Recall               0.01  1.000000\n",
       "F1                   0.32  0.693046\n",
       "FPR                  0.01  1.000000"
      ]
     },
     "metadata": {},
     "output_type": "display_data"
    },
    {
     "name": "stdout",
     "output_type": "stream",
     "text": [
      "CPU times: user 172 ms, sys: 53.5 ms, total: 226 ms\n",
      "Wall time: 436 ms\n"
     ]
    }
   ],
   "source": [
    "%%time\n",
    "df_threshold_tuning_scores, df_all_threshold_tuning_scores = plot_metric_based_threshold_tuning_plots(\n",
    "    y_val, y_probs_val, thresholds_list, legend_position=(1.01, 1), show_best_t_by_f1=False, show_plot=False, fig_size=(8, 4)\n",
    ")\n",
    "display(df_threshold_tuning_scores)"
   ]
  },
  {
   "cell_type": "code",
   "execution_count": 182,
   "metadata": {
    "execution": {
     "iopub.execute_input": "2020-11-13T17:34:24.807255Z",
     "iopub.status.busy": "2020-11-13T17:34:24.807107Z",
     "iopub.status.idle": "2020-11-13T17:34:24.853316Z",
     "shell.execute_reply": "2020-11-13T17:34:24.852679Z",
     "shell.execute_reply.started": "2020-11-13T17:34:24.807239Z"
    }
   },
   "outputs": [
    {
     "data": {
      "text/html": [
       "\n",
       "<div id=\"altair-viz-00b700d89aad4f8a88d5cb70e264e18e\"></div>\n",
       "<script type=\"text/javascript\">\n",
       "  (function(spec, embedOpt){\n",
       "    let outputDiv = document.currentScript.previousElementSibling;\n",
       "    if (outputDiv.id !== \"altair-viz-00b700d89aad4f8a88d5cb70e264e18e\") {\n",
       "      outputDiv = document.getElementById(\"altair-viz-00b700d89aad4f8a88d5cb70e264e18e\");\n",
       "    }\n",
       "    const paths = {\n",
       "      \"vega\": \"https://cdn.jsdelivr.net/npm//vega@5?noext\",\n",
       "      \"vega-lib\": \"https://cdn.jsdelivr.net/npm//vega-lib?noext\",\n",
       "      \"vega-lite\": \"https://cdn.jsdelivr.net/npm//vega-lite@4.8.1?noext\",\n",
       "      \"vega-embed\": \"https://cdn.jsdelivr.net/npm//vega-embed@6?noext\",\n",
       "    };\n",
       "\n",
       "    function loadScript(lib) {\n",
       "      return new Promise(function(resolve, reject) {\n",
       "        var s = document.createElement('script');\n",
       "        s.src = paths[lib];\n",
       "        s.async = true;\n",
       "        s.onload = () => resolve(paths[lib]);\n",
       "        s.onerror = () => reject(`Error loading script: ${paths[lib]}`);\n",
       "        document.getElementsByTagName(\"head\")[0].appendChild(s);\n",
       "      });\n",
       "    }\n",
       "\n",
       "    function showError(err) {\n",
       "      outputDiv.innerHTML = `<div class=\"error\" style=\"color:red;\">${err}</div>`;\n",
       "      throw err;\n",
       "    }\n",
       "\n",
       "    function displayChart(vegaEmbed) {\n",
       "      vegaEmbed(outputDiv, spec, embedOpt)\n",
       "        .catch(err => showError(`Javascript Error: ${err.message}<br>This usually means there's a typo in your chart specification. See the javascript console for the full traceback.`));\n",
       "    }\n",
       "\n",
       "    if(typeof define === \"function\" && define.amd) {\n",
       "      requirejs.config({paths});\n",
       "      require([\"vega-embed\"], displayChart, err => showError(`Error loading script: ${err.message}`));\n",
       "    } else if (typeof vegaEmbed === \"function\") {\n",
       "      displayChart(vegaEmbed);\n",
       "    } else {\n",
       "      loadScript(\"vega\")\n",
       "        .then(() => loadScript(\"vega-lite\"))\n",
       "        .then(() => loadScript(\"vega-embed\"))\n",
       "        .catch(showError)\n",
       "        .then(() => displayChart(vegaEmbed));\n",
       "    }\n",
       "  })({\"config\": {\"view\": {\"continuousWidth\": 400, \"continuousHeight\": 300}}, \"layer\": [{\"mark\": \"circle\", \"encoding\": {\"color\": {\"type\": \"nominal\", \"field\": \"metric\", \"legend\": {\"offset\": 5, \"title\": \"\"}}, \"opacity\": {\"value\": 0}, \"tooltip\": [{\"type\": \"nominal\", \"field\": \"metric\", \"title\": \"Metric\"}, {\"type\": \"quantitative\", \"field\": \"threshold\", \"format\": \".2f\", \"title\": \"Threshold\"}, {\"type\": \"quantitative\", \"field\": \"value\", \"format\": \".2f\", \"title\": \"Value\"}], \"x\": {\"type\": \"quantitative\", \"field\": \"threshold\", \"title\": \"threshold\"}, \"y\": {\"type\": \"quantitative\", \"field\": \"value\", \"title\": \"\"}}, \"selection\": {\"selector120\": {\"type\": \"single\", \"on\": \"mouseover\", \"fields\": [\"metric\"], \"nearest\": true}}, \"title\": {\"text\": \"Scoring Metrics, as threshold is changed\", \"offset\": -5}}, {\"mark\": \"line\", \"encoding\": {\"color\": {\"type\": \"nominal\", \"field\": \"metric\", \"legend\": {\"offset\": 5, \"title\": \"\"}}, \"size\": {\"condition\": {\"value\": 1.5, \"selection\": {\"not\": \"selector120\"}}, \"value\": 3}, \"tooltip\": [{\"type\": \"nominal\", \"field\": \"metric\", \"title\": \"Metric\"}, {\"type\": \"quantitative\", \"field\": \"threshold\", \"format\": \".2f\", \"title\": \"Threshold\"}, {\"type\": \"quantitative\", \"field\": \"value\", \"format\": \".2f\", \"title\": \"Value\"}], \"x\": {\"type\": \"quantitative\", \"field\": \"threshold\", \"title\": \"threshold\"}, \"y\": {\"type\": \"quantitative\", \"field\": \"value\", \"title\": \"\"}}, \"title\": {\"text\": \"Scoring Metrics, as threshold is changed\", \"offset\": -5}}, {\"data\": {\"name\": \"data-a8f111f8f893b703e65ba7cbcb1db6f3\"}, \"mark\": \"rule\", \"encoding\": {\"x\": {\"type\": \"quantitative\", \"field\": \"default\", \"title\": \"\"}}}], \"data\": {\"name\": \"data-bdf6bcf4e006f61499663a31b3b3f6cd\"}, \"height\": 300, \"width\": 450, \"$schema\": \"https://vega.github.io/schema/vega-lite/v4.8.1.json\", \"datasets\": {\"data-bdf6bcf4e006f61499663a31b3b3f6cd\": [{\"metric\": \"ROC-AUC\", \"threshold\": 0.01, \"value\": 0.5}, {\"metric\": \"ROC-AUC\", \"threshold\": 0.02, \"value\": 0.5}, {\"metric\": \"ROC-AUC\", \"threshold\": 0.03, \"value\": 0.5}, {\"metric\": \"ROC-AUC\", \"threshold\": 0.04, \"value\": 0.5}, {\"metric\": \"ROC-AUC\", \"threshold\": 0.05, \"value\": 0.5}, {\"metric\": \"ROC-AUC\", \"threshold\": 0.060000000000000005, \"value\": 0.5}, {\"metric\": \"ROC-AUC\", \"threshold\": 0.06999999999999999, \"value\": 0.5000695023630803}, {\"metric\": \"ROC-AUC\", \"threshold\": 0.08, \"value\": 0.5003475118154017}, {\"metric\": \"ROC-AUC\", \"threshold\": 0.09, \"value\": 0.5006950236308034}, {\"metric\": \"ROC-AUC\", \"threshold\": 0.09999999999999999, \"value\": 0.5014595496246872}, {\"metric\": \"ROC-AUC\", \"threshold\": 0.11, \"value\": 0.5018599266373321}, {\"metric\": \"ROC-AUC\", \"threshold\": 0.12, \"value\": 0.5039449975297425}, {\"metric\": \"ROC-AUC\", \"threshold\": 0.13, \"value\": 0.5056130542436709}, {\"metric\": \"ROC-AUC\", \"threshold\": 0.14, \"value\": 0.5087406605822863}, {\"metric\": \"ROC-AUC\", \"threshold\": 0.15000000000000002, \"value\": 0.5110176013981006}, {\"metric\": \"ROC-AUC\", \"threshold\": 0.16, \"value\": 0.5147707290044392}, {\"metric\": \"ROC-AUC\", \"threshold\": 0.17, \"value\": 0.518159707629539}, {\"metric\": \"ROC-AUC\", \"threshold\": 0.18000000000000002, \"value\": 0.5221575703565248}, {\"metric\": \"ROC-AUC\", \"threshold\": 0.19, \"value\": 0.5278763549946821}, {\"metric\": \"ROC-AUC\", \"threshold\": 0.2, \"value\": 0.5318605342555628}, {\"metric\": \"ROC-AUC\", \"threshold\": 0.21000000000000002, \"value\": 0.5371955790469123}, {\"metric\": \"ROC-AUC\", \"threshold\": 0.22, \"value\": 0.5426725822641543}, {\"metric\": \"ROC-AUC\", \"threshold\": 0.23, \"value\": 0.5497980513297556}, {\"metric\": \"ROC-AUC\", \"threshold\": 0.24000000000000002, \"value\": 0.555936803846127}, {\"metric\": \"ROC-AUC\", \"threshold\": 0.25, \"value\": 0.5625816637696297}, {\"metric\": \"ROC-AUC\", \"threshold\": 0.26, \"value\": 0.5672638203610458}, {\"metric\": \"ROC-AUC\", \"threshold\": 0.27, \"value\": 0.5726576377491024}, {\"metric\": \"ROC-AUC\", \"threshold\": 0.28, \"value\": 0.5787631159337995}, {\"metric\": \"ROC-AUC\", \"threshold\": 0.29000000000000004, \"value\": 0.5842597100166107}, {\"metric\": \"ROC-AUC\", \"threshold\": 0.3, \"value\": 0.5861480886187078}, {\"metric\": \"ROC-AUC\", \"threshold\": 0.31, \"value\": 0.5932598742182039}, {\"metric\": \"ROC-AUC\", \"threshold\": 0.32, \"value\": 0.5989649753902562}, {\"metric\": \"ROC-AUC\", \"threshold\": 0.33, \"value\": 0.6025879593696298}, {\"metric\": \"ROC-AUC\", \"threshold\": 0.34, \"value\": 0.6061972598828985}, {\"metric\": \"ROC-AUC\", \"threshold\": 0.35000000000000003, \"value\": 0.6106709093850735}, {\"metric\": \"ROC-AUC\", \"threshold\": 0.36000000000000004, \"value\": 0.6163260990596142}, {\"metric\": \"ROC-AUC\", \"threshold\": 0.37, \"value\": 0.6202466833568785}, {\"metric\": \"ROC-AUC\", \"threshold\": 0.38, \"value\": 0.6238726210359842}, {\"metric\": \"ROC-AUC\", \"threshold\": 0.39, \"value\": 0.6328443332728126}, {\"metric\": \"ROC-AUC\", \"threshold\": 0.4, \"value\": 0.6327230507450436}, {\"metric\": \"ROC-AUC\", \"threshold\": 0.41000000000000003, \"value\": 0.6352232671487587}, {\"metric\": \"ROC-AUC\", \"threshold\": 0.42000000000000004, \"value\": 0.6381209068653868}, {\"metric\": \"ROC-AUC\", \"threshold\": 0.43, \"value\": 0.6354975392667254}, {\"metric\": \"ROC-AUC\", \"threshold\": 0.44, \"value\": 0.6341448050690792}, {\"metric\": \"ROC-AUC\", \"threshold\": 0.45, \"value\": 0.6371285843146247}, {\"metric\": \"ROC-AUC\", \"threshold\": 0.46, \"value\": 0.6385167629090542}, {\"metric\": \"ROC-AUC\", \"threshold\": 0.47000000000000003, \"value\": 0.6358993027098567}, {\"metric\": \"ROC-AUC\", \"threshold\": 0.48000000000000004, \"value\": 0.6359502992399227}, {\"metric\": \"ROC-AUC\", \"threshold\": 0.49, \"value\": 0.6393677298297873}, {\"metric\": \"ROC-AUC\", \"threshold\": 0.5, \"value\": 0.6358966504080567}, {\"metric\": \"ROC-AUC\", \"threshold\": 0.51, \"value\": 0.6323198405918394}, {\"metric\": \"ROC-AUC\", \"threshold\": 0.52, \"value\": 0.6336884283207}, {\"metric\": \"ROC-AUC\", \"threshold\": 0.53, \"value\": 0.6347985974628081}, {\"metric\": \"ROC-AUC\", \"threshold\": 0.54, \"value\": 0.6314136575699949}, {\"metric\": \"ROC-AUC\", \"threshold\": 0.55, \"value\": 0.6269529078993021}, {\"metric\": \"ROC-AUC\", \"threshold\": 0.56, \"value\": 0.6274512392397924}, {\"metric\": \"ROC-AUC\", \"threshold\": 0.5700000000000001, \"value\": 0.6257979510245238}, {\"metric\": \"ROC-AUC\", \"threshold\": 0.5800000000000001, \"value\": 0.6220791827824141}, {\"metric\": \"ROC-AUC\", \"threshold\": 0.59, \"value\": 0.6198366013308286}, {\"metric\": \"ROC-AUC\", \"threshold\": 0.6, \"value\": 0.6176439313767544}, {\"metric\": \"ROC-AUC\", \"threshold\": 0.61, \"value\": 0.6155902661488409}, {\"metric\": \"ROC-AUC\", \"threshold\": 0.62, \"value\": 0.6092333618094099}, {\"metric\": \"ROC-AUC\", \"threshold\": 0.63, \"value\": 0.6077856269836505}, {\"metric\": \"ROC-AUC\", \"threshold\": 0.64, \"value\": 0.6058513756163286}, {\"metric\": \"ROC-AUC\", \"threshold\": 0.65, \"value\": 0.6020435141455694}, {\"metric\": \"ROC-AUC\", \"threshold\": 0.66, \"value\": 0.5973517128203347}, {\"metric\": \"ROC-AUC\", \"threshold\": 0.67, \"value\": 0.5916868784119752}, {\"metric\": \"ROC-AUC\", \"threshold\": 0.68, \"value\": 0.5902029155548097}, {\"metric\": \"ROC-AUC\", \"threshold\": 0.6900000000000001, \"value\": 0.5858028071480016}, {\"metric\": \"ROC-AUC\", \"threshold\": 0.7000000000000001, \"value\": 0.5805021217208809}, {\"metric\": \"ROC-AUC\", \"threshold\": 0.7100000000000001, \"value\": 0.5757740923642402}, {\"metric\": \"ROC-AUC\", \"threshold\": 0.72, \"value\": 0.571982868059318}, {\"metric\": \"ROC-AUC\", \"threshold\": 0.73, \"value\": 0.5651364934785926}, {\"metric\": \"ROC-AUC\", \"threshold\": 0.74, \"value\": 0.5632521536087821}, {\"metric\": \"ROC-AUC\", \"threshold\": 0.75, \"value\": 0.5596694363931011}, {\"metric\": \"ROC-AUC\", \"threshold\": 0.76, \"value\": 0.5537598668640944}, {\"metric\": \"ROC-AUC\", \"threshold\": 0.77, \"value\": 0.5507801263508354}, {\"metric\": \"ROC-AUC\", \"threshold\": 0.78, \"value\": 0.5452679801347419}, {\"metric\": \"ROC-AUC\", \"threshold\": 0.79, \"value\": 0.5389051683958469}, {\"metric\": \"ROC-AUC\", \"threshold\": 0.8, \"value\": 0.5347801157416281}, {\"metric\": \"ROC-AUC\", \"threshold\": 0.81, \"value\": 0.5312609934895636}, {\"metric\": \"ROC-AUC\", \"threshold\": 0.8200000000000001, \"value\": 0.5279337411609029}, {\"metric\": \"ROC-AUC\", \"threshold\": 0.8300000000000001, \"value\": 0.5242589770168403}, {\"metric\": \"ROC-AUC\", \"threshold\": 0.8400000000000001, \"value\": 0.5170787740868186}, {\"metric\": \"ROC-AUC\", \"threshold\": 0.85, \"value\": 0.5129341305670307}, {\"metric\": \"ROC-AUC\", \"threshold\": 0.86, \"value\": 0.5108549670740843}, {\"metric\": \"ROC-AUC\", \"threshold\": 0.87, \"value\": 0.5087229383838946}, {\"metric\": \"ROC-AUC\", \"threshold\": 0.88, \"value\": 0.5050980857373434}, {\"metric\": \"ROC-AUC\", \"threshold\": 0.89, \"value\": 0.5041446435197877}, {\"metric\": \"ROC-AUC\", \"threshold\": 0.9, \"value\": 0.5036943550096314}, {\"metric\": \"ROC-AUC\", \"threshold\": 0.91, \"value\": 0.502393400976674}, {\"metric\": \"ROC-AUC\", \"threshold\": 0.92, \"value\": 0.501595600651116}, {\"metric\": \"ROC-AUC\", \"threshold\": 0.93, \"value\": 0.5003641489812388}, {\"metric\": \"ROC-AUC\", \"threshold\": 0.9400000000000001, \"value\": 0.5}, {\"metric\": \"ROC-AUC\", \"threshold\": 0.9500000000000001, \"value\": 0.5}, {\"metric\": \"ROC-AUC\", \"threshold\": 0.9600000000000001, \"value\": 0.5}, {\"metric\": \"ROC-AUC\", \"threshold\": 0.97, \"value\": 0.5}, {\"metric\": \"ROC-AUC\", \"threshold\": 0.98, \"value\": 0.5}, {\"metric\": \"ROC-AUC\", \"threshold\": 0.99, \"value\": 0.5}, {\"metric\": \"Precision\", \"threshold\": 0.01, \"value\": 0.4999999999999405}, {\"metric\": \"Precision\", \"threshold\": 0.02, \"value\": 0.4999999999999405}, {\"metric\": \"Precision\", \"threshold\": 0.03, \"value\": 0.4999999999999405}, {\"metric\": \"Precision\", \"threshold\": 0.04, \"value\": 0.4999999999999405}, {\"metric\": \"Precision\", \"threshold\": 0.05, \"value\": 0.4999999999999405}, {\"metric\": \"Precision\", \"threshold\": 0.060000000000000005, \"value\": 0.4999999999999405}, {\"metric\": \"Precision\", \"threshold\": 0.06999999999999999, \"value\": 0.5000347535969378}, {\"metric\": \"Precision\", \"threshold\": 0.08, \"value\": 0.5001738163108631}, {\"metric\": \"Precision\", \"threshold\": 0.09, \"value\": 0.5003477535122509}, {\"metric\": \"Precision\", \"threshold\": 0.09999999999999999, \"value\": 0.5007308415117381}, {\"metric\": \"Precision\", \"threshold\": 0.11, \"value\": 0.5009325064776186}, {\"metric\": \"Precision\", \"threshold\": 0.12, \"value\": 0.5019820369215204}, {\"metric\": \"Precision\", \"threshold\": 0.13, \"value\": 0.5028248330482004}, {\"metric\": \"Precision\", \"threshold\": 0.14, \"value\": 0.5044127276159397}, {\"metric\": \"Precision\", \"threshold\": 0.15000000000000002, \"value\": 0.5055799574704484}, {\"metric\": \"Precision\", \"threshold\": 0.16, \"value\": 0.5075093081440486}, {\"metric\": \"Precision\", \"threshold\": 0.17, \"value\": 0.5092723630530013}, {\"metric\": \"Precision\", \"threshold\": 0.18000000000000002, \"value\": 0.5113802956857638}, {\"metric\": \"Precision\", \"threshold\": 0.19, \"value\": 0.5144409354370251}, {\"metric\": \"Precision\", \"threshold\": 0.2, \"value\": 0.5166786388991028}, {\"metric\": \"Precision\", \"threshold\": 0.21000000000000002, \"value\": 0.5195987448946014}, {\"metric\": \"Precision\", \"threshold\": 0.22, \"value\": 0.5227195950011289}, {\"metric\": \"Precision\", \"threshold\": 0.23, \"value\": 0.5267658360160633}, {\"metric\": \"Precision\", \"threshold\": 0.24000000000000002, \"value\": 0.5304652047226928}, {\"metric\": \"Precision\", \"threshold\": 0.25, \"value\": 0.5346625930326093}, {\"metric\": \"Precision\", \"threshold\": 0.26, \"value\": 0.5378522999634737}, {\"metric\": \"Precision\", \"threshold\": 0.27, \"value\": 0.5415453864623752}, {\"metric\": \"Precision\", \"threshold\": 0.28, \"value\": 0.5457645345818868}, {\"metric\": \"Precision\", \"threshold\": 0.29000000000000004, \"value\": 0.5496761207125531}, {\"metric\": \"Precision\", \"threshold\": 0.3, \"value\": 0.551751443935424}, {\"metric\": \"Precision\", \"threshold\": 0.31, \"value\": 0.5569253017906454}, {\"metric\": \"Precision\", \"threshold\": 0.32, \"value\": 0.5613546771409074}, {\"metric\": \"Precision\", \"threshold\": 0.33, \"value\": 0.5647268442427842}, {\"metric\": \"Precision\", \"threshold\": 0.34, \"value\": 0.5685926923802792}, {\"metric\": \"Precision\", \"threshold\": 0.35000000000000003, \"value\": 0.5728001350082942}, {\"metric\": \"Precision\", \"threshold\": 0.36000000000000004, \"value\": 0.5780811147360414}, {\"metric\": \"Precision\", \"threshold\": 0.37, \"value\": 0.582589804720614}, {\"metric\": \"Precision\", \"threshold\": 0.38, \"value\": 0.5871762169734558}, {\"metric\": \"Precision\", \"threshold\": 0.39, \"value\": 0.595631671979358}, {\"metric\": \"Precision\", \"threshold\": 0.4, \"value\": 0.5984784573356561}, {\"metric\": \"Precision\", \"threshold\": 0.41000000000000003, \"value\": 0.603515469260802}, {\"metric\": \"Precision\", \"threshold\": 0.42000000000000004, \"value\": 0.6088173193001198}, {\"metric\": \"Precision\", \"threshold\": 0.43, \"value\": 0.6099007898829734}, {\"metric\": \"Precision\", \"threshold\": 0.44, \"value\": 0.6128425179018916}, {\"metric\": \"Precision\", \"threshold\": 0.45, \"value\": 0.6188986758721648}, {\"metric\": \"Precision\", \"threshold\": 0.46, \"value\": 0.6243284067743458}, {\"metric\": \"Precision\", \"threshold\": 0.47000000000000003, \"value\": 0.6277432134100073}, {\"metric\": \"Precision\", \"threshold\": 0.48000000000000004, \"value\": 0.6325588831177599}, {\"metric\": \"Precision\", \"threshold\": 0.49, \"value\": 0.6406340442584362}, {\"metric\": \"Precision\", \"threshold\": 0.5, \"value\": 0.6434062204807155}, {\"metric\": \"Precision\", \"threshold\": 0.51, \"value\": 0.6457341513010127}, {\"metric\": \"Precision\", \"threshold\": 0.52, \"value\": 0.6529627292814015}, {\"metric\": \"Precision\", \"threshold\": 0.53, \"value\": 0.6613684964192976}, {\"metric\": \"Precision\", \"threshold\": 0.54, \"value\": 0.6656027910327629}, {\"metric\": \"Precision\", \"threshold\": 0.55, \"value\": 0.6691733937561188}, {\"metric\": \"Precision\", \"threshold\": 0.56, \"value\": 0.676603449753426}, {\"metric\": \"Precision\", \"threshold\": 0.5700000000000001, \"value\": 0.6822380058179073}, {\"metric\": \"Precision\", \"threshold\": 0.5800000000000001, \"value\": 0.68557680465878}, {\"metric\": \"Precision\", \"threshold\": 0.59, \"value\": 0.6919965209067279}, {\"metric\": \"Precision\", \"threshold\": 0.6, \"value\": 0.6975256537469926}, {\"metric\": \"Precision\", \"threshold\": 0.61, \"value\": 0.7039571691529681}, {\"metric\": \"Precision\", \"threshold\": 0.62, \"value\": 0.7050878563803848}, {\"metric\": \"Precision\", \"threshold\": 0.63, \"value\": 0.7122770586041255}, {\"metric\": \"Precision\", \"threshold\": 0.64, \"value\": 0.7187581364372754}, {\"metric\": \"Precision\", \"threshold\": 0.65, \"value\": 0.7233888916600891}, {\"metric\": \"Precision\", \"threshold\": 0.66, \"value\": 0.7283722027285405}, {\"metric\": \"Precision\", \"threshold\": 0.67, \"value\": 0.7305317778095191}, {\"metric\": \"Precision\", \"threshold\": 0.68, \"value\": 0.7396448396436045}, {\"metric\": \"Precision\", \"threshold\": 0.6900000000000001, \"value\": 0.7423946324268317}, {\"metric\": \"Precision\", \"threshold\": 0.7000000000000001, \"value\": 0.7466213907855547}, {\"metric\": \"Precision\", \"threshold\": 0.7100000000000001, \"value\": 0.753044887021538}, {\"metric\": \"Precision\", \"threshold\": 0.72, \"value\": 0.7626401121160947}, {\"metric\": \"Precision\", \"threshold\": 0.73, \"value\": 0.7627838567011619}, {\"metric\": \"Precision\", \"threshold\": 0.74, \"value\": 0.7761020130752848}, {\"metric\": \"Precision\", \"threshold\": 0.75, \"value\": 0.7935076410344639}, {\"metric\": \"Precision\", \"threshold\": 0.76, \"value\": 0.8008552279145984}, {\"metric\": \"Precision\", \"threshold\": 0.77, \"value\": 0.8099479452578987}, {\"metric\": \"Precision\", \"threshold\": 0.78, \"value\": 0.815158135759808}, {\"metric\": \"Precision\", \"threshold\": 0.79, \"value\": 0.8152669607931239}, {\"metric\": \"Precision\", \"threshold\": 0.8, \"value\": 0.8239291440787951}, {\"metric\": \"Precision\", \"threshold\": 0.81, \"value\": 0.8279339528624965}, {\"metric\": \"Precision\", \"threshold\": 0.8200000000000001, \"value\": 0.8441542430809389}, {\"metric\": \"Precision\", \"threshold\": 0.8300000000000001, \"value\": 0.8583273232363694}, {\"metric\": \"Precision\", \"threshold\": 0.8400000000000001, \"value\": 0.8359442808155819}, {\"metric\": \"Precision\", \"threshold\": 0.85, \"value\": 0.8229758410476395}, {\"metric\": \"Precision\", \"threshold\": 0.86, \"value\": 0.8579163072470906}, {\"metric\": \"Precision\", \"threshold\": 0.87, \"value\": 0.8885487820595432}, {\"metric\": \"Precision\", \"threshold\": 0.88, \"value\": 0.8618665388762429}, {\"metric\": \"Precision\", \"threshold\": 0.89, \"value\": 0.8840701142876294}, {\"metric\": \"Precision\", \"threshold\": 0.9, \"value\": 0.9492852430173739}, {\"metric\": \"Precision\", \"threshold\": 0.91, \"value\": 0.925809149990348}, {\"metric\": \"Precision\", \"threshold\": 0.92, \"value\": 0.925809149990348}, {\"metric\": \"Precision\", \"threshold\": 0.93, \"value\": 0.8618665388762429}, {\"metric\": \"Precision\", \"threshold\": 0.9400000000000001, \"value\": 0.0}, {\"metric\": \"Precision\", \"threshold\": 0.9500000000000001, \"value\": 0.0}, {\"metric\": \"Precision\", \"threshold\": 0.9600000000000001, \"value\": 0.0}, {\"metric\": \"Precision\", \"threshold\": 0.97, \"value\": 0.0}, {\"metric\": \"Precision\", \"threshold\": 0.98, \"value\": 0.0}, {\"metric\": \"Precision\", \"threshold\": 0.99, \"value\": 0.0}, {\"metric\": \"Recall\", \"threshold\": 0.01, \"value\": 1.0}, {\"metric\": \"Recall\", \"threshold\": 0.02, \"value\": 1.0}, {\"metric\": \"Recall\", \"threshold\": 0.03, \"value\": 1.0}, {\"metric\": \"Recall\", \"threshold\": 0.04, \"value\": 1.0}, {\"metric\": \"Recall\", \"threshold\": 0.05, \"value\": 1.0}, {\"metric\": \"Recall\", \"threshold\": 0.060000000000000005, \"value\": 1.0}, {\"metric\": \"Recall\", \"threshold\": 0.06999999999999999, \"value\": 1.0}, {\"metric\": \"Recall\", \"threshold\": 0.08, \"value\": 1.0}, {\"metric\": \"Recall\", \"threshold\": 0.09, \"value\": 1.0}, {\"metric\": \"Recall\", \"threshold\": 0.09999999999999999, \"value\": 1.0}, {\"metric\": \"Recall\", \"threshold\": 0.11, \"value\": 0.9991326973113618}, {\"metric\": \"Recall\", \"threshold\": 0.12, \"value\": 0.9991326973113618}, {\"metric\": \"Recall\", \"threshold\": 0.13, \"value\": 0.9991326973113618}, {\"metric\": \"Recall\", \"threshold\": 0.14, \"value\": 0.9991326973113618}, {\"metric\": \"Recall\", \"threshold\": 0.15000000000000002, \"value\": 0.9982653946227235}, {\"metric\": \"Recall\", \"threshold\": 0.16, \"value\": 0.9982653946227235}, {\"metric\": \"Recall\", \"threshold\": 0.17, \"value\": 0.9973980919340852}, {\"metric\": \"Recall\", \"threshold\": 0.18000000000000002, \"value\": 0.9956634865568088}, {\"metric\": \"Recall\", \"threshold\": 0.19, \"value\": 0.993061578490894}, {\"metric\": \"Recall\", \"threshold\": 0.2, \"value\": 0.9869904596704263}, {\"metric\": \"Recall\", \"threshold\": 0.21000000000000002, \"value\": 0.986123156981788}, {\"metric\": \"Recall\", \"threshold\": 0.22, \"value\": 0.9817866435385968}, {\"metric\": \"Recall\", \"threshold\": 0.23, \"value\": 0.98005203816132}, {\"metric\": \"Recall\", \"threshold\": 0.24000000000000002, \"value\": 0.9739809193408516}, {\"metric\": \"Recall\", \"threshold\": 0.25, \"value\": 0.965307892454468}, {\"metric\": \"Recall\", \"threshold\": 0.26, \"value\": 0.9557675628794461}, {\"metric\": \"Recall\", \"threshold\": 0.27, \"value\": 0.9470945359930625}, {\"metric\": \"Recall\", \"threshold\": 0.28, \"value\": 0.9392888117953173}, {\"metric\": \"Recall\", \"threshold\": 0.29000000000000004, \"value\": 0.9323503902862105}, {\"metric\": \"Recall\", \"threshold\": 0.3, \"value\": 0.9184735472679968}, {\"metric\": \"Recall\", \"threshold\": 0.31, \"value\": 0.9124024284475283}, {\"metric\": \"Recall\", \"threshold\": 0.32, \"value\": 0.9054640069384214}, {\"metric\": \"Recall\", \"threshold\": 0.33, \"value\": 0.8950563746747611}, {\"metric\": \"Recall\", \"threshold\": 0.34, \"value\": 0.8803122289679091}, {\"metric\": \"Recall\", \"threshold\": 0.35000000000000003, \"value\": 0.8707718993928871}, {\"metric\": \"Recall\", \"threshold\": 0.36000000000000004, \"value\": 0.8612315698178652}, {\"metric\": \"Recall\", \"threshold\": 0.37, \"value\": 0.8482220294882898}, {\"metric\": \"Recall\", \"threshold\": 0.38, \"value\": 0.8343451864700762}, {\"metric\": \"Recall\", \"threshold\": 0.39, \"value\": 0.8274067649609693}, {\"metric\": \"Recall\", \"threshold\": 0.4, \"value\": 0.8065915004336487}, {\"metric\": \"Recall\", \"threshold\": 0.41000000000000003, \"value\": 0.7883781439722433}, {\"metric\": \"Recall\", \"threshold\": 0.42000000000000004, \"value\": 0.7727666955767528}, {\"metric\": \"Recall\", \"threshold\": 0.43, \"value\": 0.7519514310494323}, {\"metric\": \"Recall\", \"threshold\": 0.44, \"value\": 0.7285342584561966}, {\"metric\": \"Recall\", \"threshold\": 0.45, \"value\": 0.7137901127493446}, {\"metric\": \"Recall\", \"threshold\": 0.46, \"value\": 0.695576756287939}, {\"metric\": \"Recall\", \"threshold\": 0.47000000000000003, \"value\": 0.6678230702515117}, {\"metric\": \"Recall\", \"threshold\": 0.48000000000000004, \"value\": 0.6487424111014678}, {\"metric\": \"Recall\", \"threshold\": 0.49, \"value\": 0.6348655680832541}, {\"metric\": \"Recall\", \"threshold\": 0.5, \"value\": 0.6097137901127417}, {\"metric\": \"Recall\", \"threshold\": 0.51, \"value\": 0.5862966175195061}, {\"metric\": \"Recall\", \"threshold\": 0.52, \"value\": 0.5706851691240157}, {\"metric\": \"Recall\", \"threshold\": 0.53, \"value\": 0.5524718126626101}, {\"metric\": \"Recall\", \"threshold\": 0.54, \"value\": 0.5281873373807362}, {\"metric\": \"Recall\", \"threshold\": 0.55, \"value\": 0.5021682567215855}, {\"metric\": \"Recall\", \"threshold\": 0.56, \"value\": 0.48829141370337187}, {\"metric\": \"Recall\", \"threshold\": 0.5700000000000001, \"value\": 0.4709453599306058}, {\"metric\": \"Recall\", \"threshold\": 0.5800000000000001, \"value\": 0.4509973980919249}, {\"metric\": \"Recall\", \"threshold\": 0.59, \"value\": 0.43191673894188226}, {\"metric\": \"Recall\", \"threshold\": 0.6, \"value\": 0.4154379878577545}, {\"metric\": \"Recall\", \"threshold\": 0.61, \"value\": 0.39895923677362677}, {\"metric\": \"Recall\", \"threshold\": 0.62, \"value\": 0.3755420641803926}, {\"metric\": \"Recall\", \"threshold\": 0.63, \"value\": 0.36166522116217975}, {\"metric\": \"Recall\", \"threshold\": 0.64, \"value\": 0.3477883781439669}, {\"metric\": \"Recall\", \"threshold\": 0.65, \"value\": 0.33044232437120086}, {\"metric\": \"Recall\", \"threshold\": 0.66, \"value\": 0.3104943625325199}, {\"metric\": \"Recall\", \"threshold\": 0.67, \"value\": 0.29054640069383897}, {\"metric\": \"Recall\", \"threshold\": 0.68, \"value\": 0.2784041630529027}, {\"metric\": \"Recall\", \"threshold\": 0.6900000000000001, \"value\": 0.2627927146574133}, {\"metric\": \"Recall\", \"threshold\": 0.7000000000000001, \"value\": 0.24371205550737057}, {\"metric\": \"Recall\", \"threshold\": 0.7100000000000001, \"value\": 0.22549869904596564}, {\"metric\": \"Recall\", \"threshold\": 0.72, \"value\": 0.2090199479618374}, {\"metric\": \"Recall\", \"threshold\": 0.73, \"value\": 0.18907198612315582}, {\"metric\": \"Recall\", \"threshold\": 0.74, \"value\": 0.17779705117085753}, {\"metric\": \"Recall\", \"threshold\": 0.75, \"value\": 0.16131830008672926}, {\"metric\": \"Recall\", \"threshold\": 0.76, \"value\": 0.14310494362532436}, {\"metric\": \"Recall\", \"threshold\": 0.77, \"value\": 0.1326973113616644}, {\"metric\": \"Recall\", \"threshold\": 0.78, \"value\": 0.11708586296617447}, {\"metric\": \"Recall\", \"threshold\": 0.79, \"value\": 0.10060711188204621}, {\"metric\": \"Recall\", \"threshold\": 0.8, \"value\": 0.0884648742411096}, {\"metric\": \"Recall\", \"threshold\": 0.81, \"value\": 0.07892454466608798}, {\"metric\": \"Recall\", \"threshold\": 0.8200000000000001, \"value\": 0.06851691240242802}, {\"metric\": \"Recall\", \"threshold\": 0.8300000000000001, \"value\": 0.05810928013876807}, {\"metric\": \"Recall\", \"threshold\": 0.8400000000000001, \"value\": 0.04249783174327814}, {\"metric\": \"Recall\", \"threshold\": 0.85, \"value\": 0.03295750216825652}, {\"metric\": \"Recall\", \"threshold\": 0.86, \"value\": 0.026019080659149884}, {\"metric\": \"Recall\", \"threshold\": 0.87, \"value\": 0.019947961838681576}, {\"metric\": \"Recall\", \"threshold\": 0.88, \"value\": 0.012142237640936611}, {\"metric\": \"Recall\", \"threshold\": 0.89, \"value\": 0.009540329575021624}, {\"metric\": \"Recall\", \"threshold\": 0.9, \"value\": 0.0078057241977449645}, {\"metric\": \"Recall\", \"threshold\": 0.91, \"value\": 0.005203816131829977}, {\"metric\": \"Recall\", \"threshold\": 0.92, \"value\": 0.0034692107545533177}, {\"metric\": \"Recall\", \"threshold\": 0.93, \"value\": 0.0008673026886383294}, {\"metric\": \"Recall\", \"threshold\": 0.9400000000000001, \"value\": 0.0}, {\"metric\": \"Recall\", \"threshold\": 0.9500000000000001, \"value\": 0.0}, {\"metric\": \"Recall\", \"threshold\": 0.9600000000000001, \"value\": 0.0}, {\"metric\": \"Recall\", \"threshold\": 0.97, \"value\": 0.0}, {\"metric\": \"Recall\", \"threshold\": 0.98, \"value\": 0.0}, {\"metric\": \"Recall\", \"threshold\": 0.99, \"value\": 0.0}, {\"metric\": \"F1\", \"threshold\": 0.01, \"value\": 0.6666666666666138}, {\"metric\": \"F1\", \"threshold\": 0.02, \"value\": 0.6666666666666138}, {\"metric\": \"F1\", \"threshold\": 0.03, \"value\": 0.6666666666666138}, {\"metric\": \"F1\", \"threshold\": 0.04, \"value\": 0.6666666666666138}, {\"metric\": \"F1\", \"threshold\": 0.05, \"value\": 0.6666666666666138}, {\"metric\": \"F1\", \"threshold\": 0.060000000000000005, \"value\": 0.6666666666666138}, {\"metric\": \"F1\", \"threshold\": 0.06999999999999999, \"value\": 0.6666975580371095}, {\"metric\": \"F1\", \"threshold\": 0.08, \"value\": 0.6668211521527023}, {\"metric\": \"F1\", \"threshold\": 0.09, \"value\": 0.6669757092526821}, {\"metric\": \"F1\", \"threshold\": 0.09999999999999999, \"value\": 0.6673159871990565}, {\"metric\": \"F1\", \"threshold\": 0.11, \"value\": 0.6673017214234791}, {\"metric\": \"F1\", \"threshold\": 0.12, \"value\": 0.6682322877971839}, {\"metric\": \"F1\", \"threshold\": 0.13, \"value\": 0.6689786116632924}, {\"metric\": \"F1\", \"threshold\": 0.14, \"value\": 0.6703824716509152}, {\"metric\": \"F1\", \"threshold\": 0.15000000000000002, \"value\": 0.6712165915931328}, {\"metric\": \"F1\", \"threshold\": 0.16, \"value\": 0.6729147180361355}, {\"metric\": \"F1\", \"threshold\": 0.17, \"value\": 0.6742646097592453}, {\"metric\": \"F1\", \"threshold\": 0.18000000000000002, \"value\": 0.6757105455838508}, {\"metric\": \"F1\", \"threshold\": 0.19, \"value\": 0.6777720403985362}, {\"metric\": \"F1\", \"threshold\": 0.2, \"value\": 0.6782833906662683}, {\"metric\": \"F1\", \"threshold\": 0.21000000000000002, \"value\": 0.6805882999253908}, {\"metric\": \"F1\", \"threshold\": 0.22, \"value\": 0.6822160035522674}, {\"metric\": \"F1\", \"threshold\": 0.23, \"value\": 0.6852293698774115}, {\"metric\": \"F1\", \"threshold\": 0.24000000000000002, \"value\": 0.686848109094957}, {\"metric\": \"F1\", \"threshold\": 0.25, \"value\": 0.6881655683871061}, {\"metric\": \"F1\", \"threshold\": 0.26, \"value\": 0.6883435266410307}, {\"metric\": \"F1\", \"threshold\": 0.27, \"value\": 0.6890782233822839}, {\"metric\": \"F1\", \"threshold\": 0.28, \"value\": 0.6903866752773694}, {\"metric\": \"F1\", \"threshold\": 0.29000000000000004, \"value\": 0.6916080675668651}, {\"metric\": \"F1\", \"threshold\": 0.3, \"value\": 0.6893762641142472}, {\"metric\": \"F1\", \"threshold\": 0.31, \"value\": 0.6916632516495002}, {\"metric\": \"F1\", \"threshold\": 0.32, \"value\": 0.6930460605588259}, {\"metric\": \"F1\", \"threshold\": 0.33, \"value\": 0.6925170194301509}, {\"metric\": \"F1\", \"threshold\": 0.34, \"value\": 0.6909205608031241}, {\"metric\": \"F1\", \"threshold\": 0.35000000000000003, \"value\": 0.6910334221604346}, {\"metric\": \"F1\", \"threshold\": 0.36000000000000004, \"value\": 0.6918047916467674}, {\"metric\": \"F1\", \"threshold\": 0.37, \"value\": 0.6907484194698876}, {\"metric\": \"F1\", \"threshold\": 0.38, \"value\": 0.6892722811696628}, {\"metric\": \"F1\", \"threshold\": 0.39, \"value\": 0.6926442210238061}, {\"metric\": \"F1\", \"threshold\": 0.4, \"value\": 0.6871225652649534}, {\"metric\": \"F1\", \"threshold\": 0.41000000000000003, \"value\": 0.6836706498123796}, {\"metric\": \"F1\", \"threshold\": 0.42000000000000004, \"value\": 0.6810642609923063}, {\"metric\": \"F1\", \"threshold\": 0.43, \"value\": 0.6735176764431681}, {\"metric\": \"F1\", \"threshold\": 0.44, \"value\": 0.6656992683924229}, {\"metric\": \"F1\", \"threshold\": 0.45, \"value\": 0.6629661169254059}, {\"metric\": \"F1\", \"threshold\": 0.46, \"value\": 0.6580295921185418}, {\"metric\": \"F1\", \"threshold\": 0.47000000000000003, \"value\": 0.6471631832286047}, {\"metric\": \"F1\", \"threshold\": 0.48000000000000004, \"value\": 0.6405484437562022}, {\"metric\": \"F1\", \"threshold\": 0.49, \"value\": 0.6377367621381141}, {\"metric\": \"F1\", \"threshold\": 0.5, \"value\": 0.6261070638966615}, {\"metric\": \"F1\", \"threshold\": 0.51, \"value\": 0.6145816456955154}, {\"metric\": \"F1\", \"threshold\": 0.52, \"value\": 0.6090577952648503}, {\"metric\": \"F1\", \"threshold\": 0.53, \"value\": 0.6020354560989598}, {\"metric\": \"F1\", \"threshold\": 0.54, \"value\": 0.588986217227303}, {\"metric\": \"F1\", \"threshold\": 0.55, \"value\": 0.5737653680289302}, {\"metric\": \"F1\", \"threshold\": 0.56, \"value\": 0.5672265632905015}, {\"metric\": \"F1\", \"threshold\": 0.5700000000000001, \"value\": 0.5572345782142017}, {\"metric\": \"F1\", \"threshold\": 0.5800000000000001, \"value\": 0.5440794878943841}, {\"metric\": \"F1\", \"threshold\": 0.59, \"value\": 0.5318646755879033}, {\"metric\": \"F1\", \"threshold\": 0.6, \"value\": 0.5207333703264424}, {\"metric\": \"F1\", \"threshold\": 0.61, \"value\": 0.5092864942754023}, {\"metric\": \"F1\", \"threshold\": 0.62, \"value\": 0.4900662918461648}, {\"metric\": \"F1\", \"threshold\": 0.63, \"value\": 0.47973870622705}, {\"metric\": \"F1\", \"threshold\": 0.64, \"value\": 0.4687572893104394}, {\"metric\": \"F1\", \"threshold\": 0.65, \"value\": 0.45365577171775334}, {\"metric\": \"F1\", \"threshold\": 0.66, \"value\": 0.43538885615357953}, {\"metric\": \"F1\", \"threshold\": 0.67, \"value\": 0.41574363864309927}, {\"metric\": \"F1\", \"threshold\": 0.68, \"value\": 0.40453888170796326}, {\"metric\": \"F1\", \"threshold\": 0.6900000000000001, \"value\": 0.3881781866205456}, {\"metric\": \"F1\", \"threshold\": 0.7000000000000001, \"value\": 0.36747346969900924}, {\"metric\": \"F1\", \"threshold\": 0.7100000000000001, \"value\": 0.3470681219811476}, {\"metric\": \"F1\", \"threshold\": 0.72, \"value\": 0.32811268693154005}, {\"metric\": \"F1\", \"threshold\": 0.73, \"value\": 0.30303130428078484}, {\"metric\": \"F1\", \"threshold\": 0.74, \"value\": 0.2893149904525865}, {\"metric\": \"F1\", \"threshold\": 0.75, \"value\": 0.26812699204045337}, {\"metric\": \"F1\", \"threshold\": 0.76, \"value\": 0.24282029199558844}, {\"metric\": \"F1\", \"threshold\": 0.77, \"value\": 0.22803470112193883}, {\"metric\": \"F1\", \"threshold\": 0.78, \"value\": 0.2047607577195874}, {\"metric\": \"F1\", \"threshold\": 0.79, \"value\": 0.1791112048814159}, {\"metric\": \"F1\", \"threshold\": 0.8, \"value\": 0.15977480485620485}, {\"metric\": \"F1\", \"threshold\": 0.81, \"value\": 0.14411137001273389}, {\"metric\": \"F1\", \"threshold\": 0.8200000000000001, \"value\": 0.12674629187044295}, {\"metric\": \"F1\", \"threshold\": 0.8300000000000001, \"value\": 0.10884939054815204}, {\"metric\": \"F1\", \"threshold\": 0.8400000000000001, \"value\": 0.08088368916961695}, {\"metric\": \"F1\", \"threshold\": 0.85, \"value\": 0.0633769633598884}, {\"metric\": \"F1\", \"threshold\": 0.86, \"value\": 0.05050639198852799}, {\"metric\": \"F1\", \"threshold\": 0.87, \"value\": 0.03901992454100946}, {\"metric\": \"F1\", \"threshold\": 0.88, \"value\": 0.023947101244242885}, {\"metric\": \"F1\", \"threshold\": 0.89, \"value\": 0.018876950948051772}, {\"metric\": \"F1\", \"threshold\": 0.9, \"value\": 0.015484126474505658}, {\"metric\": \"F1\", \"threshold\": 0.91, \"value\": 0.01034945970684437}, {\"metric\": \"F1\", \"threshold\": 0.92, \"value\": 0.006912518779057351}, {\"metric\": \"F1\", \"threshold\": 0.93, \"value\": 0.0017328615858140338}, {\"metric\": \"F1\", \"threshold\": 0.9400000000000001, \"value\": 0.0}, {\"metric\": \"F1\", \"threshold\": 0.9500000000000001, \"value\": 0.0}, {\"metric\": \"F1\", \"threshold\": 0.9600000000000001, \"value\": 0.0}, {\"metric\": \"F1\", \"threshold\": 0.97, \"value\": 0.0}, {\"metric\": \"F1\", \"threshold\": 0.98, \"value\": 0.0}, {\"metric\": \"F1\", \"threshold\": 0.99, \"value\": 0.0}, {\"metric\": \"FPR\", \"threshold\": 0.01, \"value\": 1.0}, {\"metric\": \"FPR\", \"threshold\": 0.02, \"value\": 1.0}, {\"metric\": \"FPR\", \"threshold\": 0.03, \"value\": 1.0}, {\"metric\": \"FPR\", \"threshold\": 0.04, \"value\": 1.0}, {\"metric\": \"FPR\", \"threshold\": 0.05, \"value\": 1.0}, {\"metric\": \"FPR\", \"threshold\": 0.060000000000000005, \"value\": 1.0}, {\"metric\": \"FPR\", \"threshold\": 0.06999999999999999, \"value\": 0.9998609952738393}, {\"metric\": \"FPR\", \"threshold\": 0.08, \"value\": 0.9993049763691966}, {\"metric\": \"FPR\", \"threshold\": 0.09, \"value\": 0.9986099527383931}, {\"metric\": \"FPR\", \"threshold\": 0.09999999999999999, \"value\": 0.9970809007506255}, {\"metric\": \"FPR\", \"threshold\": 0.11, \"value\": 0.9954128440366973}, {\"metric\": \"FPR\", \"threshold\": 0.12, \"value\": 0.9912427022518766}, {\"metric\": \"FPR\", \"threshold\": 0.13, \"value\": 0.98790658882402}, {\"metric\": \"FPR\", \"threshold\": 0.14, \"value\": 0.981651376146789}, {\"metric\": \"FPR\", \"threshold\": 0.15000000000000002, \"value\": 0.9762301918265222}, {\"metric\": \"FPR\", \"threshold\": 0.16, \"value\": 0.9687239366138448}, {\"metric\": \"FPR\", \"threshold\": 0.17, \"value\": 0.9610786766750069}, {\"metric\": \"FPR\", \"threshold\": 0.18000000000000002, \"value\": 0.9513483458437587}, {\"metric\": \"FPR\", \"threshold\": 0.19, \"value\": 0.9373088685015291}, {\"metric\": \"FPR\", \"threshold\": 0.2, \"value\": 0.9232693911592994}, {\"metric\": \"FPR\", \"threshold\": 0.21000000000000002, \"value\": 0.9117319988879622}, {\"metric\": \"FPR\", \"threshold\": 0.22, \"value\": 0.8964414790102864}, {\"metric\": \"FPR\", \"threshold\": 0.23, \"value\": 0.880455935501807}, {\"metric\": \"FPR\", \"threshold\": 0.24000000000000002, \"value\": 0.862107311648596}, {\"metric\": \"FPR\", \"threshold\": 0.25, \"value\": 0.8401445649152072}, {\"metric\": \"FPR\", \"threshold\": 0.26, \"value\": 0.8212399221573533}, {\"metric\": \"FPR\", \"threshold\": 0.27, \"value\": 0.8017792604948568}, {\"metric\": \"FPR\", \"threshold\": 0.28, \"value\": 0.7817625799277176}, {\"metric\": \"FPR\", \"threshold\": 0.29000000000000004, \"value\": 0.7638309702529886}, {\"metric\": \"FPR\", \"threshold\": 0.3, \"value\": 0.746177370030581}, {\"metric\": \"FPR\", \"threshold\": 0.31, \"value\": 0.7258826800111203}, {\"metric\": \"FPR\", \"threshold\": 0.32, \"value\": 0.7075340561579093}, {\"metric\": \"FPR\", \"threshold\": 0.33, \"value\": 0.6898804559355018}, {\"metric\": \"FPR\", \"threshold\": 0.34, \"value\": 0.6679177092021129}, {\"metric\": \"FPR\", \"threshold\": 0.35000000000000003, \"value\": 0.6494300806227412}, {\"metric\": \"FPR\", \"threshold\": 0.36000000000000004, \"value\": 0.6285793716986378}, {\"metric\": \"FPR\", \"threshold\": 0.37, \"value\": 0.6077286627745343}, {\"metric\": \"FPR\", \"threshold\": 0.38, \"value\": 0.5865999443981096}, {\"metric\": \"FPR\", \"threshold\": 0.39, \"value\": 0.5617180984153461}, {\"metric\": \"FPR\", \"threshold\": 0.4, \"value\": 0.5411453989435641}, {\"metric\": \"FPR\", \"threshold\": 0.41000000000000003, \"value\": 0.517931609674729}, {\"metric\": \"FPR\", \"threshold\": 0.42000000000000004, \"value\": 0.49652488184598276}, {\"metric\": \"FPR\", \"threshold\": 0.43, \"value\": 0.48095635251598556}, {\"metric\": \"FPR\", \"threshold\": 0.44, \"value\": 0.4602446483180428}, {\"metric\": \"FPR\", \"threshold\": 0.45, \"value\": 0.4395329441201001}, {\"metric\": \"FPR\", \"threshold\": 0.46, \"value\": 0.418543230469836}, {\"metric\": \"FPR\", \"threshold\": 0.47000000000000003, \"value\": 0.39602446483180426}, {\"metric\": \"FPR\", \"threshold\": 0.48000000000000004, \"value\": 0.37684181262162914}, {\"metric\": \"FPR\", \"threshold\": 0.49, \"value\": 0.3561301084236864}, {\"metric\": \"FPR\", \"threshold\": 0.5, \"value\": 0.3379204892966361}, {\"metric\": \"FPR\", \"threshold\": 0.51, \"value\": 0.3216569363358354}, {\"metric\": \"FPR\", \"threshold\": 0.52, \"value\": 0.3033083124826244}, {\"metric\": \"FPR\", \"threshold\": 0.53, \"value\": 0.28287461773700306}, {\"metric\": \"FPR\", \"threshold\": 0.54, \"value\": 0.26536002224075617}, {\"metric\": \"FPR\", \"threshold\": 0.55, \"value\": 0.24826244092299138}, {\"metric\": \"FPR\", \"threshold\": 0.56, \"value\": 0.2333889352237976}, {\"metric\": \"FPR\", \"threshold\": 0.5700000000000001, \"value\": 0.21934945788156798}, {\"metric\": \"FPR\", \"threshold\": 0.5800000000000001, \"value\": 0.20683903252710592}, {\"metric\": \"FPR\", \"threshold\": 0.59, \"value\": 0.19224353628023352}, {\"metric\": \"FPR\", \"threshold\": 0.6, \"value\": 0.18015012510425354}, {\"metric\": \"FPR\", \"threshold\": 0.61, \"value\": 0.1677787044759522}, {\"metric\": \"FPR\", \"threshold\": 0.62, \"value\": 0.1570753405615791}, {\"metric\": \"FPR\", \"threshold\": 0.63, \"value\": 0.14609396719488463}, {\"metric\": \"FPR\", \"threshold\": 0.64, \"value\": 0.13608562691131498}, {\"metric\": \"FPR\", \"threshold\": 0.65, \"value\": 0.1263552960800667}, {\"metric\": \"FPR\", \"threshold\": 0.66, \"value\": 0.11579093689185432}, {\"metric\": \"FPR\", \"threshold\": 0.67, \"value\": 0.10717264386989157}, {\"metric\": \"FPR\", \"threshold\": 0.68, \"value\": 0.09799833194328607}, {\"metric\": \"FPR\", \"threshold\": 0.6900000000000001, \"value\": 0.09118710036141228}, {\"metric\": \"FPR\", \"threshold\": 0.7000000000000001, \"value\": 0.08270781206561023}, {\"metric\": \"FPR\", \"threshold\": 0.7100000000000001, \"value\": 0.0739505143174868}, {\"metric\": \"FPR\", \"threshold\": 0.72, \"value\": 0.06505421184320268}, {\"metric\": \"FPR\", \"threshold\": 0.73, \"value\": 0.058798999165971644}, {\"metric\": \"FPR\", \"threshold\": 0.74, \"value\": 0.05129274395329441}, {\"metric\": \"FPR\", \"threshold\": 0.75, \"value\": 0.04197942730052822}, {\"metric\": \"FPR\", \"threshold\": 0.76, \"value\": 0.035585209897136504}, {\"metric\": \"FPR\", \"threshold\": 0.77, \"value\": 0.03113705865999444}, {\"metric\": \"FPR\", \"threshold\": 0.78, \"value\": 0.026549902696691687}, {\"metric\": \"FPR\", \"threshold\": 0.79, \"value\": 0.02279677509035307}, {\"metric\": \"FPR\", \"threshold\": 0.8, \"value\": 0.01890464275785377}, {\"metric\": \"FPR\", \"threshold\": 0.81, \"value\": 0.016402557686961357}, {\"metric\": \"FPR\", \"threshold\": 0.8200000000000001, \"value\": 0.01264943008062274}, {\"metric\": \"FPR\", \"threshold\": 0.8300000000000001, \"value\": 0.009591326105087573}, {\"metric\": \"FPR\", \"threshold\": 0.8400000000000001, \"value\": 0.008340283569641367}, {\"metric\": \"FPR\", \"threshold\": 0.85, \"value\": 0.007089241034195163}, {\"metric\": \"FPR\", \"threshold\": 0.86, \"value\": 0.004309146510981373}, {\"metric\": \"FPR\", \"threshold\": 0.87, \"value\": 0.0025020850708924102}, {\"metric\": \"FPR\", \"threshold\": 0.88, \"value\": 0.0019460661662496525}, {\"metric\": \"FPR\", \"threshold\": 0.89, \"value\": 0.0012510425354462051}, {\"metric\": \"FPR\", \"threshold\": 0.9, \"value\": 0.0004170141784820684}, {\"metric\": \"FPR\", \"threshold\": 0.91, \"value\": 0.0004170141784820684}, {\"metric\": \"FPR\", \"threshold\": 0.92, \"value\": 0.00027800945232137893}, {\"metric\": \"FPR\", \"threshold\": 0.93, \"value\": 0.00013900472616068947}, {\"metric\": \"FPR\", \"threshold\": 0.9400000000000001, \"value\": 0.0}, {\"metric\": \"FPR\", \"threshold\": 0.9500000000000001, \"value\": 0.0}, {\"metric\": \"FPR\", \"threshold\": 0.9600000000000001, \"value\": 0.0}, {\"metric\": \"FPR\", \"threshold\": 0.97, \"value\": 0.0}, {\"metric\": \"FPR\", \"threshold\": 0.98, \"value\": 0.0}, {\"metric\": \"FPR\", \"threshold\": 0.99, \"value\": 0.0}], \"data-a8f111f8f893b703e65ba7cbcb1db6f3\": [{\"default\": 0.5}]}}, {\"mode\": \"vega-lite\"});\n",
       "</script>"
      ],
      "text/plain": [
       "alt.LayerChart(...)"
      ]
     },
     "execution_count": 182,
     "metadata": {},
     "output_type": "execute_result"
    }
   ],
   "source": [
    "alt_plot_metric_based_threshold_tuning_plots(\n",
    "    df_all_threshold_tuning_scores,\n",
    "    ptitle_offset=-5,\n",
    "    legend_offset=5,\n",
    "    figsize=(450, 300),\n",
    ")"
   ]
  },
  {
   "cell_type": "markdown",
   "metadata": {},
   "source": [
    "1. Why divide by `len(y_test)`?\n",
    "   - If every loan had these r,n,p, anbd other factos were consisnt, and taking the model's predictive power into account, then the average return would be given by `ds /= len(y_test)`"
   ]
  },
  {
   "cell_type": "code",
   "execution_count": 21,
   "metadata": {
    "execution": {
     "iopub.execute_input": "2020-11-13T15:39:13.258813Z",
     "iopub.status.busy": "2020-11-13T15:39:13.258685Z",
     "iopub.status.idle": "2020-11-13T15:39:14.831616Z",
     "shell.execute_reply": "2020-11-13T15:39:14.831116Z",
     "shell.execute_reply.started": "2020-11-13T15:39:13.258797Z"
    }
   },
   "outputs": [
    {
     "data": {
      "text/html": [
       "<div>\n",
       "<style scoped>\n",
       "    .dataframe tbody tr th:only-of-type {\n",
       "        vertical-align: middle;\n",
       "    }\n",
       "\n",
       "    .dataframe tbody tr th {\n",
       "        vertical-align: top;\n",
       "    }\n",
       "\n",
       "    .dataframe thead th {\n",
       "        text-align: right;\n",
       "    }\n",
       "</style>\n",
       "<table border=\"1\" class=\"dataframe\">\n",
       "  <thead>\n",
       "    <tr style=\"text-align: right;\">\n",
       "      <th></th>\n",
       "      <th>r</th>\n",
       "      <th>n</th>\n",
       "      <th>p</th>\n",
       "      <th>config</th>\n",
       "      <th>best_t</th>\n",
       "      <th>return_at_best_t</th>\n",
       "      <th>theoretical</th>\n",
       "      <th>clf</th>\n",
       "    </tr>\n",
       "  </thead>\n",
       "  <tbody>\n",
       "    <tr>\n",
       "      <th>0</th>\n",
       "      <td>10.71</td>\n",
       "      <td>36</td>\n",
       "      <td>500.0</td>\n",
       "      <td>0</td>\n",
       "      <td>0.01</td>\n",
       "      <td>-6.374047</td>\n",
       "      <td>86.827983</td>\n",
       "      <td>DummyClassifier</td>\n",
       "    </tr>\n",
       "    <tr>\n",
       "      <th>1</th>\n",
       "      <td>7.90</td>\n",
       "      <td>36</td>\n",
       "      <td>35000.0</td>\n",
       "      <td>1</td>\n",
       "      <td>0.01</td>\n",
       "      <td>-1463.615562</td>\n",
       "      <td>4425.720021</td>\n",
       "      <td>DummyClassifier</td>\n",
       "    </tr>\n",
       "    <tr>\n",
       "      <th>2</th>\n",
       "      <td>23.59</td>\n",
       "      <td>60</td>\n",
       "      <td>35000.0</td>\n",
       "      <td>2</td>\n",
       "      <td>0.01</td>\n",
       "      <td>11152.869036</td>\n",
       "      <td>24914.007363</td>\n",
       "      <td>DummyClassifier</td>\n",
       "    </tr>\n",
       "    <tr>\n",
       "      <th>3</th>\n",
       "      <td>14.91</td>\n",
       "      <td>60</td>\n",
       "      <td>9900.0</td>\n",
       "      <td>3</td>\n",
       "      <td>0.01</td>\n",
       "      <td>1403.403017</td>\n",
       "      <td>4203.172176</td>\n",
       "      <td>DummyClassifier</td>\n",
       "    </tr>\n",
       "    <tr>\n",
       "      <th>4</th>\n",
       "      <td>10.71</td>\n",
       "      <td>36</td>\n",
       "      <td>500.0</td>\n",
       "      <td>0</td>\n",
       "      <td>0.75</td>\n",
       "      <td>10.626142</td>\n",
       "      <td>86.827983</td>\n",
       "      <td>LogisticRegression</td>\n",
       "    </tr>\n",
       "    <tr>\n",
       "      <th>5</th>\n",
       "      <td>7.90</td>\n",
       "      <td>36</td>\n",
       "      <td>35000.0</td>\n",
       "      <td>1</td>\n",
       "      <td>0.61</td>\n",
       "      <td>-371.397904</td>\n",
       "      <td>4425.720021</td>\n",
       "      <td>LogisticRegression</td>\n",
       "    </tr>\n",
       "    <tr>\n",
       "      <th>6</th>\n",
       "      <td>23.59</td>\n",
       "      <td>60</td>\n",
       "      <td>35000.0</td>\n",
       "      <td>2</td>\n",
       "      <td>0.90</td>\n",
       "      <td>16657.707551</td>\n",
       "      <td>24914.007363</td>\n",
       "      <td>LogisticRegression</td>\n",
       "    </tr>\n",
       "    <tr>\n",
       "      <th>7</th>\n",
       "      <td>14.91</td>\n",
       "      <td>60</td>\n",
       "      <td>9900.0</td>\n",
       "      <td>3</td>\n",
       "      <td>0.83</td>\n",
       "      <td>2265.027300</td>\n",
       "      <td>4203.172176</td>\n",
       "      <td>LogisticRegression</td>\n",
       "    </tr>\n",
       "  </tbody>\n",
       "</table>\n",
       "</div>"
      ],
      "text/plain": [
       "       r   n        p  config  best_t  return_at_best_t   theoretical                 clf\n",
       "0  10.71  36    500.0       0    0.01         -6.374047     86.827983     DummyClassifier\n",
       "1   7.90  36  35000.0       1    0.01      -1463.615562   4425.720021     DummyClassifier\n",
       "2  23.59  60  35000.0       2    0.01      11152.869036  24914.007363     DummyClassifier\n",
       "3  14.91  60   9900.0       3    0.01       1403.403017   4203.172176     DummyClassifier\n",
       "4  10.71  36    500.0       0    0.75         10.626142     86.827983  LogisticRegression\n",
       "5   7.90  36  35000.0       1    0.61       -371.397904   4425.720021  LogisticRegression\n",
       "6  23.59  60  35000.0       2    0.90      16657.707551  24914.007363  LogisticRegression\n",
       "7  14.91  60   9900.0       3    0.83       2265.027300   4203.172176  LogisticRegression"
      ]
     },
     "metadata": {},
     "output_type": "display_data"
    },
    {
     "data": {
      "text/html": [
       "<div>\n",
       "<style scoped>\n",
       "    .dataframe tbody tr th:only-of-type {\n",
       "        vertical-align: middle;\n",
       "    }\n",
       "\n",
       "    .dataframe tbody tr th {\n",
       "        vertical-align: top;\n",
       "    }\n",
       "\n",
       "    .dataframe thead th {\n",
       "        text-align: right;\n",
       "    }\n",
       "</style>\n",
       "<table border=\"1\" class=\"dataframe\">\n",
       "  <thead>\n",
       "    <tr style=\"text-align: right;\">\n",
       "      <th>config</th>\n",
       "      <th>threshold</th>\n",
       "      <th>0</th>\n",
       "      <th>1</th>\n",
       "      <th>2</th>\n",
       "      <th>3</th>\n",
       "      <th>r</th>\n",
       "      <th>n</th>\n",
       "      <th>p</th>\n",
       "      <th>config</th>\n",
       "      <th>best_t</th>\n",
       "      <th>return_at_best_t</th>\n",
       "      <th>theoretical</th>\n",
       "      <th>clf</th>\n",
       "    </tr>\n",
       "  </thead>\n",
       "  <tbody>\n",
       "    <tr>\n",
       "      <th>0</th>\n",
       "      <td>0.01</td>\n",
       "      <td>-74.834133</td>\n",
       "      <td>-3814.379996</td>\n",
       "      <td>-21472.549296</td>\n",
       "      <td>-3622.573456</td>\n",
       "      <td>10.71</td>\n",
       "      <td>36</td>\n",
       "      <td>500.0</td>\n",
       "      <td>0</td>\n",
       "      <td>0.75</td>\n",
       "      <td>10.626142</td>\n",
       "      <td>86.827983</td>\n",
       "      <td>LogisticRegression</td>\n",
       "    </tr>\n",
       "    <tr>\n",
       "      <th>1</th>\n",
       "      <td>0.02</td>\n",
       "      <td>-74.834133</td>\n",
       "      <td>-3814.379996</td>\n",
       "      <td>-21472.549296</td>\n",
       "      <td>-3622.573456</td>\n",
       "      <td>10.71</td>\n",
       "      <td>36</td>\n",
       "      <td>500.0</td>\n",
       "      <td>0</td>\n",
       "      <td>0.75</td>\n",
       "      <td>10.626142</td>\n",
       "      <td>86.827983</td>\n",
       "      <td>LogisticRegression</td>\n",
       "    </tr>\n",
       "    <tr>\n",
       "      <th>2</th>\n",
       "      <td>0.03</td>\n",
       "      <td>-74.834133</td>\n",
       "      <td>-3814.379996</td>\n",
       "      <td>-21472.549296</td>\n",
       "      <td>-3622.573456</td>\n",
       "      <td>10.71</td>\n",
       "      <td>36</td>\n",
       "      <td>500.0</td>\n",
       "      <td>0</td>\n",
       "      <td>0.75</td>\n",
       "      <td>10.626142</td>\n",
       "      <td>86.827983</td>\n",
       "      <td>LogisticRegression</td>\n",
       "    </tr>\n",
       "    <tr>\n",
       "      <th>3</th>\n",
       "      <td>0.04</td>\n",
       "      <td>-74.834133</td>\n",
       "      <td>-3814.379996</td>\n",
       "      <td>-21472.549296</td>\n",
       "      <td>-3622.573456</td>\n",
       "      <td>10.71</td>\n",
       "      <td>36</td>\n",
       "      <td>500.0</td>\n",
       "      <td>0</td>\n",
       "      <td>0.75</td>\n",
       "      <td>10.626142</td>\n",
       "      <td>86.827983</td>\n",
       "      <td>LogisticRegression</td>\n",
       "    </tr>\n",
       "    <tr>\n",
       "      <th>4</th>\n",
       "      <td>0.05</td>\n",
       "      <td>-74.834133</td>\n",
       "      <td>-3814.379996</td>\n",
       "      <td>-21472.549296</td>\n",
       "      <td>-3622.573456</td>\n",
       "      <td>10.71</td>\n",
       "      <td>36</td>\n",
       "      <td>500.0</td>\n",
       "      <td>0</td>\n",
       "      <td>0.75</td>\n",
       "      <td>10.626142</td>\n",
       "      <td>86.827983</td>\n",
       "      <td>LogisticRegression</td>\n",
       "    </tr>\n",
       "  </tbody>\n",
       "</table>\n",
       "</div>"
      ],
      "text/plain": [
       "config  threshold          0            1             2            3      r   n      p  config  best_t  return_at_best_t  theoretical                 clf\n",
       "0            0.01 -74.834133 -3814.379996 -21472.549296 -3622.573456  10.71  36  500.0       0    0.75         10.626142    86.827983  LogisticRegression\n",
       "1            0.02 -74.834133 -3814.379996 -21472.549296 -3622.573456  10.71  36  500.0       0    0.75         10.626142    86.827983  LogisticRegression\n",
       "2            0.03 -74.834133 -3814.379996 -21472.549296 -3622.573456  10.71  36  500.0       0    0.75         10.626142    86.827983  LogisticRegression\n",
       "3            0.04 -74.834133 -3814.379996 -21472.549296 -3622.573456  10.71  36  500.0       0    0.75         10.626142    86.827983  LogisticRegression\n",
       "4            0.05 -74.834133 -3814.379996 -21472.549296 -3622.573456  10.71  36  500.0       0    0.75         10.626142    86.827983  LogisticRegression"
      ]
     },
     "metadata": {},
     "output_type": "display_data"
    },
    {
     "name": "stdout",
     "output_type": "stream",
     "text": [
      "CPU times: user 934 ms, sys: 1.51 s, total: 2.45 s\n",
      "Wall time: 1.19 s\n"
     ]
    },
    {
     "data": {
      "image/png": "[encoded data removed]",
      "text/plain": [
       "<Figure size 576x864 with 4 Axes>"
      ]
     },
     "metadata": {},
     "output_type": "display_data"
    }
   ],
   "source": [
    "%%time\n",
    "df_returns_t_tuned, df_returns_t_tuning_full = plot_cost_function_based_threshold_tuning_plots(best_pipe, best_dummy_pipe, X_val, y_val, confs, thresholds_list)\n",
    "display(df_returns_t_tuned)\n",
    "display(df_returns_t_tuning_full.head())"
   ]
  },
  {
   "cell_type": "code",
   "execution_count": 22,
   "metadata": {
    "execution": {
     "iopub.execute_input": "2020-11-13T15:39:14.832322Z",
     "iopub.status.busy": "2020-11-13T15:39:14.832204Z",
     "iopub.status.idle": "2020-11-13T15:39:15.205687Z",
     "shell.execute_reply": "2020-11-13T15:39:15.205131Z",
     "shell.execute_reply.started": "2020-11-13T15:39:14.832308Z"
    }
   },
   "outputs": [
    {
     "data": {
      "text/html": [
       "<div>\n",
       "<style scoped>\n",
       "    .dataframe tbody tr th:only-of-type {\n",
       "        vertical-align: middle;\n",
       "    }\n",
       "\n",
       "    .dataframe tbody tr th {\n",
       "        vertical-align: top;\n",
       "    }\n",
       "\n",
       "    .dataframe thead th {\n",
       "        text-align: right;\n",
       "    }\n",
       "</style>\n",
       "<table border=\"1\" class=\"dataframe\">\n",
       "  <thead>\n",
       "    <tr style=\"text-align: right;\">\n",
       "      <th></th>\n",
       "      <th>cfg</th>\n",
       "      <th>clf</th>\n",
       "      <th>return</th>\n",
       "    </tr>\n",
       "  </thead>\n",
       "  <tbody>\n",
       "    <tr>\n",
       "      <th>0</th>\n",
       "      <td>(10.71%, 36 mo., $500)</td>\n",
       "      <td>DummyClassifier</td>\n",
       "      <td>-6.374047</td>\n",
       "    </tr>\n",
       "    <tr>\n",
       "      <th>1</th>\n",
       "      <td>(7.90%, 36 mo., $35,000)</td>\n",
       "      <td>DummyClassifier</td>\n",
       "      <td>-1463.615562</td>\n",
       "    </tr>\n",
       "    <tr>\n",
       "      <th>2</th>\n",
       "      <td>(23.59%, 60 mo., $35,000)</td>\n",
       "      <td>DummyClassifier</td>\n",
       "      <td>11152.869036</td>\n",
       "    </tr>\n",
       "    <tr>\n",
       "      <th>3</th>\n",
       "      <td>(14.91%, 60 mo., $9,900)</td>\n",
       "      <td>DummyClassifier</td>\n",
       "      <td>1403.403017</td>\n",
       "    </tr>\n",
       "    <tr>\n",
       "      <th>4</th>\n",
       "      <td>(10.71%, 36 mo., $500)</td>\n",
       "      <td>LogisticRegression</td>\n",
       "      <td>10.626142</td>\n",
       "    </tr>\n",
       "    <tr>\n",
       "      <th>5</th>\n",
       "      <td>(7.90%, 36 mo., $35,000)</td>\n",
       "      <td>LogisticRegression</td>\n",
       "      <td>-560.621189</td>\n",
       "    </tr>\n",
       "    <tr>\n",
       "      <th>6</th>\n",
       "      <td>(23.59%, 60 mo., $35,000)</td>\n",
       "      <td>LogisticRegression</td>\n",
       "      <td>15614.988442</td>\n",
       "    </tr>\n",
       "    <tr>\n",
       "      <th>7</th>\n",
       "      <td>(14.91%, 60 mo., $9,900)</td>\n",
       "      <td>LogisticRegression</td>\n",
       "      <td>2171.511279</td>\n",
       "    </tr>\n",
       "    <tr>\n",
       "      <th>8</th>\n",
       "      <td>(10.71%, 36 mo., $500)</td>\n",
       "      <td>Theoretical</td>\n",
       "      <td>86.827983</td>\n",
       "    </tr>\n",
       "    <tr>\n",
       "      <th>9</th>\n",
       "      <td>(7.90%, 36 mo., $35,000)</td>\n",
       "      <td>Theoretical</td>\n",
       "      <td>4425.720021</td>\n",
       "    </tr>\n",
       "    <tr>\n",
       "      <th>10</th>\n",
       "      <td>(23.59%, 60 mo., $35,000)</td>\n",
       "      <td>Theoretical</td>\n",
       "      <td>24914.007363</td>\n",
       "    </tr>\n",
       "    <tr>\n",
       "      <th>11</th>\n",
       "      <td>(14.91%, 60 mo., $9,900)</td>\n",
       "      <td>Theoretical</td>\n",
       "      <td>4203.172176</td>\n",
       "    </tr>\n",
       "  </tbody>\n",
       "</table>\n",
       "</div>"
      ],
      "text/plain": [
       "                          cfg                 clf        return\n",
       "0      (10.71%, 36 mo., $500)     DummyClassifier     -6.374047\n",
       "1    (7.90%, 36 mo., $35,000)     DummyClassifier  -1463.615562\n",
       "2   (23.59%, 60 mo., $35,000)     DummyClassifier  11152.869036\n",
       "3    (14.91%, 60 mo., $9,900)     DummyClassifier   1403.403017\n",
       "4      (10.71%, 36 mo., $500)  LogisticRegression     10.626142\n",
       "5    (7.90%, 36 mo., $35,000)  LogisticRegression   -560.621189\n",
       "6   (23.59%, 60 mo., $35,000)  LogisticRegression  15614.988442\n",
       "7    (14.91%, 60 mo., $9,900)  LogisticRegression   2171.511279\n",
       "8      (10.71%, 36 mo., $500)         Theoretical     86.827983\n",
       "9    (7.90%, 36 mo., $35,000)         Theoretical   4425.720021\n",
       "10  (23.59%, 60 mo., $35,000)         Theoretical  24914.007363\n",
       "11   (14.91%, 60 mo., $9,900)         Theoretical   4203.172176"
      ]
     },
     "metadata": {},
     "output_type": "display_data"
    },
    {
     "name": "stdout",
     "output_type": "stream",
     "text": [
      "CPU times: user 322 ms, sys: 582 ms, total: 904 ms\n",
      "Wall time: 358 ms\n"
     ]
    }
   ],
   "source": [
    "%%time\n",
    "best_t = 0.75\n",
    "df_returns_best_t, _ = plot_cost_function_based_threshold_tuning_plots(best_pipe, best_dummy_pipe, X_val, y_val, confs, [best_t])\n",
    "df_returns_best_t = threshold_tuning_reshaping(df_returns_best_t)\n",
    "display(df_returns_best_t)"
   ]
  },
  {
   "cell_type": "code",
   "execution_count": null,
   "metadata": {},
   "outputs": [],
   "source": []
  },
  {
   "cell_type": "code",
   "execution_count": 52,
   "metadata": {
    "execution": {
     "iopub.execute_input": "2020-11-13T15:44:19.972521Z",
     "iopub.status.busy": "2020-11-13T15:44:19.972345Z",
     "iopub.status.idle": "2020-11-13T15:44:20.217417Z",
     "shell.execute_reply": "2020-11-13T15:44:20.216963Z",
     "shell.execute_reply.started": "2020-11-13T15:44:19.972493Z"
    }
   },
   "outputs": [
    {
     "data": {
      "image/png": "[encoded data removed]",
      "text/plain": [
       "<Figure size 576x288 with 1 Axes>"
      ]
     },
     "metadata": {},
     "output_type": "display_data"
    }
   ],
   "source": [
    "plot_returns(\n",
    "    df_returns_best_t.sort_values(by=[\"clf\", \"return\"], ascending=[False, False]),\n",
    "    ptitle=\"Comparison of Theoretical (if paid on time) and Predicted* Returns\",\n",
    "    annotation_text=f\"*using optimal discrimination threshold ({best_t})\",\n",
    "    axis_tick_fontsize=12,\n",
    "    annotation_text_fontsize=10,\n",
    "    annotation_loc=(0.99, 0.01),\n",
    "    fig_size=(8, 4),\n",
    ")"
   ]
  },
  {
   "cell_type": "markdown",
   "metadata": {},
   "source": [
    "1. It is average becuase the model will not alwyas predict that you should fund such a loan. There are times when it incorrectly predicts that the loan should not be funded - in such a scenario, prospective return is lost. If you used an independent methd of predicting loans to fund, and the loan was paid off on time, then the return you earn would be the theoretical return from the above graph/table."
   ]
  },
  {
   "cell_type": "code",
   "execution_count": 24,
   "metadata": {
    "execution": {
     "iopub.execute_input": "2020-11-13T15:39:15.439633Z",
     "iopub.status.busy": "2020-11-13T15:39:15.439492Z",
     "iopub.status.idle": "2020-11-13T15:39:15.660568Z",
     "shell.execute_reply": "2020-11-13T15:39:15.660115Z",
     "shell.execute_reply.started": "2020-11-13T15:39:15.439605Z"
    }
   },
   "outputs": [
    {
     "name": "stdout",
     "output_type": "stream",
     "text": [
      "CPU times: user 654 ms, sys: 1.35 s, total: 2.01 s\n",
      "Wall time: 206 ms\n"
     ]
    }
   ],
   "source": [
    "%%time\n",
    "best_pipe.fit(X_train_val, y_train_val)\n",
    "best_dummy_pipe.fit(X_train_val, y_train_val)\n",
    "y_probs_test = best_pipe.predict_proba(X_test)[:, 1]"
   ]
  },
  {
   "cell_type": "code",
   "execution_count": 25,
   "metadata": {
    "execution": {
     "iopub.execute_input": "2020-11-13T15:39:15.661560Z",
     "iopub.status.busy": "2020-11-13T15:39:15.661266Z",
     "iopub.status.idle": "2020-11-13T15:39:15.710576Z",
     "shell.execute_reply": "2020-11-13T15:39:15.710069Z",
     "shell.execute_reply.started": "2020-11-13T15:39:15.661539Z"
    }
   },
   "outputs": [
    {
     "data": {
      "text/plain": [
       "[{'r': 8.07, 'n': ' 36 months', 'p': 500.0, 'ret': 64.63602189022333},\n",
       " {'r': 10.46, 'n': ' 36 months', 'p': 500.0, 'ret': 84.70453976034196},\n",
       " {'r': 7.49, 'n': ' 36 months', 'p': 35000.0, 'ret': 4188.048351118239},\n",
       " {'r': 23.52, 'n': ' 60 months', 'p': 35000.0, 'ret': 24829.067510758083},\n",
       " {'r': 17.27, 'n': ' 36 months', 'p': 10000.0, 'ret': 2883.408919678688}]"
      ]
     },
     "execution_count": 25,
     "metadata": {},
     "output_type": "execute_result"
    }
   ],
   "source": [
    "_, confs_test = get_components_of_returns(X_train_val)\n",
    "confs_test"
   ]
  },
  {
   "cell_type": "code",
   "execution_count": 26,
   "metadata": {
    "execution": {
     "iopub.execute_input": "2020-11-13T15:39:15.713417Z",
     "iopub.status.busy": "2020-11-13T15:39:15.713082Z",
     "iopub.status.idle": "2020-11-13T15:39:16.092952Z",
     "shell.execute_reply": "2020-11-13T15:39:16.092441Z",
     "shell.execute_reply.started": "2020-11-13T15:39:15.713395Z"
    }
   },
   "outputs": [
    {
     "data": {
      "text/html": [
       "<div>\n",
       "<style scoped>\n",
       "    .dataframe tbody tr th:only-of-type {\n",
       "        vertical-align: middle;\n",
       "    }\n",
       "\n",
       "    .dataframe tbody tr th {\n",
       "        vertical-align: top;\n",
       "    }\n",
       "\n",
       "    .dataframe thead th {\n",
       "        text-align: right;\n",
       "    }\n",
       "</style>\n",
       "<table border=\"1\" class=\"dataframe\">\n",
       "  <thead>\n",
       "    <tr style=\"text-align: right;\">\n",
       "      <th></th>\n",
       "      <th>cfg</th>\n",
       "      <th>clf</th>\n",
       "      <th>return</th>\n",
       "    </tr>\n",
       "  </thead>\n",
       "  <tbody>\n",
       "    <tr>\n",
       "      <th>0</th>\n",
       "      <td>(8.07%, 36 mo., $500)</td>\n",
       "      <td>DummyClassifier</td>\n",
       "      <td>-20.988655</td>\n",
       "    </tr>\n",
       "    <tr>\n",
       "      <th>1</th>\n",
       "      <td>(10.46%, 36 mo., $500)</td>\n",
       "      <td>DummyClassifier</td>\n",
       "      <td>-8.618246</td>\n",
       "    </tr>\n",
       "    <tr>\n",
       "      <th>2</th>\n",
       "      <td>(7.49%, 36 mo., $35,000)</td>\n",
       "      <td>DummyClassifier</td>\n",
       "      <td>-1676.610825</td>\n",
       "    </tr>\n",
       "    <tr>\n",
       "      <th>3</th>\n",
       "      <td>(23.52%, 60 mo., $35,000)</td>\n",
       "      <td>DummyClassifier</td>\n",
       "      <td>11046.692829</td>\n",
       "    </tr>\n",
       "    <tr>\n",
       "      <th>4</th>\n",
       "      <td>(17.27%, 36 mo., $10,000)</td>\n",
       "      <td>DummyClassifier</td>\n",
       "      <td>560.741114</td>\n",
       "    </tr>\n",
       "    <tr>\n",
       "      <th>5</th>\n",
       "      <td>(8.07%, 36 mo., $500)</td>\n",
       "      <td>LogisticRegression</td>\n",
       "      <td>-9.458296</td>\n",
       "    </tr>\n",
       "    <tr>\n",
       "      <th>6</th>\n",
       "      <td>(10.46%, 36 mo., $500)</td>\n",
       "      <td>LogisticRegression</td>\n",
       "      <td>6.131059</td>\n",
       "    </tr>\n",
       "    <tr>\n",
       "      <th>7</th>\n",
       "      <td>(7.49%, 36 mo., $35,000)</td>\n",
       "      <td>LogisticRegression</td>\n",
       "      <td>-923.455263</td>\n",
       "    </tr>\n",
       "    <tr>\n",
       "      <th>8</th>\n",
       "      <td>(23.52%, 60 mo., $35,000)</td>\n",
       "      <td>LogisticRegression</td>\n",
       "      <td>15110.622176</td>\n",
       "    </tr>\n",
       "    <tr>\n",
       "      <th>9</th>\n",
       "      <td>(17.27%, 36 mo., $10,000)</td>\n",
       "      <td>LogisticRegression</td>\n",
       "      <td>1046.491202</td>\n",
       "    </tr>\n",
       "    <tr>\n",
       "      <th>10</th>\n",
       "      <td>(8.07%, 36 mo., $500)</td>\n",
       "      <td>Theoretical</td>\n",
       "      <td>64.636022</td>\n",
       "    </tr>\n",
       "    <tr>\n",
       "      <th>11</th>\n",
       "      <td>(10.46%, 36 mo., $500)</td>\n",
       "      <td>Theoretical</td>\n",
       "      <td>84.704540</td>\n",
       "    </tr>\n",
       "    <tr>\n",
       "      <th>12</th>\n",
       "      <td>(7.49%, 36 mo., $35,000)</td>\n",
       "      <td>Theoretical</td>\n",
       "      <td>4188.048351</td>\n",
       "    </tr>\n",
       "    <tr>\n",
       "      <th>13</th>\n",
       "      <td>(23.52%, 60 mo., $35,000)</td>\n",
       "      <td>Theoretical</td>\n",
       "      <td>24829.067511</td>\n",
       "    </tr>\n",
       "    <tr>\n",
       "      <th>14</th>\n",
       "      <td>(17.27%, 36 mo., $10,000)</td>\n",
       "      <td>Theoretical</td>\n",
       "      <td>2883.408920</td>\n",
       "    </tr>\n",
       "  </tbody>\n",
       "</table>\n",
       "</div>"
      ],
      "text/plain": [
       "                          cfg                 clf        return\n",
       "0       (8.07%, 36 mo., $500)     DummyClassifier    -20.988655\n",
       "1      (10.46%, 36 mo., $500)     DummyClassifier     -8.618246\n",
       "2    (7.49%, 36 mo., $35,000)     DummyClassifier  -1676.610825\n",
       "3   (23.52%, 60 mo., $35,000)     DummyClassifier  11046.692829\n",
       "4   (17.27%, 36 mo., $10,000)     DummyClassifier    560.741114\n",
       "5       (8.07%, 36 mo., $500)  LogisticRegression     -9.458296\n",
       "6      (10.46%, 36 mo., $500)  LogisticRegression      6.131059\n",
       "7    (7.49%, 36 mo., $35,000)  LogisticRegression   -923.455263\n",
       "8   (23.52%, 60 mo., $35,000)  LogisticRegression  15110.622176\n",
       "9   (17.27%, 36 mo., $10,000)  LogisticRegression   1046.491202\n",
       "10      (8.07%, 36 mo., $500)         Theoretical     64.636022\n",
       "11     (10.46%, 36 mo., $500)         Theoretical     84.704540\n",
       "12   (7.49%, 36 mo., $35,000)         Theoretical   4188.048351\n",
       "13  (23.52%, 60 mo., $35,000)         Theoretical  24829.067511\n",
       "14  (17.27%, 36 mo., $10,000)         Theoretical   2883.408920"
      ]
     },
     "metadata": {},
     "output_type": "display_data"
    },
    {
     "name": "stdout",
     "output_type": "stream",
     "text": [
      "CPU times: user 431 ms, sys: 820 ms, total: 1.25 s\n",
      "Wall time: 360 ms\n"
     ]
    }
   ],
   "source": [
    "%%time\n",
    "df_returns_best_t_test, _ = plot_cost_function_based_threshold_tuning_plots(best_pipe, best_dummy_pipe, X_test, y_test, confs_test, [best_t])\n",
    "df_returns_best_t_test = threshold_tuning_reshaping(df_returns_best_t_test)\n",
    "display(df_returns_best_t_test)"
   ]
  },
  {
   "cell_type": "code",
   "execution_count": 53,
   "metadata": {
    "execution": {
     "iopub.execute_input": "2020-11-13T15:44:25.852550Z",
     "iopub.status.busy": "2020-11-13T15:44:25.852318Z",
     "iopub.status.idle": "2020-11-13T15:44:26.060583Z",
     "shell.execute_reply": "2020-11-13T15:44:26.060016Z",
     "shell.execute_reply.started": "2020-11-13T15:44:25.852527Z"
    }
   },
   "outputs": [
    {
     "data": {
      "image/png": "[encoded data removed]",
      "text/plain": [
       "<Figure size 576x288 with 1 Axes>"
      ]
     },
     "metadata": {},
     "output_type": "display_data"
    }
   ],
   "source": [
    "plot_returns(\n",
    "    df_returns_best_t_test.sort_values(by=[\"clf\", \"return\"], ascending=[False, False]),\n",
    "    ptitle=\"Comparison of Theoretical (if paid on time) and Predicted* Returns\",\n",
    "    annotation_text=f\"*using optimal discrimination threshold ({best_t})\",\n",
    "    axis_tick_fontsize=12,\n",
    "    annotation_text_fontsize=10,\n",
    "    annotation_loc=(0.99, 0.01),\n",
    "    fig_size=(8, 4),\n",
    ")"
   ]
  },
  {
   "cell_type": "code",
   "execution_count": 28,
   "metadata": {
    "execution": {
     "iopub.execute_input": "2020-11-13T15:39:16.326036Z",
     "iopub.status.busy": "2020-11-13T15:39:16.325861Z",
     "iopub.status.idle": "2020-11-13T15:39:16.364358Z",
     "shell.execute_reply": "2020-11-13T15:39:16.363875Z",
     "shell.execute_reply.started": "2020-11-13T15:39:16.326022Z"
    }
   },
   "outputs": [
    {
     "data": {
      "text/html": [
       "<div>\n",
       "<style scoped>\n",
       "    .dataframe tbody tr th:only-of-type {\n",
       "        vertical-align: middle;\n",
       "    }\n",
       "\n",
       "    .dataframe tbody tr th {\n",
       "        vertical-align: top;\n",
       "    }\n",
       "\n",
       "    .dataframe thead th {\n",
       "        text-align: right;\n",
       "    }\n",
       "</style>\n",
       "<table border=\"1\" class=\"dataframe\">\n",
       "  <thead>\n",
       "    <tr style=\"text-align: right;\">\n",
       "      <th></th>\n",
       "      <th>0</th>\n",
       "    </tr>\n",
       "  </thead>\n",
       "  <tbody>\n",
       "    <tr>\n",
       "      <th>test_recall_binary</th>\n",
       "      <td>0.159797</td>\n",
       "    </tr>\n",
       "    <tr>\n",
       "      <th>test_fpr</th>\n",
       "      <td>0.047299</td>\n",
       "    </tr>\n",
       "    <tr>\n",
       "      <th>test_pr_auc</th>\n",
       "      <td>0.276734</td>\n",
       "    </tr>\n",
       "    <tr>\n",
       "      <th>test_roc_auc</th>\n",
       "      <td>0.556249</td>\n",
       "    </tr>\n",
       "  </tbody>\n",
       "</table>\n",
       "</div>"
      ],
      "text/plain": [
       "                           0\n",
       "test_recall_binary  0.159797\n",
       "test_fpr            0.047299\n",
       "test_pr_auc         0.276734\n",
       "test_roc_auc        0.556249"
      ]
     },
     "metadata": {},
     "output_type": "display_data"
    }
   ],
   "source": [
    "df_scores, y_pred_test_selected_threshold = get_eval_metrics(\n",
    "    y_test.to_numpy(), y_probs_test, split=\"test\", threshold=best_t\n",
    ")\n",
    "display(df_scores.T)"
   ]
  },
  {
   "cell_type": "code",
   "execution_count": 70,
   "metadata": {
    "execution": {
     "iopub.execute_input": "2020-11-13T15:58:24.700865Z",
     "iopub.status.busy": "2020-11-13T15:58:24.700411Z",
     "iopub.status.idle": "2020-11-13T15:58:24.804869Z",
     "shell.execute_reply": "2020-11-13T15:58:24.804404Z",
     "shell.execute_reply.started": "2020-11-13T15:58:24.700814Z"
    }
   },
   "outputs": [
    {
     "data": {
      "text/html": [
       "\n",
       "<div id=\"altair-viz-b086950f256f4da69ce757f02d386a4f\"></div>\n",
       "<script type=\"text/javascript\">\n",
       "  (function(spec, embedOpt){\n",
       "    let outputDiv = document.currentScript.previousElementSibling;\n",
       "    if (outputDiv.id !== \"altair-viz-b086950f256f4da69ce757f02d386a4f\") {\n",
       "      outputDiv = document.getElementById(\"altair-viz-b086950f256f4da69ce757f02d386a4f\");\n",
       "    }\n",
       "    const paths = {\n",
       "      \"vega\": \"https://cdn.jsdelivr.net/npm//vega@5?noext\",\n",
       "      \"vega-lib\": \"https://cdn.jsdelivr.net/npm//vega-lib?noext\",\n",
       "      \"vega-lite\": \"https://cdn.jsdelivr.net/npm//vega-lite@4.8.1?noext\",\n",
       "      \"vega-embed\": \"https://cdn.jsdelivr.net/npm//vega-embed@6?noext\",\n",
       "    };\n",
       "\n",
       "    function loadScript(lib) {\n",
       "      return new Promise(function(resolve, reject) {\n",
       "        var s = document.createElement('script');\n",
       "        s.src = paths[lib];\n",
       "        s.async = true;\n",
       "        s.onload = () => resolve(paths[lib]);\n",
       "        s.onerror = () => reject(`Error loading script: ${paths[lib]}`);\n",
       "        document.getElementsByTagName(\"head\")[0].appendChild(s);\n",
       "      });\n",
       "    }\n",
       "\n",
       "    function showError(err) {\n",
       "      outputDiv.innerHTML = `<div class=\"error\" style=\"color:red;\">${err}</div>`;\n",
       "      throw err;\n",
       "    }\n",
       "\n",
       "    function displayChart(vegaEmbed) {\n",
       "      vegaEmbed(outputDiv, spec, embedOpt)\n",
       "        .catch(err => showError(`Javascript Error: ${err.message}<br>This usually means there's a typo in your chart specification. See the javascript console for the full traceback.`));\n",
       "    }\n",
       "\n",
       "    if(typeof define === \"function\" && define.amd) {\n",
       "      requirejs.config({paths});\n",
       "      require([\"vega-embed\"], displayChart, err => showError(`Error loading script: ${err.message}`));\n",
       "    } else if (typeof vegaEmbed === \"function\") {\n",
       "      displayChart(vegaEmbed);\n",
       "    } else {\n",
       "      loadScript(\"vega\")\n",
       "        .then(() => loadScript(\"vega-lite\"))\n",
       "        .then(() => loadScript(\"vega-embed\"))\n",
       "        .catch(showError)\n",
       "        .then(() => displayChart(vegaEmbed));\n",
       "    }\n",
       "  })({\"config\": {\"view\": {\"continuousWidth\": 400, \"continuousHeight\": 300}, \"title\": {\"anchor\": \"middle\", \"fontSize\": 12}}, \"hconcat\": [{\"data\": {\"name\": \"data-0716a91c954e9012009e7bdbaf3d1b1f\"}, \"mark\": \"bar\", \"encoding\": {\"color\": {\"type\": \"nominal\", \"field\": \"actual\", \"legend\": {\"offset\": 3.5}}, \"tooltip\": [{\"type\": \"quantitative\", \"field\": \"actual\", \"title\": \"Actual\"}, {\"type\": \"quantitative\", \"field\": \"predicted\", \"title\": \"Predicted\"}, {\"type\": \"quantitative\", \"aggregate\": \"sum\", \"field\": \"value\", \"format\": \",.0f\", \"title\": \"Number\"}], \"x\": {\"type\": \"nominal\", \"axis\": {\"title\": \"\"}, \"field\": \"predicted\"}, \"y\": {\"type\": \"quantitative\", \"aggregate\": \"sum\", \"axis\": {\"title\": \"number of predicted class\"}, \"field\": \"value\"}}, \"height\": 300, \"title\": {\"text\": \"Class Prediction Error\", \"offset\": -7}, \"width\": 150}, {\"layer\": [{\"mark\": {\"type\": \"rect\", \"stroke\": \"white\", \"strokeWidth\": 2}, \"encoding\": {\"color\": {\"type\": \"quantitative\", \"field\": \"value\", \"legend\": null, \"scale\": {\"scheme\": \"yelloworangered\", \"type\": \"log\"}}, \"x\": {\"type\": \"nominal\", \"field\": \"predicted\", \"title\": \"Predicted Class\"}, \"y\": {\"type\": \"nominal\", \"field\": \"actual\", \"title\": \"Actual Class\"}}, \"title\": {\"text\": \"Confusion Matrix\", \"offset\": -5}}, {\"mark\": {\"type\": \"text\", \"baseline\": \"middle\"}, \"encoding\": {\"color\": {\"condition\": {\"value\": \"white\", \"test\": \"(datum.value > 3117.25)\"}, \"value\": \"black\"}, \"text\": {\"type\": \"quantitative\", \"field\": \"value\", \"format\": \",.0f\"}, \"x\": {\"type\": \"nominal\", \"field\": \"predicted\", \"title\": \"Predicted Class\"}, \"y\": {\"type\": \"nominal\", \"field\": \"actual\", \"title\": \"Actual Class\"}}, \"title\": {\"text\": \"Confusion Matrix\", \"offset\": -5}}], \"data\": {\"name\": \"data-0716a91c954e9012009e7bdbaf3d1b1f\"}, \"height\": 300, \"width\": 150}, {\"layer\": [{\"mark\": {\"type\": \"rect\", \"stroke\": \"white\", \"strokeWidth\": 2}, \"encoding\": {\"color\": {\"type\": \"quantitative\", \"field\": \"value\", \"legend\": null, \"scale\": {\"scheme\": \"yelloworangered\", \"type\": \"log\"}}, \"x\": {\"type\": \"nominal\", \"field\": \"metric\", \"title\": \"\"}, \"y\": {\"type\": \"nominal\", \"field\": \"class\", \"title\": \"\"}}, \"title\": {\"text\": \"Classification Report\", \"offset\": -5}}, {\"mark\": {\"type\": \"text\", \"baseline\": \"middle\"}, \"encoding\": {\"color\": {\"condition\": {\"value\": \"white\", \"test\": \"(datum.value > 0.5792951931178055)\"}, \"value\": \"black\"}, \"text\": {\"type\": \"quantitative\", \"field\": \"value\", \"format\": \".3f\"}, \"x\": {\"type\": \"nominal\", \"field\": \"metric\", \"title\": \"\"}, \"y\": {\"type\": \"nominal\", \"field\": \"class\", \"title\": \"\"}}, \"title\": {\"text\": \"Classification Report\", \"offset\": -5}}, {\"layer\": [{\"mark\": {\"type\": \"rect\", \"stroke\": \"white\", \"strokeWidth\": 2}, \"encoding\": {\"color\": {\"type\": \"quantitative\", \"field\": \"value\", \"legend\": null, \"scale\": {\"scheme\": \"yelloworangered\", \"type\": \"log\"}}, \"x\": {\"type\": \"nominal\", \"field\": \"metric\", \"title\": \"\"}, \"y\": {\"type\": \"nominal\", \"field\": \"class\", \"title\": \"\"}}, \"title\": \"\"}, {\"mark\": {\"type\": \"text\", \"baseline\": \"middle\"}, \"encoding\": {\"color\": {\"condition\": {\"value\": \"white\", \"test\": \"(datum.value > 6234.5)\"}, \"value\": \"black\"}, \"text\": {\"type\": \"quantitative\", \"field\": \"value\", \"format\": \",.0f\"}, \"x\": {\"type\": \"nominal\", \"field\": \"metric\", \"title\": \"\"}, \"y\": {\"type\": \"nominal\", \"field\": \"class\", \"title\": \"\"}}, \"title\": \"\"}], \"data\": {\"name\": \"data-0502160f291cf14fb790d928b2ddf595\"}, \"height\": 300, \"width\": 100}], \"data\": {\"name\": \"data-ef69fa1b19dd03af36342d2d90175c9e\"}, \"height\": 300, \"resolve\": {\"scale\": {\"color\": \"independent\"}}, \"width\": 250}], \"$schema\": \"https://vega.github.io/schema/vega-lite/v4.8.1.json\", \"datasets\": {\"data-0716a91c954e9012009e7bdbaf3d1b1f\": [{\"actual\": 0, \"predicted\": 0, \"value\": 10192}, {\"actual\": 0, \"predicted\": 1, \"value\": 1488}, {\"actual\": 1, \"predicted\": 0, \"value\": 506}, {\"actual\": 1, \"predicted\": 1, \"value\": 283}], \"data-ef69fa1b19dd03af36342d2d90175c9e\": [{\"metric\": \"precision\", \"class\": 0, \"value\": 0.8726027397260274}, {\"metric\": \"precision\", \"class\": 1, \"value\": 0.35868187579214195}, {\"metric\": \"recall\", \"class\": 0, \"value\": 0.9527014395214058}, {\"metric\": \"recall\", \"class\": 1, \"value\": 0.15979672501411632}, {\"metric\": \"f1-score\", \"class\": 0, \"value\": 0.9108946286531414}, {\"metric\": \"f1-score\", \"class\": 1, \"value\": 0.22109374999999998}], \"data-0502160f291cf14fb790d928b2ddf595\": [{\"metric\": \"support\", \"class\": 0, \"value\": 10698.0}, {\"metric\": \"support\", \"class\": 1, \"value\": 1771.0}]}}, {\"mode\": \"vega-lite\"});\n",
       "</script>"
      ],
      "text/plain": [
       "alt.HConcatChart(...)"
      ]
     },
     "execution_count": 70,
     "metadata": {},
     "output_type": "execute_result"
    }
   ],
   "source": [
    "df_cm = (\n",
    "    pd.DataFrame(\n",
    "        mr.confusion_matrix(\n",
    "            y_test,\n",
    "            y_pred_test_selected_threshold,\n",
    "            labels=np.sort(np.unique(y_train_val)),\n",
    "        ),\n",
    "        index=np.sort(np.unique(y_train_val)),\n",
    "        columns=np.sort(np.unique(y_train_val)),\n",
    "    )\n",
    "    .rename_axis(\"actual\", axis=\"columns\")\n",
    "    .rename_axis(\"predicted\", axis=\"rows\")\n",
    ")\n",
    "df_cr = pd.DataFrame(\n",
    "    mr.classification_report(\n",
    "        y_test,\n",
    "        y_pred_test_selected_threshold,\n",
    "        target_names=np.sort(np.unique(y_train_val)),\n",
    "        output_dict=True,\n",
    "    )\n",
    ").T\n",
    "plot_altair_grid(\n",
    "    df_cm,\n",
    "    df_cr,\n",
    "    ptitle_offset=-5,\n",
    "    cpe_figsize=(150, 300),\n",
    "    cm_figsize=(150, 300),\n",
    "    cr_figsize=[(250, 300), (100, 300)],\n",
    ")"
   ]
  },
  {
   "cell_type": "code",
   "execution_count": 50,
   "metadata": {
    "execution": {
     "iopub.execute_input": "2020-11-13T15:42:48.663217Z",
     "iopub.status.busy": "2020-11-13T15:42:48.663035Z",
     "iopub.status.idle": "2020-11-13T15:42:48.872655Z",
     "shell.execute_reply": "2020-11-13T15:42:48.872132Z",
     "shell.execute_reply.started": "2020-11-13T15:42:48.663188Z"
    }
   },
   "outputs": [
    {
     "data": {
      "image/png": "[encoded data removed]",
      "text/plain": [
       "<Figure size 864x288 with 2 Axes>"
      ]
     },
     "metadata": {},
     "output_type": "display_data"
    }
   ],
   "source": [
    "plot_pr_roc_curves(\n",
    "    y_test,\n",
    "    y_probs_test,\n",
    "    type(best_pipe.named_steps[\"clf\"]).__name__,\n",
    "    axis_tick_label_fontsize=12,\n",
    "    wspace=0.1,\n",
    "    legend_position=(0.3, 1.1),\n",
    "    fig_size=(12, 4),\n",
    ")"
   ]
  },
  {
   "cell_type": "code",
   "execution_count": 236,
   "metadata": {
    "execution": {
     "iopub.execute_input": "2020-11-13T20:58:26.442553Z",
     "iopub.status.busy": "2020-11-13T20:58:26.442366Z",
     "iopub.status.idle": "2020-11-13T20:59:01.397814Z",
     "shell.execute_reply": "2020-11-13T20:59:01.397310Z",
     "shell.execute_reply.started": "2020-11-13T20:58:26.442524Z"
    }
   },
   "outputs": [
    {
     "name": "stdout",
     "output_type": "stream",
     "text": [
      "CPU times: user 5.34 s, sys: 1.01 s, total: 6.35 s\n",
      "Wall time: 34.8 s\n"
     ]
    },
    {
     "data": {
      "image/png": "[encoded data removed]",
      "text/plain": [
       "<Figure size 576x576 with 1 Axes>"
      ]
     },
     "metadata": {},
     "output_type": "display_data"
    }
   ],
   "source": [
    "%%time\n",
    "manual_plot_permutation_importance(\n",
    "    X_test,\n",
    "    y_test,\n",
    "    best_pipe,\n",
    "    best_t,\n",
    "    2,\n",
    "    \"test\",\n",
    "    \"Permutation Importances\",\n",
    "    14,\n",
    "    12,\n",
    "    14,\n",
    "    \"cyan\",\n",
    "    (8,8),\n",
    ")"
   ]
  },
  {
   "cell_type": "markdown",
   "metadata": {},
   "source": [
    "1. For a given (`r`, `n`, `P`), calculate\n",
    "   - average predicted return per loan ( $\\overline{A}$ )\n",
    "     - assumption: every loan in dataset has this (`r`, `n`, `P`)\n",
    "     - A. calculate overall predicted return using formula for `ds`\n",
    "       - this takes ML model's predictive power into account\n",
    "     - B. divide overall predicted return by number of loans\n",
    "       - this gives the average return predicted by the model, per loan\n",
    "   - theoretical return (`T`)\n",
    "     - this is the sum of `n` [monthly returns](https://www.vertex42.com/ExcelArticles/amortization-calculation.html) that a prospective funder of the loan would expect to receive if the loan is paid off on time\n",
    "   - difference (`D`) between average predicted and theoretical return\n",
    "     - `D` = $\\overline{A}$ - `T`\n",
    "2. Calculate mean of the differences ( $\\overline{D}$ )\n",
    "3. Shuffle single ML feature and re-calculate mean of differences ( $\\overline{D}$ ) from step 2.\n",
    "4. Calculate difference (`D1`) bewteen mean values found in steps 2. (without shuffling) and 3. (with shuffling)\n",
    "5. Repeat steps 2. to 4. 10 times\n",
    "   - in other words, shuffle the same column 10 times and calculate the differences (`D2`, ..., `D10`) between mean values found in steps 2. (without shuffling) and 3. (with shuffling)\n",
    "6. Plot all the differences `D1`, ..., `D10`\n",
    "7. The higher the difference the more impactful the ML feature is to the predictive model developed here"
   ]
  },
  {
   "cell_type": "code",
   "execution_count": 233,
   "metadata": {
    "execution": {
     "iopub.execute_input": "2020-11-13T20:57:54.730564Z",
     "iopub.status.busy": "2020-11-13T20:57:54.730206Z",
     "iopub.status.idle": "2020-11-13T20:57:54.750486Z",
     "shell.execute_reply": "2020-11-13T20:57:54.750026Z",
     "shell.execute_reply.started": "2020-11-13T20:57:54.730523Z"
    }
   },
   "outputs": [],
   "source": [
    "multi_scorers = {\n",
    "    \"recall_binary\": mr.make_scorer(\n",
    "        threshold_recall_score,\n",
    "        greater_is_better=True,\n",
    "        needs_proba=True,\n",
    "        threshold=best_t,\n",
    "    ),\n",
    "    \"fpr\": mr.make_scorer(\n",
    "        threshold_fpr_score,\n",
    "        greater_is_better=False,\n",
    "        needs_proba=True,\n",
    "        threshold=best_t,\n",
    "    ),\n",
    "}"
   ]
  },
  {
   "cell_type": "code",
   "execution_count": 234,
   "metadata": {
    "execution": {
     "iopub.execute_input": "2020-11-13T20:57:56.358655Z",
     "iopub.status.busy": "2020-11-13T20:57:56.358485Z",
     "iopub.status.idle": "2020-11-13T20:57:58.436149Z",
     "shell.execute_reply": "2020-11-13T20:57:58.435603Z",
     "shell.execute_reply.started": "2020-11-13T20:57:56.358627Z"
    }
   },
   "outputs": [
    {
     "name": "stdout",
     "output_type": "stream",
     "text": [
      "CPU times: user 263 ms, sys: 354 ms, total: 617 ms\n",
      "Wall time: 1.9 s\n"
     ]
    },
    {
     "data": {
      "image/png": "[encoded data removed]",
      "text/plain": [
       "<Figure size 576x576 with 1 Axes>"
      ]
     },
     "metadata": {},
     "output_type": "display_data"
    }
   ],
   "source": [
    "%%time\n",
    "plot_permutation_importances(\n",
    "    best_pipe,\n",
    "    X_test,\n",
    "    y_test,\n",
    "    scorer=multi_scorers[\"recall_binary\"],\n",
    "    n_repeats=10,\n",
    "    fig_title_fontsize=14,\n",
    "    fig_title_vertical_pos=0.97,\n",
    "    axis_tick_label_fontsize=12,\n",
    "    axis_label_fontsize=14,\n",
    "    box_color=\"cyan\",\n",
    "    fig_size=(8, 8),\n",
    ")"
   ]
  },
  {
   "cell_type": "code",
   "execution_count": 235,
   "metadata": {
    "execution": {
     "iopub.execute_input": "2020-11-13T20:57:59.499620Z",
     "iopub.status.busy": "2020-11-13T20:57:59.499428Z",
     "iopub.status.idle": "2020-11-13T20:58:00.671036Z",
     "shell.execute_reply": "2020-11-13T20:58:00.670267Z",
     "shell.execute_reply.started": "2020-11-13T20:57:59.499598Z"
    }
   },
   "outputs": [
    {
     "name": "stdout",
     "output_type": "stream",
     "text": [
      "CPU times: user 479 ms, sys: 904 ms, total: 1.38 s\n",
      "Wall time: 1.03 s\n"
     ]
    },
    {
     "data": {
      "image/png": "[encoded data removed]",
      "text/plain": [
       "<Figure size 576x576 with 1 Axes>"
      ]
     },
     "metadata": {},
     "output_type": "display_data"
    }
   ],
   "source": [
    "%%time\n",
    "plot_permutation_importances(\n",
    "    best_pipe,\n",
    "    X_test,\n",
    "    y_test,\n",
    "    scorer=multi_scorers[\"fpr\"],\n",
    "    n_repeats=10,\n",
    "    fig_title_fontsize=14,\n",
    "    fig_title_vertical_pos=0.97,\n",
    "    axis_tick_label_fontsize=12,\n",
    "    axis_label_fontsize=14,\n",
    "    box_color=\"cyan\",\n",
    "    fig_size=(8, 8),\n",
    ")"
   ]
  },
  {
   "cell_type": "code",
   "execution_count": 214,
   "metadata": {
    "execution": {
     "iopub.execute_input": "2020-11-13T18:23:33.341031Z",
     "iopub.status.busy": "2020-11-13T18:23:33.340765Z",
     "iopub.status.idle": "2020-11-13T18:23:33.370540Z",
     "shell.execute_reply": "2020-11-13T18:23:33.369844Z",
     "shell.execute_reply.started": "2020-11-13T18:23:33.341010Z"
    }
   },
   "outputs": [],
   "source": [
    "cv = ShuffleSplit(n_splits=5, test_size=0.2, random_state=0)\n",
    "X_all = pd.concat([X_train_val.iloc[:, :], X_test.iloc[:, :]]).reset_index(drop=True)\n",
    "y_all = pd.concat([y_train_val[:], y_test[:]]).reset_index(drop=True)"
   ]
  },
  {
   "cell_type": "code",
   "execution_count": 230,
   "metadata": {
    "execution": {
     "iopub.execute_input": "2020-11-13T18:59:32.435093Z",
     "iopub.status.busy": "2020-11-13T18:59:32.434939Z",
     "iopub.status.idle": "2020-11-13T18:59:32.712617Z",
     "shell.execute_reply": "2020-11-13T18:59:32.712178Z",
     "shell.execute_reply.started": "2020-11-13T18:59:32.435076Z"
    }
   },
   "outputs": [
    {
     "name": "stdout",
     "output_type": "stream",
     "text": [
      "CPU times: user 93.3 ms, sys: 79 µs, total: 93.4 ms\n",
      "Wall time: 89.7 ms\n"
     ]
    },
    {
     "data": {
      "image/png": "[encoded data removed]",
      "text/plain": [
       "<Figure size 504x864 with 3 Axes>"
      ]
     },
     "metadata": {},
     "output_type": "display_data"
    }
   ],
   "source": [
    "%%time\n",
    "scores, train_sizes = learning_curve(best_pipe, X_all, y_all, cv, 5, best_t)\n",
    "scores_grouped = scores.groupby([\"train_size\"]).agg({\"train_err\": [\"mean\", \"std\"], \"test_err\": [\"mean\", \"std\"], \"fit_time\": [\"mean\", \"std\"], \"clf\":\"first\"}).reset_index()\n",
    "scores_grouped.columns = scores_grouped.columns.map('|'.join)\n",
    "display(scores_grouped)\n",
    "manual_learning_curve(\n",
    "    scores_grouped,\n",
    "    alpha=0.2,\n",
    "    hspace=0.2,\n",
    "    wspace=0.2,\n",
    "    axis_tick_label_fontsize=12,\n",
    "    figsize=(7, 12),\n",
    ")"
   ]
  },
  {
   "cell_type": "code",
   "execution_count": 231,
   "metadata": {
    "execution": {
     "iopub.execute_input": "2020-11-13T18:59:41.366898Z",
     "iopub.status.busy": "2020-11-13T18:59:41.366400Z",
     "iopub.status.idle": "2020-11-13T18:59:43.363811Z",
     "shell.execute_reply": "2020-11-13T18:59:43.363285Z",
     "shell.execute_reply.started": "2020-11-13T18:59:41.366840Z"
    }
   },
   "outputs": [
    {
     "name": "stdout",
     "output_type": "stream",
     "text": [
      "CPU times: user 245 ms, sys: 15.5 ms, total: 261 ms\n",
      "Wall time: 1.78 s\n"
     ]
    },
    {
     "data": {
      "image/png": "[encoded data removed]",
      "text/plain": [
       "<Figure size 576x864 with 3 Axes>"
      ]
     },
     "metadata": {},
     "output_type": "display_data"
    }
   ],
   "source": [
    "%%time\n",
    "plot_learning_curve(\n",
    "    best_pipe,\n",
    "    f\"Learning Curves for {type(best_pipe.named_steps['clf']).__name__}\",\n",
    "    X=X_all,\n",
    "    y=y_all,\n",
    "    cv=cv,\n",
    "    scorer=multi_scorers[\"recall_binary\"],\n",
    "    n_jobs=-1,\n",
    "    train_sizes=np.linspace(0.1, 1.0, 5),\n",
    "    legend_coords=(0.7, 1),\n",
    "    axis_tick_label_fontsize=12,\n",
    "    fig_size=(8, 12),\n",
    ")"
   ]
  },
  {
   "cell_type": "code",
   "execution_count": 232,
   "metadata": {
    "execution": {
     "iopub.execute_input": "2020-11-13T18:59:43.364744Z",
     "iopub.status.busy": "2020-11-13T18:59:43.364625Z",
     "iopub.status.idle": "2020-11-13T18:59:45.274475Z",
     "shell.execute_reply": "2020-11-13T18:59:45.274007Z",
     "shell.execute_reply.started": "2020-11-13T18:59:43.364729Z"
    }
   },
   "outputs": [
    {
     "name": "stdout",
     "output_type": "stream",
     "text": [
      "CPU times: user 238 ms, sys: 24 ms, total: 262 ms\n",
      "Wall time: 1.71 s\n"
     ]
    },
    {
     "data": {
      "image/png": "[encoded data removed]",
      "text/plain": [
       "<Figure size 576x864 with 3 Axes>"
      ]
     },
     "metadata": {},
     "output_type": "display_data"
    }
   ],
   "source": [
    "%%time\n",
    "plot_learning_curve(\n",
    "    best_pipe,\n",
    "    f\"Learning Curves for {type(best_pipe.named_steps['clf']).__name__}\",\n",
    "    X=X_all,\n",
    "    y=y_all,\n",
    "    cv=cv,\n",
    "    scorer=multi_scorers[\"fpr\"],\n",
    "    n_jobs=-1,\n",
    "    train_sizes=np.linspace(0.1, 1.0, 5),\n",
    "    legend_coords=(0.7, 1),\n",
    "    axis_tick_label_fontsize=12,\n",
    "    fig_size=(8, 12),\n",
    ")"
   ]
  },
  {
   "cell_type": "code",
   "execution_count": 41,
   "metadata": {
    "execution": {
     "iopub.execute_input": "2020-11-13T15:39:16.847184Z",
     "iopub.status.busy": "2020-11-13T15:39:16.847063Z",
     "iopub.status.idle": "2020-11-13T15:39:16.860180Z",
     "shell.execute_reply": "2020-11-13T15:39:16.859721Z",
     "shell.execute_reply.started": "2020-11-13T15:39:16.847168Z"
    }
   },
   "outputs": [],
   "source": [
    "# y_pred_test_selected_threshold_series = pd.Series(\n",
    "#     y_pred_test_selected_threshold, index=X_test.index, name=\"pred\"\n",
    "# )\n",
    "# df_tp = df[[\"addr_state\"]].merge(\n",
    "#     pd.concat(\n",
    "#         [\n",
    "#             X_test[\n",
    "#                 [\n",
    "#                     \"purpose\",\n",
    "#                     \"home_ownership\",\n",
    "#                     \"emp_length\",\n",
    "#                     \"term\",\n",
    "#                 ]\n",
    "#                 + numerical_columns\n",
    "#             ],\n",
    "#             y_test,\n",
    "#             y_pred_test_selected_threshold_series,\n",
    "#         ],\n",
    "#         axis=1,\n",
    "#     ),\n",
    "#     left_index=True,\n",
    "#     right_index=True,\n",
    "#     how=\"inner\",\n",
    "# )"
   ]
  },
  {
   "cell_type": "code",
   "execution_count": 42,
   "metadata": {
    "execution": {
     "iopub.execute_input": "2020-11-13T15:39:16.860788Z",
     "iopub.status.busy": "2020-11-13T15:39:16.860663Z",
     "iopub.status.idle": "2020-11-13T15:39:16.873419Z",
     "shell.execute_reply": "2020-11-13T15:39:16.872851Z",
     "shell.execute_reply.started": "2020-11-13T15:39:16.860773Z"
    }
   },
   "outputs": [],
   "source": [
    "# df_tp[\"misclassified\"] = df_tp[\"is_default\"] != df_tp[\"pred\"]\n",
    "# display(df_tp)\n",
    "# display(df_tp.dtypes.to_frame())"
   ]
  },
  {
   "cell_type": "code",
   "execution_count": 43,
   "metadata": {
    "execution": {
     "iopub.execute_input": "2020-11-13T15:39:16.874282Z",
     "iopub.status.busy": "2020-11-13T15:39:16.874151Z",
     "iopub.status.idle": "2020-11-13T15:39:16.886620Z",
     "shell.execute_reply": "2020-11-13T15:39:16.886250Z",
     "shell.execute_reply.started": "2020-11-13T15:39:16.874266Z"
    }
   },
   "outputs": [],
   "source": [
    "# for c in numerical_columns:\n",
    "#     plot_grouped_histogram(df_tp, c, (0.675, 1.1), 0.5, 0.15, (12, 4))"
   ]
  },
  {
   "cell_type": "code",
   "execution_count": 44,
   "metadata": {
    "execution": {
     "iopub.execute_input": "2020-11-13T15:39:16.887343Z",
     "iopub.status.busy": "2020-11-13T15:39:16.887168Z",
     "iopub.status.idle": "2020-11-13T15:39:16.900086Z",
     "shell.execute_reply": "2020-11-13T15:39:16.899626Z",
     "shell.execute_reply.started": "2020-11-13T15:39:16.887321Z"
    }
   },
   "outputs": [],
   "source": [
    "# for col, wspace, fig_size in zip(\n",
    "#     [\"home_ownership\", \"purpose\", \"emp_length\", \"term\", \"addr_state\"],\n",
    "#     [0.25, 0.4, 0.1, 0.25, 0.1],\n",
    "#     [(12, 4), (12, 4), (12, 4), (12, 4), (12, 8)],\n",
    "# ):\n",
    "#     plot_grouped_bar_chart(df_tp, col, \"misclassified\", wspace, fig_size=fig_size)"
   ]
  },
  {
   "cell_type": "markdown",
   "metadata": {},
   "source": [
    "## Links\n",
    "1. [Find row closest to a value](https://stackoverflow.com/a/52587453/4057186)"
   ]
  }
 ],
 "metadata": {
  "kernelspec": {
   "display_name": "Python 3",
   "language": "python",
   "name": "python3"
  },
  "language_info": {
   "codemirror_mode": {
    "name": "ipython",
    "version": 3
   },
   "file_extension": ".py",
   "mimetype": "text/x-python",
   "name": "python",
   "nbconvert_exporter": "python",
   "pygments_lexer": "ipython3",
   "version": "3.8.5"
  },
  "toc-autonumbering": true
 },
 "nbformat": 4,
 "nbformat_minor": 4
}
